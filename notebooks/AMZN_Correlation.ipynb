{
 "cells": [
  {
   "cell_type": "markdown",
   "id": "dc0e602d",
   "metadata": {},
   "source": [
    "### AMZN Correlation\n",
    "Perform CA For AMZN"
   ]
  },
  {
   "cell_type": "code",
   "execution_count": 20,
   "id": "5199f047",
   "metadata": {},
   "outputs": [
    {
     "name": "stdout",
     "output_type": "stream",
     "text": [
      "The autoreload extension is already loaded. To reload it, use:\n",
      "  %reload_ext autoreload\n"
     ]
    }
   ],
   "source": [
    "# Enables automatic reloading of modules when they change and allows importing from the parent directory.\n",
    "'''\n",
    "Allow importing custom modules from the parent directory.\n",
    "Ensure that any changes to those modules (e.g., editing a .py file in the parent directory) \n",
    "are automatically reloaded when you run cells, making development and testing more efficient.\n",
    "'''\n",
    "\n",
    "%load_ext autoreload\n",
    "%autoreload 2\n",
    "import sys\n",
    "import os\n",
    "sys.path.append(os.path.abspath(\"..\"))"
   ]
  },
  {
   "cell_type": "code",
   "execution_count": 21,
   "id": "707d489b",
   "metadata": {},
   "outputs": [],
   "source": [
    "from scripts.correlation_analysis import ( load_data, analyze_sentiment, sentiment_distribution_plot\n",
    "                                          , daily_returns,plot_daily_returns, daily_sentiment_and_merge\n",
    "                                          ,plot_sentiment_and_daily_return_correlation, correlation_heatmap)"
   ]
  },
  {
   "cell_type": "code",
   "execution_count": 22,
   "id": "977c872e",
   "metadata": {},
   "outputs": [],
   "source": [
    "# Load the news and stock data\n",
    "# Ensure the paths are correct relative to the current working directory\n",
    "news_data = '../Data/raw_analyst_ratings.csv'\n",
    "stock_data = '../Data/AMZN_historical_data.csv'\n"
   ]
  },
  {
   "cell_type": "markdown",
   "id": "5b17a7d2",
   "metadata": {},
   "source": [
    "1. Date Alignment: Ensure that both datasets (news and stock prices) are aligned by dates. This might involve normalizing timestamps."
   ]
  },
  {
   "cell_type": "code",
   "execution_count": 23,
   "id": "ffc29016",
   "metadata": {},
   "outputs": [],
   "source": [
    "#Align the news and stock data\n",
    "aligned_data = load_data(news_data, stock_data)"
   ]
  },
  {
   "cell_type": "code",
   "execution_count": 24,
   "id": "786ee711",
   "metadata": {},
   "outputs": [
    {
     "data": {
      "application/vnd.microsoft.datawrangler.viewer.v0+json": {
       "columns": [
        {
         "name": "index",
         "rawType": "int64",
         "type": "integer"
        },
        {
         "name": "Unnamed: 0",
         "rawType": "int64",
         "type": "integer"
        },
        {
         "name": "headline",
         "rawType": "object",
         "type": "string"
        },
        {
         "name": "url",
         "rawType": "object",
         "type": "string"
        },
        {
         "name": "publisher",
         "rawType": "object",
         "type": "string"
        },
        {
         "name": "date",
         "rawType": "object",
         "type": "unknown"
        },
        {
         "name": "stock",
         "rawType": "object",
         "type": "string"
        },
        {
         "name": "Open",
         "rawType": "float64",
         "type": "float"
        },
        {
         "name": "High",
         "rawType": "float64",
         "type": "float"
        },
        {
         "name": "Low",
         "rawType": "float64",
         "type": "float"
        },
        {
         "name": "Close",
         "rawType": "float64",
         "type": "float"
        },
        {
         "name": "Adj Close",
         "rawType": "float64",
         "type": "float"
        },
        {
         "name": "Volume",
         "rawType": "int64",
         "type": "integer"
        },
        {
         "name": "Dividends",
         "rawType": "float64",
         "type": "float"
        },
        {
         "name": "Stock Splits",
         "rawType": "float64",
         "type": "float"
        }
       ],
       "ref": "f9d1c21c-0bc8-42dd-af7d-ddb462b9f146",
       "rows": [
        [
         "0",
         "0",
         "Stocks That Hit 52-Week Highs On Friday",
         "https://www.benzinga.com/news/20/06/16190091/stocks-that-hit-52-week-highs-on-friday",
         "Benzinga Insights",
         "2020-06-05",
         "A",
         "122.22550201416016",
         "124.43250274658205",
         "121.85649871826172",
         "124.1500015258789",
         "124.1500015258789",
         "66128000",
         "0.0",
         "0.0"
        ],
        [
         "1",
         "1",
         "Stocks That Hit 52-Week Highs On Wednesday",
         "https://www.benzinga.com/news/20/06/16170189/stocks-that-hit-52-week-highs-on-wednesday",
         "Benzinga Insights",
         "2020-06-03",
         "A",
         "123.40049743652344",
         "124.4000015258789",
         "123.05850219726562",
         "123.91999816894533",
         "123.91999816894533",
         "53420000",
         "0.0",
         "0.0"
        ],
        [
         "2",
         "2",
         "71 Biggest Movers From Friday",
         "https://www.benzinga.com/news/20/05/16103463/71-biggest-movers-from-friday",
         "Lisa Levin",
         "2020-05-26",
         "A",
         "122.9000015258789",
         "123.0999984741211",
         "120.7030029296875",
         "121.09300231933594",
         "121.09300231933594",
         "71364000",
         "0.0",
         "0.0"
        ],
        [
         "3",
         "3",
         "46 Stocks Moving In Friday's Mid-Day Session",
         "https://www.benzinga.com/news/20/05/16095921/46-stocks-moving-in-fridays-mid-day-session",
         "Lisa Levin",
         "2020-05-22",
         "A",
         "122.75050354003906",
         "123.49250030517578",
         "121.50650024414062",
         "121.84400177001952",
         "121.84400177001952",
         "57342000",
         "0.0",
         "0.0"
        ],
        [
         "4",
         "4",
         "B of A Securities Maintains Neutral on Agilent Technologies, Raises Price Target to $88",
         "https://www.benzinga.com/news/20/05/16095304/b-of-a-securities-maintains-neutral-on-agilent-technologies-raises-price-target-to-88",
         "Vick Meyer",
         "2020-05-22",
         "A",
         "122.75050354003906",
         "123.49250030517578",
         "121.50650024414062",
         "121.84400177001952",
         "121.84400177001952",
         "57342000",
         "0.0",
         "0.0"
        ],
        [
         "5",
         "5",
         "CFRA Maintains Hold on Agilent Technologies, Lowers Price Target to $85",
         "https://www.benzinga.com/news/20/05/16095163/cfra-maintains-hold-on-agilent-technologies-lowers-price-target-to-85",
         "vishwanath@benzinga.com",
         "2020-05-22",
         "A",
         "122.75050354003906",
         "123.49250030517578",
         "121.50650024414062",
         "121.84400177001952",
         "121.84400177001952",
         "57342000",
         "0.0",
         "0.0"
        ],
        [
         "6",
         "6",
         "UBS Maintains Neutral on Agilent Technologies, Raises Price Target to $87",
         "https://www.benzinga.com/news/20/05/16094027/ubs-maintains-neutral-on-agilent-technologies-raises-price-target-to-87",
         "vishwanath@benzinga.com",
         "2020-05-22",
         "A",
         "122.75050354003906",
         "123.49250030517578",
         "121.50650024414062",
         "121.84400177001952",
         "121.84400177001952",
         "57342000",
         "0.0",
         "0.0"
        ],
        [
         "7",
         "7",
         "Agilent Technologies shares are trading higher after the company reported better-than-expected Q2 EPS and sales results.",
         "https://www.benzinga.com/wiim/20/05/16093805/agilent-technologies-shares-are-trading-higher-after-the-company-reported-better-than-expected-q2-ep",
         "Benzinga Newsdesk",
         "2020-05-22",
         "A",
         "122.75050354003906",
         "123.49250030517578",
         "121.50650024414062",
         "121.84400177001952",
         "121.84400177001952",
         "57342000",
         "0.0",
         "0.0"
        ],
        [
         "8",
         "8",
         "Wells Fargo Maintains Overweight on Agilent Technologies, Raises Price Target to $95",
         "https://www.benzinga.com/news/20/05/16093505/wells-fargo-maintains-overweight-on-agilent-technologies-raises-price-target-to-95",
         "vishwanath@benzinga.com",
         "2020-05-22",
         "A",
         "122.75050354003906",
         "123.49250030517578",
         "121.50650024414062",
         "121.84400177001952",
         "121.84400177001952",
         "57342000",
         "0.0",
         "0.0"
        ],
        [
         "9",
         "9",
         "10 Biggest Price Target Changes For Friday",
         "https://www.benzinga.com/analyst-ratings/price-target/20/05/16093262/10-biggest-price-target-changes-for-friday",
         "Lisa Levin",
         "2020-05-22",
         "A",
         "122.75050354003906",
         "123.49250030517578",
         "121.50650024414062",
         "121.84400177001952",
         "121.84400177001952",
         "57342000",
         "0.0",
         "0.0"
        ]
       ],
       "shape": {
        "columns": 14,
        "rows": 10
       }
      },
      "text/html": [
       "<div>\n",
       "<style scoped>\n",
       "    .dataframe tbody tr th:only-of-type {\n",
       "        vertical-align: middle;\n",
       "    }\n",
       "\n",
       "    .dataframe tbody tr th {\n",
       "        vertical-align: top;\n",
       "    }\n",
       "\n",
       "    .dataframe thead th {\n",
       "        text-align: right;\n",
       "    }\n",
       "</style>\n",
       "<table border=\"1\" class=\"dataframe\">\n",
       "  <thead>\n",
       "    <tr style=\"text-align: right;\">\n",
       "      <th></th>\n",
       "      <th>Unnamed: 0</th>\n",
       "      <th>headline</th>\n",
       "      <th>url</th>\n",
       "      <th>publisher</th>\n",
       "      <th>date</th>\n",
       "      <th>stock</th>\n",
       "      <th>Open</th>\n",
       "      <th>High</th>\n",
       "      <th>Low</th>\n",
       "      <th>Close</th>\n",
       "      <th>Adj Close</th>\n",
       "      <th>Volume</th>\n",
       "      <th>Dividends</th>\n",
       "      <th>Stock Splits</th>\n",
       "    </tr>\n",
       "  </thead>\n",
       "  <tbody>\n",
       "    <tr>\n",
       "      <th>0</th>\n",
       "      <td>0</td>\n",
       "      <td>Stocks That Hit 52-Week Highs On Friday</td>\n",
       "      <td>https://www.benzinga.com/news/20/06/16190091/s...</td>\n",
       "      <td>Benzinga Insights</td>\n",
       "      <td>2020-06-05</td>\n",
       "      <td>A</td>\n",
       "      <td>122.225502</td>\n",
       "      <td>124.432503</td>\n",
       "      <td>121.856499</td>\n",
       "      <td>124.150002</td>\n",
       "      <td>124.150002</td>\n",
       "      <td>66128000</td>\n",
       "      <td>0.0</td>\n",
       "      <td>0.0</td>\n",
       "    </tr>\n",
       "    <tr>\n",
       "      <th>1</th>\n",
       "      <td>1</td>\n",
       "      <td>Stocks That Hit 52-Week Highs On Wednesday</td>\n",
       "      <td>https://www.benzinga.com/news/20/06/16170189/s...</td>\n",
       "      <td>Benzinga Insights</td>\n",
       "      <td>2020-06-03</td>\n",
       "      <td>A</td>\n",
       "      <td>123.400497</td>\n",
       "      <td>124.400002</td>\n",
       "      <td>123.058502</td>\n",
       "      <td>123.919998</td>\n",
       "      <td>123.919998</td>\n",
       "      <td>53420000</td>\n",
       "      <td>0.0</td>\n",
       "      <td>0.0</td>\n",
       "    </tr>\n",
       "    <tr>\n",
       "      <th>2</th>\n",
       "      <td>2</td>\n",
       "      <td>71 Biggest Movers From Friday</td>\n",
       "      <td>https://www.benzinga.com/news/20/05/16103463/7...</td>\n",
       "      <td>Lisa Levin</td>\n",
       "      <td>2020-05-26</td>\n",
       "      <td>A</td>\n",
       "      <td>122.900002</td>\n",
       "      <td>123.099998</td>\n",
       "      <td>120.703003</td>\n",
       "      <td>121.093002</td>\n",
       "      <td>121.093002</td>\n",
       "      <td>71364000</td>\n",
       "      <td>0.0</td>\n",
       "      <td>0.0</td>\n",
       "    </tr>\n",
       "    <tr>\n",
       "      <th>3</th>\n",
       "      <td>3</td>\n",
       "      <td>46 Stocks Moving In Friday's Mid-Day Session</td>\n",
       "      <td>https://www.benzinga.com/news/20/05/16095921/4...</td>\n",
       "      <td>Lisa Levin</td>\n",
       "      <td>2020-05-22</td>\n",
       "      <td>A</td>\n",
       "      <td>122.750504</td>\n",
       "      <td>123.492500</td>\n",
       "      <td>121.506500</td>\n",
       "      <td>121.844002</td>\n",
       "      <td>121.844002</td>\n",
       "      <td>57342000</td>\n",
       "      <td>0.0</td>\n",
       "      <td>0.0</td>\n",
       "    </tr>\n",
       "    <tr>\n",
       "      <th>4</th>\n",
       "      <td>4</td>\n",
       "      <td>B of A Securities Maintains Neutral on Agilent...</td>\n",
       "      <td>https://www.benzinga.com/news/20/05/16095304/b...</td>\n",
       "      <td>Vick Meyer</td>\n",
       "      <td>2020-05-22</td>\n",
       "      <td>A</td>\n",
       "      <td>122.750504</td>\n",
       "      <td>123.492500</td>\n",
       "      <td>121.506500</td>\n",
       "      <td>121.844002</td>\n",
       "      <td>121.844002</td>\n",
       "      <td>57342000</td>\n",
       "      <td>0.0</td>\n",
       "      <td>0.0</td>\n",
       "    </tr>\n",
       "    <tr>\n",
       "      <th>5</th>\n",
       "      <td>5</td>\n",
       "      <td>CFRA Maintains Hold on Agilent Technologies, L...</td>\n",
       "      <td>https://www.benzinga.com/news/20/05/16095163/c...</td>\n",
       "      <td>vishwanath@benzinga.com</td>\n",
       "      <td>2020-05-22</td>\n",
       "      <td>A</td>\n",
       "      <td>122.750504</td>\n",
       "      <td>123.492500</td>\n",
       "      <td>121.506500</td>\n",
       "      <td>121.844002</td>\n",
       "      <td>121.844002</td>\n",
       "      <td>57342000</td>\n",
       "      <td>0.0</td>\n",
       "      <td>0.0</td>\n",
       "    </tr>\n",
       "    <tr>\n",
       "      <th>6</th>\n",
       "      <td>6</td>\n",
       "      <td>UBS Maintains Neutral on Agilent Technologies,...</td>\n",
       "      <td>https://www.benzinga.com/news/20/05/16094027/u...</td>\n",
       "      <td>vishwanath@benzinga.com</td>\n",
       "      <td>2020-05-22</td>\n",
       "      <td>A</td>\n",
       "      <td>122.750504</td>\n",
       "      <td>123.492500</td>\n",
       "      <td>121.506500</td>\n",
       "      <td>121.844002</td>\n",
       "      <td>121.844002</td>\n",
       "      <td>57342000</td>\n",
       "      <td>0.0</td>\n",
       "      <td>0.0</td>\n",
       "    </tr>\n",
       "    <tr>\n",
       "      <th>7</th>\n",
       "      <td>7</td>\n",
       "      <td>Agilent Technologies shares are trading higher...</td>\n",
       "      <td>https://www.benzinga.com/wiim/20/05/16093805/a...</td>\n",
       "      <td>Benzinga Newsdesk</td>\n",
       "      <td>2020-05-22</td>\n",
       "      <td>A</td>\n",
       "      <td>122.750504</td>\n",
       "      <td>123.492500</td>\n",
       "      <td>121.506500</td>\n",
       "      <td>121.844002</td>\n",
       "      <td>121.844002</td>\n",
       "      <td>57342000</td>\n",
       "      <td>0.0</td>\n",
       "      <td>0.0</td>\n",
       "    </tr>\n",
       "    <tr>\n",
       "      <th>8</th>\n",
       "      <td>8</td>\n",
       "      <td>Wells Fargo Maintains Overweight on Agilent Te...</td>\n",
       "      <td>https://www.benzinga.com/news/20/05/16093505/w...</td>\n",
       "      <td>vishwanath@benzinga.com</td>\n",
       "      <td>2020-05-22</td>\n",
       "      <td>A</td>\n",
       "      <td>122.750504</td>\n",
       "      <td>123.492500</td>\n",
       "      <td>121.506500</td>\n",
       "      <td>121.844002</td>\n",
       "      <td>121.844002</td>\n",
       "      <td>57342000</td>\n",
       "      <td>0.0</td>\n",
       "      <td>0.0</td>\n",
       "    </tr>\n",
       "    <tr>\n",
       "      <th>9</th>\n",
       "      <td>9</td>\n",
       "      <td>10 Biggest Price Target Changes For Friday</td>\n",
       "      <td>https://www.benzinga.com/analyst-ratings/price...</td>\n",
       "      <td>Lisa Levin</td>\n",
       "      <td>2020-05-22</td>\n",
       "      <td>A</td>\n",
       "      <td>122.750504</td>\n",
       "      <td>123.492500</td>\n",
       "      <td>121.506500</td>\n",
       "      <td>121.844002</td>\n",
       "      <td>121.844002</td>\n",
       "      <td>57342000</td>\n",
       "      <td>0.0</td>\n",
       "      <td>0.0</td>\n",
       "    </tr>\n",
       "  </tbody>\n",
       "</table>\n",
       "</div>"
      ],
      "text/plain": [
       "   Unnamed: 0                                           headline  \\\n",
       "0           0            Stocks That Hit 52-Week Highs On Friday   \n",
       "1           1         Stocks That Hit 52-Week Highs On Wednesday   \n",
       "2           2                      71 Biggest Movers From Friday   \n",
       "3           3       46 Stocks Moving In Friday's Mid-Day Session   \n",
       "4           4  B of A Securities Maintains Neutral on Agilent...   \n",
       "5           5  CFRA Maintains Hold on Agilent Technologies, L...   \n",
       "6           6  UBS Maintains Neutral on Agilent Technologies,...   \n",
       "7           7  Agilent Technologies shares are trading higher...   \n",
       "8           8  Wells Fargo Maintains Overweight on Agilent Te...   \n",
       "9           9         10 Biggest Price Target Changes For Friday   \n",
       "\n",
       "                                                 url                publisher  \\\n",
       "0  https://www.benzinga.com/news/20/06/16190091/s...        Benzinga Insights   \n",
       "1  https://www.benzinga.com/news/20/06/16170189/s...        Benzinga Insights   \n",
       "2  https://www.benzinga.com/news/20/05/16103463/7...               Lisa Levin   \n",
       "3  https://www.benzinga.com/news/20/05/16095921/4...               Lisa Levin   \n",
       "4  https://www.benzinga.com/news/20/05/16095304/b...               Vick Meyer   \n",
       "5  https://www.benzinga.com/news/20/05/16095163/c...  vishwanath@benzinga.com   \n",
       "6  https://www.benzinga.com/news/20/05/16094027/u...  vishwanath@benzinga.com   \n",
       "7  https://www.benzinga.com/wiim/20/05/16093805/a...        Benzinga Newsdesk   \n",
       "8  https://www.benzinga.com/news/20/05/16093505/w...  vishwanath@benzinga.com   \n",
       "9  https://www.benzinga.com/analyst-ratings/price...               Lisa Levin   \n",
       "\n",
       "         date stock        Open        High         Low       Close  \\\n",
       "0  2020-06-05     A  122.225502  124.432503  121.856499  124.150002   \n",
       "1  2020-06-03     A  123.400497  124.400002  123.058502  123.919998   \n",
       "2  2020-05-26     A  122.900002  123.099998  120.703003  121.093002   \n",
       "3  2020-05-22     A  122.750504  123.492500  121.506500  121.844002   \n",
       "4  2020-05-22     A  122.750504  123.492500  121.506500  121.844002   \n",
       "5  2020-05-22     A  122.750504  123.492500  121.506500  121.844002   \n",
       "6  2020-05-22     A  122.750504  123.492500  121.506500  121.844002   \n",
       "7  2020-05-22     A  122.750504  123.492500  121.506500  121.844002   \n",
       "8  2020-05-22     A  122.750504  123.492500  121.506500  121.844002   \n",
       "9  2020-05-22     A  122.750504  123.492500  121.506500  121.844002   \n",
       "\n",
       "    Adj Close    Volume  Dividends  Stock Splits  \n",
       "0  124.150002  66128000        0.0           0.0  \n",
       "1  123.919998  53420000        0.0           0.0  \n",
       "2  121.093002  71364000        0.0           0.0  \n",
       "3  121.844002  57342000        0.0           0.0  \n",
       "4  121.844002  57342000        0.0           0.0  \n",
       "5  121.844002  57342000        0.0           0.0  \n",
       "6  121.844002  57342000        0.0           0.0  \n",
       "7  121.844002  57342000        0.0           0.0  \n",
       "8  121.844002  57342000        0.0           0.0  \n",
       "9  121.844002  57342000        0.0           0.0  "
      ]
     },
     "execution_count": 24,
     "metadata": {},
     "output_type": "execute_result"
    }
   ],
   "source": [
    "# Display the first few rows of the aligned data\n",
    "aligned_data.head(10)\n"
   ]
  },
  {
   "cell_type": "markdown",
   "id": "876be268",
   "metadata": {},
   "source": [
    "2. Sentiment Analysis: Conduct sentiment analysis on news headlines"
   ]
  },
  {
   "cell_type": "code",
   "execution_count": 25,
   "id": "31da7d55",
   "metadata": {},
   "outputs": [
    {
     "name": "stdout",
     "output_type": "stream",
     "text": [
      "                                            headline  sentiment\n",
      "0            Stocks That Hit 52-Week Highs On Friday        0.0\n",
      "1         Stocks That Hit 52-Week Highs On Wednesday        0.0\n",
      "2                      71 Biggest Movers From Friday        0.0\n",
      "3       46 Stocks Moving In Friday's Mid-Day Session        0.0\n",
      "4  B of A Securities Maintains Neutral on Agilent...        0.0\n"
     ]
    },
    {
     "data": {
      "application/vnd.microsoft.datawrangler.viewer.v0+json": {
       "columns": [
        {
         "name": "index",
         "rawType": "int64",
         "type": "integer"
        },
        {
         "name": "Unnamed: 0",
         "rawType": "int64",
         "type": "integer"
        },
        {
         "name": "headline",
         "rawType": "object",
         "type": "string"
        },
        {
         "name": "url",
         "rawType": "object",
         "type": "string"
        },
        {
         "name": "publisher",
         "rawType": "object",
         "type": "string"
        },
        {
         "name": "date",
         "rawType": "object",
         "type": "unknown"
        },
        {
         "name": "stock",
         "rawType": "object",
         "type": "string"
        },
        {
         "name": "Open",
         "rawType": "float64",
         "type": "float"
        },
        {
         "name": "High",
         "rawType": "float64",
         "type": "float"
        },
        {
         "name": "Low",
         "rawType": "float64",
         "type": "float"
        },
        {
         "name": "Close",
         "rawType": "float64",
         "type": "float"
        },
        {
         "name": "Adj Close",
         "rawType": "float64",
         "type": "float"
        },
        {
         "name": "Volume",
         "rawType": "int64",
         "type": "integer"
        },
        {
         "name": "Dividends",
         "rawType": "float64",
         "type": "float"
        },
        {
         "name": "Stock Splits",
         "rawType": "float64",
         "type": "float"
        },
        {
         "name": "sentiment",
         "rawType": "float64",
         "type": "float"
        }
       ],
       "ref": "e8ac492f-23ed-4edb-ae35-4f4c16eeeaeb",
       "rows": [
        [
         "0",
         "0",
         "Stocks That Hit 52-Week Highs On Friday",
         "https://www.benzinga.com/news/20/06/16190091/stocks-that-hit-52-week-highs-on-friday",
         "Benzinga Insights",
         "2020-06-05",
         "A",
         "122.22550201416016",
         "124.43250274658205",
         "121.85649871826172",
         "124.1500015258789",
         "124.1500015258789",
         "66128000",
         "0.0",
         "0.0",
         "0.0"
        ],
        [
         "1",
         "1",
         "Stocks That Hit 52-Week Highs On Wednesday",
         "https://www.benzinga.com/news/20/06/16170189/stocks-that-hit-52-week-highs-on-wednesday",
         "Benzinga Insights",
         "2020-06-03",
         "A",
         "123.40049743652344",
         "124.4000015258789",
         "123.05850219726562",
         "123.91999816894533",
         "123.91999816894533",
         "53420000",
         "0.0",
         "0.0",
         "0.0"
        ],
        [
         "2",
         "2",
         "71 Biggest Movers From Friday",
         "https://www.benzinga.com/news/20/05/16103463/71-biggest-movers-from-friday",
         "Lisa Levin",
         "2020-05-26",
         "A",
         "122.9000015258789",
         "123.0999984741211",
         "120.7030029296875",
         "121.09300231933594",
         "121.09300231933594",
         "71364000",
         "0.0",
         "0.0",
         "0.0"
        ],
        [
         "3",
         "3",
         "46 Stocks Moving In Friday's Mid-Day Session",
         "https://www.benzinga.com/news/20/05/16095921/46-stocks-moving-in-fridays-mid-day-session",
         "Lisa Levin",
         "2020-05-22",
         "A",
         "122.75050354003906",
         "123.49250030517578",
         "121.50650024414062",
         "121.84400177001952",
         "121.84400177001952",
         "57342000",
         "0.0",
         "0.0",
         "0.0"
        ],
        [
         "4",
         "4",
         "B of A Securities Maintains Neutral on Agilent Technologies, Raises Price Target to $88",
         "https://www.benzinga.com/news/20/05/16095304/b-of-a-securities-maintains-neutral-on-agilent-technologies-raises-price-target-to-88",
         "Vick Meyer",
         "2020-05-22",
         "A",
         "122.75050354003906",
         "123.49250030517578",
         "121.50650024414062",
         "121.84400177001952",
         "121.84400177001952",
         "57342000",
         "0.0",
         "0.0",
         "0.0"
        ],
        [
         "5",
         "5",
         "CFRA Maintains Hold on Agilent Technologies, Lowers Price Target to $85",
         "https://www.benzinga.com/news/20/05/16095163/cfra-maintains-hold-on-agilent-technologies-lowers-price-target-to-85",
         "vishwanath@benzinga.com",
         "2020-05-22",
         "A",
         "122.75050354003906",
         "123.49250030517578",
         "121.50650024414062",
         "121.84400177001952",
         "121.84400177001952",
         "57342000",
         "0.0",
         "0.0",
         "0.0"
        ],
        [
         "6",
         "6",
         "UBS Maintains Neutral on Agilent Technologies, Raises Price Target to $87",
         "https://www.benzinga.com/news/20/05/16094027/ubs-maintains-neutral-on-agilent-technologies-raises-price-target-to-87",
         "vishwanath@benzinga.com",
         "2020-05-22",
         "A",
         "122.75050354003906",
         "123.49250030517578",
         "121.50650024414062",
         "121.84400177001952",
         "121.84400177001952",
         "57342000",
         "0.0",
         "0.0",
         "0.0"
        ],
        [
         "7",
         "7",
         "Agilent Technologies shares are trading higher after the company reported better-than-expected Q2 EPS and sales results.",
         "https://www.benzinga.com/wiim/20/05/16093805/agilent-technologies-shares-are-trading-higher-after-the-company-reported-better-than-expected-q2-ep",
         "Benzinga Newsdesk",
         "2020-05-22",
         "A",
         "122.75050354003906",
         "123.49250030517578",
         "121.50650024414062",
         "121.84400177001952",
         "121.84400177001952",
         "57342000",
         "0.0",
         "0.0",
         "0.25"
        ],
        [
         "8",
         "8",
         "Wells Fargo Maintains Overweight on Agilent Technologies, Raises Price Target to $95",
         "https://www.benzinga.com/news/20/05/16093505/wells-fargo-maintains-overweight-on-agilent-technologies-raises-price-target-to-95",
         "vishwanath@benzinga.com",
         "2020-05-22",
         "A",
         "122.75050354003906",
         "123.49250030517578",
         "121.50650024414062",
         "121.84400177001952",
         "121.84400177001952",
         "57342000",
         "0.0",
         "0.0",
         "0.0"
        ],
        [
         "9",
         "9",
         "10 Biggest Price Target Changes For Friday",
         "https://www.benzinga.com/analyst-ratings/price-target/20/05/16093262/10-biggest-price-target-changes-for-friday",
         "Lisa Levin",
         "2020-05-22",
         "A",
         "122.75050354003906",
         "123.49250030517578",
         "121.50650024414062",
         "121.84400177001952",
         "121.84400177001952",
         "57342000",
         "0.0",
         "0.0",
         "0.0"
        ]
       ],
       "shape": {
        "columns": 15,
        "rows": 10
       }
      },
      "text/html": [
       "<div>\n",
       "<style scoped>\n",
       "    .dataframe tbody tr th:only-of-type {\n",
       "        vertical-align: middle;\n",
       "    }\n",
       "\n",
       "    .dataframe tbody tr th {\n",
       "        vertical-align: top;\n",
       "    }\n",
       "\n",
       "    .dataframe thead th {\n",
       "        text-align: right;\n",
       "    }\n",
       "</style>\n",
       "<table border=\"1\" class=\"dataframe\">\n",
       "  <thead>\n",
       "    <tr style=\"text-align: right;\">\n",
       "      <th></th>\n",
       "      <th>Unnamed: 0</th>\n",
       "      <th>headline</th>\n",
       "      <th>url</th>\n",
       "      <th>publisher</th>\n",
       "      <th>date</th>\n",
       "      <th>stock</th>\n",
       "      <th>Open</th>\n",
       "      <th>High</th>\n",
       "      <th>Low</th>\n",
       "      <th>Close</th>\n",
       "      <th>Adj Close</th>\n",
       "      <th>Volume</th>\n",
       "      <th>Dividends</th>\n",
       "      <th>Stock Splits</th>\n",
       "      <th>sentiment</th>\n",
       "    </tr>\n",
       "  </thead>\n",
       "  <tbody>\n",
       "    <tr>\n",
       "      <th>0</th>\n",
       "      <td>0</td>\n",
       "      <td>Stocks That Hit 52-Week Highs On Friday</td>\n",
       "      <td>https://www.benzinga.com/news/20/06/16190091/s...</td>\n",
       "      <td>Benzinga Insights</td>\n",
       "      <td>2020-06-05</td>\n",
       "      <td>A</td>\n",
       "      <td>122.225502</td>\n",
       "      <td>124.432503</td>\n",
       "      <td>121.856499</td>\n",
       "      <td>124.150002</td>\n",
       "      <td>124.150002</td>\n",
       "      <td>66128000</td>\n",
       "      <td>0.0</td>\n",
       "      <td>0.0</td>\n",
       "      <td>0.00</td>\n",
       "    </tr>\n",
       "    <tr>\n",
       "      <th>1</th>\n",
       "      <td>1</td>\n",
       "      <td>Stocks That Hit 52-Week Highs On Wednesday</td>\n",
       "      <td>https://www.benzinga.com/news/20/06/16170189/s...</td>\n",
       "      <td>Benzinga Insights</td>\n",
       "      <td>2020-06-03</td>\n",
       "      <td>A</td>\n",
       "      <td>123.400497</td>\n",
       "      <td>124.400002</td>\n",
       "      <td>123.058502</td>\n",
       "      <td>123.919998</td>\n",
       "      <td>123.919998</td>\n",
       "      <td>53420000</td>\n",
       "      <td>0.0</td>\n",
       "      <td>0.0</td>\n",
       "      <td>0.00</td>\n",
       "    </tr>\n",
       "    <tr>\n",
       "      <th>2</th>\n",
       "      <td>2</td>\n",
       "      <td>71 Biggest Movers From Friday</td>\n",
       "      <td>https://www.benzinga.com/news/20/05/16103463/7...</td>\n",
       "      <td>Lisa Levin</td>\n",
       "      <td>2020-05-26</td>\n",
       "      <td>A</td>\n",
       "      <td>122.900002</td>\n",
       "      <td>123.099998</td>\n",
       "      <td>120.703003</td>\n",
       "      <td>121.093002</td>\n",
       "      <td>121.093002</td>\n",
       "      <td>71364000</td>\n",
       "      <td>0.0</td>\n",
       "      <td>0.0</td>\n",
       "      <td>0.00</td>\n",
       "    </tr>\n",
       "    <tr>\n",
       "      <th>3</th>\n",
       "      <td>3</td>\n",
       "      <td>46 Stocks Moving In Friday's Mid-Day Session</td>\n",
       "      <td>https://www.benzinga.com/news/20/05/16095921/4...</td>\n",
       "      <td>Lisa Levin</td>\n",
       "      <td>2020-05-22</td>\n",
       "      <td>A</td>\n",
       "      <td>122.750504</td>\n",
       "      <td>123.492500</td>\n",
       "      <td>121.506500</td>\n",
       "      <td>121.844002</td>\n",
       "      <td>121.844002</td>\n",
       "      <td>57342000</td>\n",
       "      <td>0.0</td>\n",
       "      <td>0.0</td>\n",
       "      <td>0.00</td>\n",
       "    </tr>\n",
       "    <tr>\n",
       "      <th>4</th>\n",
       "      <td>4</td>\n",
       "      <td>B of A Securities Maintains Neutral on Agilent...</td>\n",
       "      <td>https://www.benzinga.com/news/20/05/16095304/b...</td>\n",
       "      <td>Vick Meyer</td>\n",
       "      <td>2020-05-22</td>\n",
       "      <td>A</td>\n",
       "      <td>122.750504</td>\n",
       "      <td>123.492500</td>\n",
       "      <td>121.506500</td>\n",
       "      <td>121.844002</td>\n",
       "      <td>121.844002</td>\n",
       "      <td>57342000</td>\n",
       "      <td>0.0</td>\n",
       "      <td>0.0</td>\n",
       "      <td>0.00</td>\n",
       "    </tr>\n",
       "    <tr>\n",
       "      <th>5</th>\n",
       "      <td>5</td>\n",
       "      <td>CFRA Maintains Hold on Agilent Technologies, L...</td>\n",
       "      <td>https://www.benzinga.com/news/20/05/16095163/c...</td>\n",
       "      <td>vishwanath@benzinga.com</td>\n",
       "      <td>2020-05-22</td>\n",
       "      <td>A</td>\n",
       "      <td>122.750504</td>\n",
       "      <td>123.492500</td>\n",
       "      <td>121.506500</td>\n",
       "      <td>121.844002</td>\n",
       "      <td>121.844002</td>\n",
       "      <td>57342000</td>\n",
       "      <td>0.0</td>\n",
       "      <td>0.0</td>\n",
       "      <td>0.00</td>\n",
       "    </tr>\n",
       "    <tr>\n",
       "      <th>6</th>\n",
       "      <td>6</td>\n",
       "      <td>UBS Maintains Neutral on Agilent Technologies,...</td>\n",
       "      <td>https://www.benzinga.com/news/20/05/16094027/u...</td>\n",
       "      <td>vishwanath@benzinga.com</td>\n",
       "      <td>2020-05-22</td>\n",
       "      <td>A</td>\n",
       "      <td>122.750504</td>\n",
       "      <td>123.492500</td>\n",
       "      <td>121.506500</td>\n",
       "      <td>121.844002</td>\n",
       "      <td>121.844002</td>\n",
       "      <td>57342000</td>\n",
       "      <td>0.0</td>\n",
       "      <td>0.0</td>\n",
       "      <td>0.00</td>\n",
       "    </tr>\n",
       "    <tr>\n",
       "      <th>7</th>\n",
       "      <td>7</td>\n",
       "      <td>Agilent Technologies shares are trading higher...</td>\n",
       "      <td>https://www.benzinga.com/wiim/20/05/16093805/a...</td>\n",
       "      <td>Benzinga Newsdesk</td>\n",
       "      <td>2020-05-22</td>\n",
       "      <td>A</td>\n",
       "      <td>122.750504</td>\n",
       "      <td>123.492500</td>\n",
       "      <td>121.506500</td>\n",
       "      <td>121.844002</td>\n",
       "      <td>121.844002</td>\n",
       "      <td>57342000</td>\n",
       "      <td>0.0</td>\n",
       "      <td>0.0</td>\n",
       "      <td>0.25</td>\n",
       "    </tr>\n",
       "    <tr>\n",
       "      <th>8</th>\n",
       "      <td>8</td>\n",
       "      <td>Wells Fargo Maintains Overweight on Agilent Te...</td>\n",
       "      <td>https://www.benzinga.com/news/20/05/16093505/w...</td>\n",
       "      <td>vishwanath@benzinga.com</td>\n",
       "      <td>2020-05-22</td>\n",
       "      <td>A</td>\n",
       "      <td>122.750504</td>\n",
       "      <td>123.492500</td>\n",
       "      <td>121.506500</td>\n",
       "      <td>121.844002</td>\n",
       "      <td>121.844002</td>\n",
       "      <td>57342000</td>\n",
       "      <td>0.0</td>\n",
       "      <td>0.0</td>\n",
       "      <td>0.00</td>\n",
       "    </tr>\n",
       "    <tr>\n",
       "      <th>9</th>\n",
       "      <td>9</td>\n",
       "      <td>10 Biggest Price Target Changes For Friday</td>\n",
       "      <td>https://www.benzinga.com/analyst-ratings/price...</td>\n",
       "      <td>Lisa Levin</td>\n",
       "      <td>2020-05-22</td>\n",
       "      <td>A</td>\n",
       "      <td>122.750504</td>\n",
       "      <td>123.492500</td>\n",
       "      <td>121.506500</td>\n",
       "      <td>121.844002</td>\n",
       "      <td>121.844002</td>\n",
       "      <td>57342000</td>\n",
       "      <td>0.0</td>\n",
       "      <td>0.0</td>\n",
       "      <td>0.00</td>\n",
       "    </tr>\n",
       "  </tbody>\n",
       "</table>\n",
       "</div>"
      ],
      "text/plain": [
       "   Unnamed: 0                                           headline  \\\n",
       "0           0            Stocks That Hit 52-Week Highs On Friday   \n",
       "1           1         Stocks That Hit 52-Week Highs On Wednesday   \n",
       "2           2                      71 Biggest Movers From Friday   \n",
       "3           3       46 Stocks Moving In Friday's Mid-Day Session   \n",
       "4           4  B of A Securities Maintains Neutral on Agilent...   \n",
       "5           5  CFRA Maintains Hold on Agilent Technologies, L...   \n",
       "6           6  UBS Maintains Neutral on Agilent Technologies,...   \n",
       "7           7  Agilent Technologies shares are trading higher...   \n",
       "8           8  Wells Fargo Maintains Overweight on Agilent Te...   \n",
       "9           9         10 Biggest Price Target Changes For Friday   \n",
       "\n",
       "                                                 url                publisher  \\\n",
       "0  https://www.benzinga.com/news/20/06/16190091/s...        Benzinga Insights   \n",
       "1  https://www.benzinga.com/news/20/06/16170189/s...        Benzinga Insights   \n",
       "2  https://www.benzinga.com/news/20/05/16103463/7...               Lisa Levin   \n",
       "3  https://www.benzinga.com/news/20/05/16095921/4...               Lisa Levin   \n",
       "4  https://www.benzinga.com/news/20/05/16095304/b...               Vick Meyer   \n",
       "5  https://www.benzinga.com/news/20/05/16095163/c...  vishwanath@benzinga.com   \n",
       "6  https://www.benzinga.com/news/20/05/16094027/u...  vishwanath@benzinga.com   \n",
       "7  https://www.benzinga.com/wiim/20/05/16093805/a...        Benzinga Newsdesk   \n",
       "8  https://www.benzinga.com/news/20/05/16093505/w...  vishwanath@benzinga.com   \n",
       "9  https://www.benzinga.com/analyst-ratings/price...               Lisa Levin   \n",
       "\n",
       "         date stock        Open        High         Low       Close  \\\n",
       "0  2020-06-05     A  122.225502  124.432503  121.856499  124.150002   \n",
       "1  2020-06-03     A  123.400497  124.400002  123.058502  123.919998   \n",
       "2  2020-05-26     A  122.900002  123.099998  120.703003  121.093002   \n",
       "3  2020-05-22     A  122.750504  123.492500  121.506500  121.844002   \n",
       "4  2020-05-22     A  122.750504  123.492500  121.506500  121.844002   \n",
       "5  2020-05-22     A  122.750504  123.492500  121.506500  121.844002   \n",
       "6  2020-05-22     A  122.750504  123.492500  121.506500  121.844002   \n",
       "7  2020-05-22     A  122.750504  123.492500  121.506500  121.844002   \n",
       "8  2020-05-22     A  122.750504  123.492500  121.506500  121.844002   \n",
       "9  2020-05-22     A  122.750504  123.492500  121.506500  121.844002   \n",
       "\n",
       "    Adj Close    Volume  Dividends  Stock Splits  sentiment  \n",
       "0  124.150002  66128000        0.0           0.0       0.00  \n",
       "1  123.919998  53420000        0.0           0.0       0.00  \n",
       "2  121.093002  71364000        0.0           0.0       0.00  \n",
       "3  121.844002  57342000        0.0           0.0       0.00  \n",
       "4  121.844002  57342000        0.0           0.0       0.00  \n",
       "5  121.844002  57342000        0.0           0.0       0.00  \n",
       "6  121.844002  57342000        0.0           0.0       0.00  \n",
       "7  121.844002  57342000        0.0           0.0       0.25  \n",
       "8  121.844002  57342000        0.0           0.0       0.00  \n",
       "9  121.844002  57342000        0.0           0.0       0.00  "
      ]
     },
     "execution_count": 25,
     "metadata": {},
     "output_type": "execute_result"
    }
   ],
   "source": [
    "# Perform sentiment analysis on the 'headline' column of the aligned data\n",
    "analyze_sentiment(aligned_data, 'headline')  \n",
    "aligned_data.head(10)"
   ]
  },
  {
   "cell_type": "code",
   "execution_count": 26,
   "id": "b7f0f603",
   "metadata": {},
   "outputs": [
    {
     "data": {
      "image/png": "[encoded data removed]",
      "text/plain": [
       "<Figure size 1400x800 with 1 Axes>"
      ]
     },
     "metadata": {},
     "output_type": "display_data"
    }
   ],
   "source": [
    "# Perform sentiment distribution plot\n",
    "sentiment_distribution_plot(aligned_data)"
   ]
  },
  {
   "cell_type": "code",
   "execution_count": 27,
   "id": "871b51f0",
   "metadata": {},
   "outputs": [
    {
     "name": "stdout",
     "output_type": "stream",
     "text": [
      "          date       Close  daily_return\n",
      "7   2020-05-22  121.844002      0.000000\n",
      "8   2020-05-22  121.844002      0.000000\n",
      "10  2020-06-09  130.042999      0.067291\n",
      "11  2020-06-08  126.203003     -0.029529\n",
      "12  2020-06-08  126.203003      0.000000\n"
     ]
    }
   ],
   "source": [
    "# Calculate daily returns for the stock data\n",
    "daily_returns(aligned_data)\n",
    "# Drop rows with NaN values in the 'headline' or 'date' columns\n",
    "aligned_data = aligned_data.dropna()\n",
    "# Display the first few rows of the aligned data with daily returns\n",
    "print(aligned_data[['date', 'Close', 'daily_return']].head())\n",
    "\n"
   ]
  },
  {
   "cell_type": "markdown",
   "id": "19ea10dc",
   "metadata": {},
   "source": [
    "3. Calculate Daily Stock Returns: Compute the percentage change in daily closing prices to represent stock movements"
   ]
  },
  {
   "cell_type": "code",
   "execution_count": 28,
   "id": "7fd68b42",
   "metadata": {},
   "outputs": [
    {
     "data": {
      "image/png": "[encoded data removed]",
      "text/plain": [
       "<Figure size 1400x800 with 1 Axes>"
      ]
     },
     "metadata": {},
     "output_type": "display_data"
    }
   ],
   "source": [
    "# Plot daily returns\n",
    "plot_daily_returns(aligned_data)"
   ]
  },
  {
   "cell_type": "code",
   "execution_count": 29,
   "id": "a1505669",
   "metadata": {},
   "outputs": [
    {
     "data": {
      "application/vnd.microsoft.datawrangler.viewer.v0+json": {
       "columns": [
        {
         "name": "index",
         "rawType": "int64",
         "type": "integer"
        },
        {
         "name": "date",
         "rawType": "object",
         "type": "unknown"
        },
        {
         "name": "sentiment",
         "rawType": "float64",
         "type": "float"
        },
        {
         "name": "daily_return",
         "rawType": "float64",
         "type": "float"
        }
       ],
       "ref": "d3599693-c234-4517-8503-6202dc3ad146",
       "rows": [
        [
         "0",
         "2011-04-28",
         "0.06818181818181818",
         "-0.012803656703890942"
        ],
        [
         "1",
         "2011-04-28",
         "0.06818181818181818",
         "-0.01876253556490559"
        ],
        [
         "2",
         "2011-04-29",
         "0.16666666666666669",
         "-0.012855467958591604"
        ],
        [
         "3",
         "2011-04-29",
         "0.16666666666666669",
         "-0.8962057114584976"
        ],
        [
         "4",
         "2011-05-02",
         "-0.020833333333333332",
         "-0.06934038982330937"
        ],
        [
         "5",
         "2011-05-02",
         "-0.020833333333333332",
         "0.04704654287975818"
        ],
        [
         "6",
         "2011-05-02",
         "-0.020833333333333332",
         "-0.23157130506010526"
        ],
        [
         "7",
         "2011-05-02",
         "-0.020833333333333332",
         "0.03947300217174643"
        ],
        [
         "8",
         "2011-05-05",
         "0.0",
         "-0.229045219315257"
        ],
        [
         "9",
         "2011-05-06",
         "0.25",
         "-0.08327534450848184"
        ],
        [
         "10",
         "2011-05-06",
         "0.25",
         "-0.10717511945921354"
        ],
        [
         "11",
         "2011-05-09",
         "0.06818181818181818",
         "0.0926701333213491"
        ],
        [
         "12",
         "2011-05-09",
         "0.06818181818181818",
         "-0.10200796615102314"
        ],
        [
         "13",
         "2011-05-11",
         "-0.0875",
         "0.008984952699525373"
        ],
        [
         "14",
         "2011-05-12",
         "0.5",
         "0.07182984140514037"
        ],
        [
         "15",
         "2011-05-13",
         "-0.10370370370370373",
         "0.05483525763361641"
        ],
        [
         "16",
         "2011-05-13",
         "-0.10370370370370373",
         "-0.2275188610898553"
        ],
        [
         "17",
         "2011-05-13",
         "-0.10370370370370373",
         "0.043424530332718536"
        ],
        [
         "18",
         "2011-05-16",
         "0.0",
         "-0.021251774957111613"
        ],
        [
         "19",
         "2011-05-16",
         "0.0",
         "-0.1955286583711482"
        ],
        [
         "20",
         "2011-05-17",
         "0.0",
         "0.003502848250290125"
        ],
        [
         "21",
         "2011-05-17",
         "0.0",
         "0.0387097719002123"
        ],
        [
         "22",
         "2011-05-18",
         "0.175",
         "0.1014922047929423"
        ],
        [
         "23",
         "2011-05-18",
         "0.175",
         "0.050866463114438654"
        ],
        [
         "24",
         "2011-05-19",
         "0.0",
         "0.0899122483677477"
        ],
        [
         "25",
         "2011-05-23",
         "-0.13333333333333333",
         "-0.28090302089709496"
        ],
        [
         "26",
         "2011-05-24",
         "0.10000000000000005",
         "-0.09767033475886544"
        ],
        [
         "27",
         "2011-05-24",
         "0.10000000000000005",
         "-0.030109920213348906"
        ],
        [
         "28",
         "2011-05-24",
         "0.10000000000000005",
         "0.01742468779416373"
        ],
        [
         "29",
         "2011-05-25",
         "0.29375",
         "-0.38749243781140474"
        ],
        [
         "30",
         "2011-05-25",
         "0.29375",
         "-0.18354002216438225"
        ],
        [
         "31",
         "2011-05-25",
         "0.29375",
         "-0.10713792841379766"
        ],
        [
         "32",
         "2011-05-25",
         "0.29375",
         "0.022387637338227906"
        ],
        [
         "33",
         "2011-05-25",
         "0.29375",
         "-0.11920466320021084"
        ],
        [
         "34",
         "2011-05-25",
         "0.29375",
         "-0.37280615080436674"
        ],
        [
         "35",
         "2011-05-25",
         "0.29375",
         "-0.37280615080436674"
        ],
        [
         "36",
         "2011-05-25",
         "0.29375",
         "-0.37280615080436674"
        ],
        [
         "37",
         "2011-05-27",
         "-0.25277777777777777",
         "0.03508402961816115"
        ],
        [
         "38",
         "2011-05-27",
         "-0.25277777777777777",
         "-0.36602331984550107"
        ],
        [
         "39",
         "2011-05-31",
         "0.14583333333333334",
         "0.05758689522853122"
        ],
        [
         "40",
         "2011-05-31",
         "0.14583333333333334",
         "-0.09175283981891458"
        ],
        [
         "41",
         "2011-05-31",
         "0.14583333333333334",
         "-0.11627799557085838"
        ],
        [
         "42",
         "2011-05-31",
         "0.14583333333333334",
         "-0.08749708433604453"
        ],
        [
         "43",
         "2011-05-31",
         "0.14583333333333334",
         "0.0"
        ],
        [
         "44",
         "2011-05-31",
         "0.14583333333333334",
         "-0.08749708433604453"
        ],
        [
         "45",
         "2011-06-01",
         "0.0",
         "-0.8902521846202802"
        ],
        [
         "46",
         "2011-06-01",
         "0.0",
         "-0.8978019969787496"
        ],
        [
         "47",
         "2011-06-02",
         "0.0",
         "-0.10562537460742216"
        ],
        [
         "48",
         "2011-06-03",
         "0.0",
         "-0.02196823925116631"
        ],
        [
         "49",
         "2011-06-06",
         "0.1558080808080808",
         "-0.1979872870883873"
        ]
       ],
       "shape": {
        "columns": 3,
        "rows": 27989
       }
      },
      "text/html": [
       "<div>\n",
       "<style scoped>\n",
       "    .dataframe tbody tr th:only-of-type {\n",
       "        vertical-align: middle;\n",
       "    }\n",
       "\n",
       "    .dataframe tbody tr th {\n",
       "        vertical-align: top;\n",
       "    }\n",
       "\n",
       "    .dataframe thead th {\n",
       "        text-align: right;\n",
       "    }\n",
       "</style>\n",
       "<table border=\"1\" class=\"dataframe\">\n",
       "  <thead>\n",
       "    <tr style=\"text-align: right;\">\n",
       "      <th></th>\n",
       "      <th>date</th>\n",
       "      <th>sentiment</th>\n",
       "      <th>daily_return</th>\n",
       "    </tr>\n",
       "  </thead>\n",
       "  <tbody>\n",
       "    <tr>\n",
       "      <th>0</th>\n",
       "      <td>2011-04-28</td>\n",
       "      <td>0.068182</td>\n",
       "      <td>-0.012804</td>\n",
       "    </tr>\n",
       "    <tr>\n",
       "      <th>1</th>\n",
       "      <td>2011-04-28</td>\n",
       "      <td>0.068182</td>\n",
       "      <td>-0.018763</td>\n",
       "    </tr>\n",
       "    <tr>\n",
       "      <th>2</th>\n",
       "      <td>2011-04-29</td>\n",
       "      <td>0.166667</td>\n",
       "      <td>-0.012855</td>\n",
       "    </tr>\n",
       "    <tr>\n",
       "      <th>3</th>\n",
       "      <td>2011-04-29</td>\n",
       "      <td>0.166667</td>\n",
       "      <td>-0.896206</td>\n",
       "    </tr>\n",
       "    <tr>\n",
       "      <th>4</th>\n",
       "      <td>2011-05-02</td>\n",
       "      <td>-0.020833</td>\n",
       "      <td>-0.069340</td>\n",
       "    </tr>\n",
       "    <tr>\n",
       "      <th>...</th>\n",
       "      <td>...</td>\n",
       "      <td>...</td>\n",
       "      <td>...</td>\n",
       "    </tr>\n",
       "    <tr>\n",
       "      <th>27984</th>\n",
       "      <td>2020-06-11</td>\n",
       "      <td>0.012137</td>\n",
       "      <td>0.606365</td>\n",
       "    </tr>\n",
       "    <tr>\n",
       "      <th>27985</th>\n",
       "      <td>2020-06-11</td>\n",
       "      <td>0.012137</td>\n",
       "      <td>0.000000</td>\n",
       "    </tr>\n",
       "    <tr>\n",
       "      <th>27986</th>\n",
       "      <td>2020-06-11</td>\n",
       "      <td>0.012137</td>\n",
       "      <td>0.473776</td>\n",
       "    </tr>\n",
       "    <tr>\n",
       "      <th>27987</th>\n",
       "      <td>2020-06-11</td>\n",
       "      <td>0.012137</td>\n",
       "      <td>0.000000</td>\n",
       "    </tr>\n",
       "    <tr>\n",
       "      <th>27988</th>\n",
       "      <td>2020-06-11</td>\n",
       "      <td>0.012137</td>\n",
       "      <td>0.504921</td>\n",
       "    </tr>\n",
       "  </tbody>\n",
       "</table>\n",
       "<p>27989 rows × 3 columns</p>\n",
       "</div>"
      ],
      "text/plain": [
       "             date  sentiment  daily_return\n",
       "0      2011-04-28   0.068182     -0.012804\n",
       "1      2011-04-28   0.068182     -0.018763\n",
       "2      2011-04-29   0.166667     -0.012855\n",
       "3      2011-04-29   0.166667     -0.896206\n",
       "4      2011-05-02  -0.020833     -0.069340\n",
       "...           ...        ...           ...\n",
       "27984  2020-06-11   0.012137      0.606365\n",
       "27985  2020-06-11   0.012137      0.000000\n",
       "27986  2020-06-11   0.012137      0.473776\n",
       "27987  2020-06-11   0.012137      0.000000\n",
       "27988  2020-06-11   0.012137      0.504921\n",
       "\n",
       "[27989 rows x 3 columns]"
      ]
     },
     "execution_count": 29,
     "metadata": {},
     "output_type": "execute_result"
    }
   ],
   "source": [
    "daily_sentiment_and_merge(aligned_data )"
   ]
  },
  {
   "cell_type": "code",
   "execution_count": 30,
   "id": "e4b19e16",
   "metadata": {},
   "outputs": [
    {
     "data": {
      "application/vnd.microsoft.datawrangler.viewer.v0+json": {
       "columns": [
        {
         "name": "index",
         "rawType": "int64",
         "type": "integer"
        },
        {
         "name": "date",
         "rawType": "object",
         "type": "unknown"
        },
        {
         "name": "sentiment",
         "rawType": "float64",
         "type": "float"
        },
        {
         "name": "daily_return",
         "rawType": "float64",
         "type": "float"
        }
       ],
       "ref": "4ceffcb0-85f9-4fee-ba37-b13ba3efc123",
       "rows": [
        [
         "0",
         "2011-04-28",
         "0.06818181818181818",
         "-0.012803656703890942"
        ],
        [
         "1",
         "2011-04-28",
         "0.06818181818181818",
         "-0.01876253556490559"
        ],
        [
         "2",
         "2011-04-29",
         "0.16666666666666669",
         "-0.012855467958591604"
        ],
        [
         "3",
         "2011-04-29",
         "0.16666666666666669",
         "-0.8962057114584976"
        ],
        [
         "4",
         "2011-05-02",
         "-0.020833333333333332",
         "-0.06934038982330937"
        ],
        [
         "5",
         "2011-05-02",
         "-0.020833333333333332",
         "0.04704654287975818"
        ],
        [
         "6",
         "2011-05-02",
         "-0.020833333333333332",
         "-0.23157130506010526"
        ],
        [
         "7",
         "2011-05-02",
         "-0.020833333333333332",
         "0.03947300217174643"
        ],
        [
         "8",
         "2011-05-05",
         "0.0",
         "-0.229045219315257"
        ],
        [
         "9",
         "2011-05-06",
         "0.25",
         "-0.08327534450848184"
        ]
       ],
       "shape": {
        "columns": 3,
        "rows": 10
       }
      },
      "text/html": [
       "<div>\n",
       "<style scoped>\n",
       "    .dataframe tbody tr th:only-of-type {\n",
       "        vertical-align: middle;\n",
       "    }\n",
       "\n",
       "    .dataframe tbody tr th {\n",
       "        vertical-align: top;\n",
       "    }\n",
       "\n",
       "    .dataframe thead th {\n",
       "        text-align: right;\n",
       "    }\n",
       "</style>\n",
       "<table border=\"1\" class=\"dataframe\">\n",
       "  <thead>\n",
       "    <tr style=\"text-align: right;\">\n",
       "      <th></th>\n",
       "      <th>date</th>\n",
       "      <th>sentiment</th>\n",
       "      <th>daily_return</th>\n",
       "    </tr>\n",
       "  </thead>\n",
       "  <tbody>\n",
       "    <tr>\n",
       "      <th>0</th>\n",
       "      <td>2011-04-28</td>\n",
       "      <td>0.068182</td>\n",
       "      <td>-0.012804</td>\n",
       "    </tr>\n",
       "    <tr>\n",
       "      <th>1</th>\n",
       "      <td>2011-04-28</td>\n",
       "      <td>0.068182</td>\n",
       "      <td>-0.018763</td>\n",
       "    </tr>\n",
       "    <tr>\n",
       "      <th>2</th>\n",
       "      <td>2011-04-29</td>\n",
       "      <td>0.166667</td>\n",
       "      <td>-0.012855</td>\n",
       "    </tr>\n",
       "    <tr>\n",
       "      <th>3</th>\n",
       "      <td>2011-04-29</td>\n",
       "      <td>0.166667</td>\n",
       "      <td>-0.896206</td>\n",
       "    </tr>\n",
       "    <tr>\n",
       "      <th>4</th>\n",
       "      <td>2011-05-02</td>\n",
       "      <td>-0.020833</td>\n",
       "      <td>-0.069340</td>\n",
       "    </tr>\n",
       "    <tr>\n",
       "      <th>5</th>\n",
       "      <td>2011-05-02</td>\n",
       "      <td>-0.020833</td>\n",
       "      <td>0.047047</td>\n",
       "    </tr>\n",
       "    <tr>\n",
       "      <th>6</th>\n",
       "      <td>2011-05-02</td>\n",
       "      <td>-0.020833</td>\n",
       "      <td>-0.231571</td>\n",
       "    </tr>\n",
       "    <tr>\n",
       "      <th>7</th>\n",
       "      <td>2011-05-02</td>\n",
       "      <td>-0.020833</td>\n",
       "      <td>0.039473</td>\n",
       "    </tr>\n",
       "    <tr>\n",
       "      <th>8</th>\n",
       "      <td>2011-05-05</td>\n",
       "      <td>0.000000</td>\n",
       "      <td>-0.229045</td>\n",
       "    </tr>\n",
       "    <tr>\n",
       "      <th>9</th>\n",
       "      <td>2011-05-06</td>\n",
       "      <td>0.250000</td>\n",
       "      <td>-0.083275</td>\n",
       "    </tr>\n",
       "  </tbody>\n",
       "</table>\n",
       "</div>"
      ],
      "text/plain": [
       "         date  sentiment  daily_return\n",
       "0  2011-04-28   0.068182     -0.012804\n",
       "1  2011-04-28   0.068182     -0.018763\n",
       "2  2011-04-29   0.166667     -0.012855\n",
       "3  2011-04-29   0.166667     -0.896206\n",
       "4  2011-05-02  -0.020833     -0.069340\n",
       "5  2011-05-02  -0.020833      0.047047\n",
       "6  2011-05-02  -0.020833     -0.231571\n",
       "7  2011-05-02  -0.020833      0.039473\n",
       "8  2011-05-05   0.000000     -0.229045\n",
       "9  2011-05-06   0.250000     -0.083275"
      ]
     },
     "execution_count": 30,
     "metadata": {},
     "output_type": "execute_result"
    }
   ],
   "source": [
    "# Calculate daily sentiment and merge with stock data\n",
    "merged_data = daily_sentiment_and_merge(aligned_data )\n",
    "merged_data.head(10)    "
   ]
  },
  {
   "cell_type": "markdown",
   "id": "063a620f",
   "metadata": {},
   "source": [
    "4. Correlation Analysis: Use statistical methods to test the correlation between daily news sentiment scores and stock returns."
   ]
  },
  {
   "cell_type": "code",
   "execution_count": 31,
   "id": "2adb9d64",
   "metadata": {},
   "outputs": [
    {
     "name": "stdout",
     "output_type": "stream",
     "text": [
      "Correlation between daily sentiment scores and stock returns: -0.03556910467393701\n"
     ]
    }
   ],
   "source": [
    "# Calculate the correlation between daily sentiment scores and stock returns\n",
    "correlation = merged_data['sentiment'].corr( merged_data['daily_return'])\n",
    "print(\"Correlation between daily sentiment scores and stock returns:\", correlation)"
   ]
  },
  {
   "cell_type": "code",
   "execution_count": 32,
   "id": "567680ba",
   "metadata": {},
   "outputs": [
    {
     "data": {
      "image/png": "[encoded data removed]",
      "text/plain": [
       "<Figure size 1400x800 with 1 Axes>"
      ]
     },
     "metadata": {},
     "output_type": "display_data"
    }
   ],
   "source": [
    "# Function to plot sentiment and daily return correlation\n",
    "plot_sentiment_and_daily_return_correlation(merged_data)"
   ]
  },
  {
   "cell_type": "code",
   "execution_count": 33,
   "id": "69f36bd2",
   "metadata": {},
   "outputs": [],
   "source": [
    "# Calculate the correlation matrix between sentiment and daily returns\n",
    "correlation_matrix = merged_data[['sentiment', 'daily_return']].corr()\n"
   ]
  },
  {
   "cell_type": "code",
   "execution_count": 34,
   "id": "c497c311",
   "metadata": {},
   "outputs": [
    {
     "data": {
      "image/png": "[encoded data removed]",
      "text/plain": [
       "<Figure size 1000x800 with 2 Axes>"
      ]
     },
     "metadata": {},
     "output_type": "display_data"
    }
   ],
   "source": [
    "# Function to plot the correlation heatmap\n",
    "\n",
    "correlation_heatmap(correlation_matrix)"
   ]
  }
 ],
 "metadata": {
  "kernelspec": {
   "display_name": ".venv311",
   "language": "python",
   "name": "python3"
  },
  "language_info": {
   "codemirror_mode": {
    "name": "ipython",
    "version": 3
   },
   "file_extension": ".py",
   "mimetype": "text/x-python",
   "name": "python",
   "nbconvert_exporter": "python",
   "pygments_lexer": "ipython3",
   "version": "3.11.0"
  }
 },
 "nbformat": 4,
 "nbformat_minor": 5
}
