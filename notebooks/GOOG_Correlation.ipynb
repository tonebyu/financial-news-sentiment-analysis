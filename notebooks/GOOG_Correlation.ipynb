{
 "cells": [
  {
   "cell_type": "markdown",
   "id": "4a944b61",
   "metadata": {},
   "source": [
    "### GOOG Correlation\n",
    "Perform CA For GOOG"
   ]
  },
  {
   "cell_type": "code",
   "execution_count": 17,
   "id": "45ed393b",
   "metadata": {},
   "outputs": [
    {
     "name": "stdout",
     "output_type": "stream",
     "text": [
      "The autoreload extension is already loaded. To reload it, use:\n",
      "  %reload_ext autoreload\n"
     ]
    }
   ],
   "source": [
    "# Enables automatic reloading of modules when they change and allows importing from the parent directory.\n",
    "'''\n",
    "Allow importing custom modules from the parent directory.\n",
    "Ensure that any changes to those modules (e.g., editing a .py file in the parent directory) \n",
    "are automatically reloaded when you run cells, making development and testing more efficient.\n",
    "'''\n",
    "\n",
    "%load_ext autoreload\n",
    "%autoreload 2\n",
    "import sys\n",
    "import os\n",
    "sys.path.append(os.path.abspath(\"..\"))"
   ]
  },
  {
   "cell_type": "code",
   "execution_count": 18,
   "id": "3fc6eaa9",
   "metadata": {},
   "outputs": [],
   "source": [
    "from scripts.correlation_analysis import ( load_data, analyze_sentiment, sentiment_distribution_plot\n",
    "                                          , daily_returns,plot_daily_returns, daily_sentiment_and_merge\n",
    "                                          ,plot_sentiment_and_daily_return_correlation, correlation_heatmap)"
   ]
  },
  {
   "cell_type": "code",
   "execution_count": 19,
   "id": "1a2da809",
   "metadata": {},
   "outputs": [],
   "source": [
    "# Load the news and stock data\n",
    "# Ensure the paths are correct relative to the current working directory\n",
    "news_data = '../Data/raw_analyst_ratings.csv'\n",
    "stock_data = '../Data/GOOG_historical_data.csv'\n"
   ]
  },
  {
   "cell_type": "markdown",
   "id": "523f1f38",
   "metadata": {},
   "source": [
    "1. Date Alignment: Ensure that both datasets (news and stock prices) are aligned by dates. This might involve normalizing timestamps."
   ]
  },
  {
   "cell_type": "code",
   "execution_count": 20,
   "id": "7f4b68b0",
   "metadata": {},
   "outputs": [],
   "source": [
    "#Align the news and stock data\n",
    "aligned_data = load_data(news_data, stock_data)"
   ]
  },
  {
   "cell_type": "code",
   "execution_count": 21,
   "id": "9e6b6741",
   "metadata": {},
   "outputs": [
    {
     "data": {
      "application/vnd.microsoft.datawrangler.viewer.v0+json": {
       "columns": [
        {
         "name": "index",
         "rawType": "int64",
         "type": "integer"
        },
        {
         "name": "Unnamed: 0",
         "rawType": "int64",
         "type": "integer"
        },
        {
         "name": "headline",
         "rawType": "object",
         "type": "string"
        },
        {
         "name": "url",
         "rawType": "object",
         "type": "string"
        },
        {
         "name": "publisher",
         "rawType": "object",
         "type": "string"
        },
        {
         "name": "date",
         "rawType": "object",
         "type": "unknown"
        },
        {
         "name": "stock",
         "rawType": "object",
         "type": "string"
        },
        {
         "name": "Open",
         "rawType": "float64",
         "type": "float"
        },
        {
         "name": "High",
         "rawType": "float64",
         "type": "float"
        },
        {
         "name": "Low",
         "rawType": "float64",
         "type": "float"
        },
        {
         "name": "Close",
         "rawType": "float64",
         "type": "float"
        },
        {
         "name": "Adj Close",
         "rawType": "float64",
         "type": "float"
        },
        {
         "name": "Volume",
         "rawType": "int64",
         "type": "integer"
        },
        {
         "name": "Dividends",
         "rawType": "float64",
         "type": "float"
        },
        {
         "name": "Stock Splits",
         "rawType": "float64",
         "type": "float"
        }
       ],
       "ref": "4d201165-dfb6-4e8a-a4a6-5cb10c5e0835",
       "rows": [
        [
         "0",
         "0",
         "Stocks That Hit 52-Week Highs On Friday",
         "https://www.benzinga.com/news/20/06/16190091/stocks-that-hit-52-week-highs-on-friday",
         "Benzinga Insights",
         "2020-06-05",
         "A",
         "70.65850067138672",
         "72.25250244140625",
         "70.30000305175781",
         "71.91950225830078",
         "71.83775329589844",
         "34698000",
         "0.0",
         "0.0"
        ],
        [
         "1",
         "1",
         "Stocks That Hit 52-Week Highs On Wednesday",
         "https://www.benzinga.com/news/20/06/16170189/stocks-that-hit-52-week-highs-on-wednesday",
         "Benzinga Insights",
         "2020-06-03",
         "A",
         "71.91500091552734",
         "72.32759857177734",
         "71.48885345458984",
         "71.81900024414062",
         "71.73736572265625",
         "25124000",
         "0.0",
         "0.0"
        ],
        [
         "2",
         "2",
         "71 Biggest Movers From Friday",
         "https://www.benzinga.com/news/20/05/16103463/71-biggest-movers-from-friday",
         "Lisa Levin",
         "2020-05-26",
         "A",
         "71.8635025024414",
         "72.05000305175781",
         "70.60649871826172",
         "70.85099792480469",
         "70.77046203613281",
         "41212000",
         "0.0",
         "0.0"
        ],
        [
         "3",
         "3",
         "46 Stocks Moving In Friday's Mid-Day Session",
         "https://www.benzinga.com/news/20/05/16095921/46-stocks-moving-in-fridays-mid-day-session",
         "Lisa Levin",
         "2020-05-22",
         "A",
         "69.83550262451172",
         "70.63800048828125",
         "69.59149932861328",
         "70.52100372314453",
         "70.44084167480469",
         "26188000",
         "0.0",
         "0.0"
        ],
        [
         "4",
         "4",
         "B of A Securities Maintains Neutral on Agilent Technologies, Raises Price Target to $88",
         "https://www.benzinga.com/news/20/05/16095304/b-of-a-securities-maintains-neutral-on-agilent-technologies-raises-price-target-to-88",
         "Vick Meyer",
         "2020-05-22",
         "A",
         "69.83550262451172",
         "70.63800048828125",
         "69.59149932861328",
         "70.52100372314453",
         "70.44084167480469",
         "26188000",
         "0.0",
         "0.0"
        ],
        [
         "5",
         "5",
         "CFRA Maintains Hold on Agilent Technologies, Lowers Price Target to $85",
         "https://www.benzinga.com/news/20/05/16095163/cfra-maintains-hold-on-agilent-technologies-lowers-price-target-to-85",
         "vishwanath@benzinga.com",
         "2020-05-22",
         "A",
         "69.83550262451172",
         "70.63800048828125",
         "69.59149932861328",
         "70.52100372314453",
         "70.44084167480469",
         "26188000",
         "0.0",
         "0.0"
        ],
        [
         "6",
         "6",
         "UBS Maintains Neutral on Agilent Technologies, Raises Price Target to $87",
         "https://www.benzinga.com/news/20/05/16094027/ubs-maintains-neutral-on-agilent-technologies-raises-price-target-to-87",
         "vishwanath@benzinga.com",
         "2020-05-22",
         "A",
         "69.83550262451172",
         "70.63800048828125",
         "69.59149932861328",
         "70.52100372314453",
         "70.44084167480469",
         "26188000",
         "0.0",
         "0.0"
        ],
        [
         "7",
         "7",
         "Agilent Technologies shares are trading higher after the company reported better-than-expected Q2 EPS and sales results.",
         "https://www.benzinga.com/wiim/20/05/16093805/agilent-technologies-shares-are-trading-higher-after-the-company-reported-better-than-expected-q2-ep",
         "Benzinga Newsdesk",
         "2020-05-22",
         "A",
         "69.83550262451172",
         "70.63800048828125",
         "69.59149932861328",
         "70.52100372314453",
         "70.44084167480469",
         "26188000",
         "0.0",
         "0.0"
        ],
        [
         "8",
         "8",
         "Wells Fargo Maintains Overweight on Agilent Technologies, Raises Price Target to $95",
         "https://www.benzinga.com/news/20/05/16093505/wells-fargo-maintains-overweight-on-agilent-technologies-raises-price-target-to-95",
         "vishwanath@benzinga.com",
         "2020-05-22",
         "A",
         "69.83550262451172",
         "70.63800048828125",
         "69.59149932861328",
         "70.52100372314453",
         "70.44084167480469",
         "26188000",
         "0.0",
         "0.0"
        ],
        [
         "9",
         "9",
         "10 Biggest Price Target Changes For Friday",
         "https://www.benzinga.com/analyst-ratings/price-target/20/05/16093262/10-biggest-price-target-changes-for-friday",
         "Lisa Levin",
         "2020-05-22",
         "A",
         "69.83550262451172",
         "70.63800048828125",
         "69.59149932861328",
         "70.52100372314453",
         "70.44084167480469",
         "26188000",
         "0.0",
         "0.0"
        ]
       ],
       "shape": {
        "columns": 14,
        "rows": 10
       }
      },
      "text/html": [
       "<div>\n",
       "<style scoped>\n",
       "    .dataframe tbody tr th:only-of-type {\n",
       "        vertical-align: middle;\n",
       "    }\n",
       "\n",
       "    .dataframe tbody tr th {\n",
       "        vertical-align: top;\n",
       "    }\n",
       "\n",
       "    .dataframe thead th {\n",
       "        text-align: right;\n",
       "    }\n",
       "</style>\n",
       "<table border=\"1\" class=\"dataframe\">\n",
       "  <thead>\n",
       "    <tr style=\"text-align: right;\">\n",
       "      <th></th>\n",
       "      <th>Unnamed: 0</th>\n",
       "      <th>headline</th>\n",
       "      <th>url</th>\n",
       "      <th>publisher</th>\n",
       "      <th>date</th>\n",
       "      <th>stock</th>\n",
       "      <th>Open</th>\n",
       "      <th>High</th>\n",
       "      <th>Low</th>\n",
       "      <th>Close</th>\n",
       "      <th>Adj Close</th>\n",
       "      <th>Volume</th>\n",
       "      <th>Dividends</th>\n",
       "      <th>Stock Splits</th>\n",
       "    </tr>\n",
       "  </thead>\n",
       "  <tbody>\n",
       "    <tr>\n",
       "      <th>0</th>\n",
       "      <td>0</td>\n",
       "      <td>Stocks That Hit 52-Week Highs On Friday</td>\n",
       "      <td>https://www.benzinga.com/news/20/06/16190091/s...</td>\n",
       "      <td>Benzinga Insights</td>\n",
       "      <td>2020-06-05</td>\n",
       "      <td>A</td>\n",
       "      <td>70.658501</td>\n",
       "      <td>72.252502</td>\n",
       "      <td>70.300003</td>\n",
       "      <td>71.919502</td>\n",
       "      <td>71.837753</td>\n",
       "      <td>34698000</td>\n",
       "      <td>0.0</td>\n",
       "      <td>0.0</td>\n",
       "    </tr>\n",
       "    <tr>\n",
       "      <th>1</th>\n",
       "      <td>1</td>\n",
       "      <td>Stocks That Hit 52-Week Highs On Wednesday</td>\n",
       "      <td>https://www.benzinga.com/news/20/06/16170189/s...</td>\n",
       "      <td>Benzinga Insights</td>\n",
       "      <td>2020-06-03</td>\n",
       "      <td>A</td>\n",
       "      <td>71.915001</td>\n",
       "      <td>72.327599</td>\n",
       "      <td>71.488853</td>\n",
       "      <td>71.819000</td>\n",
       "      <td>71.737366</td>\n",
       "      <td>25124000</td>\n",
       "      <td>0.0</td>\n",
       "      <td>0.0</td>\n",
       "    </tr>\n",
       "    <tr>\n",
       "      <th>2</th>\n",
       "      <td>2</td>\n",
       "      <td>71 Biggest Movers From Friday</td>\n",
       "      <td>https://www.benzinga.com/news/20/05/16103463/7...</td>\n",
       "      <td>Lisa Levin</td>\n",
       "      <td>2020-05-26</td>\n",
       "      <td>A</td>\n",
       "      <td>71.863503</td>\n",
       "      <td>72.050003</td>\n",
       "      <td>70.606499</td>\n",
       "      <td>70.850998</td>\n",
       "      <td>70.770462</td>\n",
       "      <td>41212000</td>\n",
       "      <td>0.0</td>\n",
       "      <td>0.0</td>\n",
       "    </tr>\n",
       "    <tr>\n",
       "      <th>3</th>\n",
       "      <td>3</td>\n",
       "      <td>46 Stocks Moving In Friday's Mid-Day Session</td>\n",
       "      <td>https://www.benzinga.com/news/20/05/16095921/4...</td>\n",
       "      <td>Lisa Levin</td>\n",
       "      <td>2020-05-22</td>\n",
       "      <td>A</td>\n",
       "      <td>69.835503</td>\n",
       "      <td>70.638000</td>\n",
       "      <td>69.591499</td>\n",
       "      <td>70.521004</td>\n",
       "      <td>70.440842</td>\n",
       "      <td>26188000</td>\n",
       "      <td>0.0</td>\n",
       "      <td>0.0</td>\n",
       "    </tr>\n",
       "    <tr>\n",
       "      <th>4</th>\n",
       "      <td>4</td>\n",
       "      <td>B of A Securities Maintains Neutral on Agilent...</td>\n",
       "      <td>https://www.benzinga.com/news/20/05/16095304/b...</td>\n",
       "      <td>Vick Meyer</td>\n",
       "      <td>2020-05-22</td>\n",
       "      <td>A</td>\n",
       "      <td>69.835503</td>\n",
       "      <td>70.638000</td>\n",
       "      <td>69.591499</td>\n",
       "      <td>70.521004</td>\n",
       "      <td>70.440842</td>\n",
       "      <td>26188000</td>\n",
       "      <td>0.0</td>\n",
       "      <td>0.0</td>\n",
       "    </tr>\n",
       "    <tr>\n",
       "      <th>5</th>\n",
       "      <td>5</td>\n",
       "      <td>CFRA Maintains Hold on Agilent Technologies, L...</td>\n",
       "      <td>https://www.benzinga.com/news/20/05/16095163/c...</td>\n",
       "      <td>vishwanath@benzinga.com</td>\n",
       "      <td>2020-05-22</td>\n",
       "      <td>A</td>\n",
       "      <td>69.835503</td>\n",
       "      <td>70.638000</td>\n",
       "      <td>69.591499</td>\n",
       "      <td>70.521004</td>\n",
       "      <td>70.440842</td>\n",
       "      <td>26188000</td>\n",
       "      <td>0.0</td>\n",
       "      <td>0.0</td>\n",
       "    </tr>\n",
       "    <tr>\n",
       "      <th>6</th>\n",
       "      <td>6</td>\n",
       "      <td>UBS Maintains Neutral on Agilent Technologies,...</td>\n",
       "      <td>https://www.benzinga.com/news/20/05/16094027/u...</td>\n",
       "      <td>vishwanath@benzinga.com</td>\n",
       "      <td>2020-05-22</td>\n",
       "      <td>A</td>\n",
       "      <td>69.835503</td>\n",
       "      <td>70.638000</td>\n",
       "      <td>69.591499</td>\n",
       "      <td>70.521004</td>\n",
       "      <td>70.440842</td>\n",
       "      <td>26188000</td>\n",
       "      <td>0.0</td>\n",
       "      <td>0.0</td>\n",
       "    </tr>\n",
       "    <tr>\n",
       "      <th>7</th>\n",
       "      <td>7</td>\n",
       "      <td>Agilent Technologies shares are trading higher...</td>\n",
       "      <td>https://www.benzinga.com/wiim/20/05/16093805/a...</td>\n",
       "      <td>Benzinga Newsdesk</td>\n",
       "      <td>2020-05-22</td>\n",
       "      <td>A</td>\n",
       "      <td>69.835503</td>\n",
       "      <td>70.638000</td>\n",
       "      <td>69.591499</td>\n",
       "      <td>70.521004</td>\n",
       "      <td>70.440842</td>\n",
       "      <td>26188000</td>\n",
       "      <td>0.0</td>\n",
       "      <td>0.0</td>\n",
       "    </tr>\n",
       "    <tr>\n",
       "      <th>8</th>\n",
       "      <td>8</td>\n",
       "      <td>Wells Fargo Maintains Overweight on Agilent Te...</td>\n",
       "      <td>https://www.benzinga.com/news/20/05/16093505/w...</td>\n",
       "      <td>vishwanath@benzinga.com</td>\n",
       "      <td>2020-05-22</td>\n",
       "      <td>A</td>\n",
       "      <td>69.835503</td>\n",
       "      <td>70.638000</td>\n",
       "      <td>69.591499</td>\n",
       "      <td>70.521004</td>\n",
       "      <td>70.440842</td>\n",
       "      <td>26188000</td>\n",
       "      <td>0.0</td>\n",
       "      <td>0.0</td>\n",
       "    </tr>\n",
       "    <tr>\n",
       "      <th>9</th>\n",
       "      <td>9</td>\n",
       "      <td>10 Biggest Price Target Changes For Friday</td>\n",
       "      <td>https://www.benzinga.com/analyst-ratings/price...</td>\n",
       "      <td>Lisa Levin</td>\n",
       "      <td>2020-05-22</td>\n",
       "      <td>A</td>\n",
       "      <td>69.835503</td>\n",
       "      <td>70.638000</td>\n",
       "      <td>69.591499</td>\n",
       "      <td>70.521004</td>\n",
       "      <td>70.440842</td>\n",
       "      <td>26188000</td>\n",
       "      <td>0.0</td>\n",
       "      <td>0.0</td>\n",
       "    </tr>\n",
       "  </tbody>\n",
       "</table>\n",
       "</div>"
      ],
      "text/plain": [
       "   Unnamed: 0                                           headline  \\\n",
       "0           0            Stocks That Hit 52-Week Highs On Friday   \n",
       "1           1         Stocks That Hit 52-Week Highs On Wednesday   \n",
       "2           2                      71 Biggest Movers From Friday   \n",
       "3           3       46 Stocks Moving In Friday's Mid-Day Session   \n",
       "4           4  B of A Securities Maintains Neutral on Agilent...   \n",
       "5           5  CFRA Maintains Hold on Agilent Technologies, L...   \n",
       "6           6  UBS Maintains Neutral on Agilent Technologies,...   \n",
       "7           7  Agilent Technologies shares are trading higher...   \n",
       "8           8  Wells Fargo Maintains Overweight on Agilent Te...   \n",
       "9           9         10 Biggest Price Target Changes For Friday   \n",
       "\n",
       "                                                 url                publisher  \\\n",
       "0  https://www.benzinga.com/news/20/06/16190091/s...        Benzinga Insights   \n",
       "1  https://www.benzinga.com/news/20/06/16170189/s...        Benzinga Insights   \n",
       "2  https://www.benzinga.com/news/20/05/16103463/7...               Lisa Levin   \n",
       "3  https://www.benzinga.com/news/20/05/16095921/4...               Lisa Levin   \n",
       "4  https://www.benzinga.com/news/20/05/16095304/b...               Vick Meyer   \n",
       "5  https://www.benzinga.com/news/20/05/16095163/c...  vishwanath@benzinga.com   \n",
       "6  https://www.benzinga.com/news/20/05/16094027/u...  vishwanath@benzinga.com   \n",
       "7  https://www.benzinga.com/wiim/20/05/16093805/a...        Benzinga Newsdesk   \n",
       "8  https://www.benzinga.com/news/20/05/16093505/w...  vishwanath@benzinga.com   \n",
       "9  https://www.benzinga.com/analyst-ratings/price...               Lisa Levin   \n",
       "\n",
       "         date stock       Open       High        Low      Close  Adj Close  \\\n",
       "0  2020-06-05     A  70.658501  72.252502  70.300003  71.919502  71.837753   \n",
       "1  2020-06-03     A  71.915001  72.327599  71.488853  71.819000  71.737366   \n",
       "2  2020-05-26     A  71.863503  72.050003  70.606499  70.850998  70.770462   \n",
       "3  2020-05-22     A  69.835503  70.638000  69.591499  70.521004  70.440842   \n",
       "4  2020-05-22     A  69.835503  70.638000  69.591499  70.521004  70.440842   \n",
       "5  2020-05-22     A  69.835503  70.638000  69.591499  70.521004  70.440842   \n",
       "6  2020-05-22     A  69.835503  70.638000  69.591499  70.521004  70.440842   \n",
       "7  2020-05-22     A  69.835503  70.638000  69.591499  70.521004  70.440842   \n",
       "8  2020-05-22     A  69.835503  70.638000  69.591499  70.521004  70.440842   \n",
       "9  2020-05-22     A  69.835503  70.638000  69.591499  70.521004  70.440842   \n",
       "\n",
       "     Volume  Dividends  Stock Splits  \n",
       "0  34698000        0.0           0.0  \n",
       "1  25124000        0.0           0.0  \n",
       "2  41212000        0.0           0.0  \n",
       "3  26188000        0.0           0.0  \n",
       "4  26188000        0.0           0.0  \n",
       "5  26188000        0.0           0.0  \n",
       "6  26188000        0.0           0.0  \n",
       "7  26188000        0.0           0.0  \n",
       "8  26188000        0.0           0.0  \n",
       "9  26188000        0.0           0.0  "
      ]
     },
     "execution_count": 21,
     "metadata": {},
     "output_type": "execute_result"
    }
   ],
   "source": [
    "# Display the first few rows of the aligned data\n",
    "aligned_data.head(10)\n"
   ]
  },
  {
   "cell_type": "markdown",
   "id": "1025ceed",
   "metadata": {},
   "source": [
    "2. Sentiment Analysis: Conduct sentiment analysis on news headlines"
   ]
  },
  {
   "cell_type": "code",
   "execution_count": 22,
   "id": "675ff0e5",
   "metadata": {},
   "outputs": [
    {
     "name": "stdout",
     "output_type": "stream",
     "text": [
      "                                            headline  sentiment\n",
      "0            Stocks That Hit 52-Week Highs On Friday        0.0\n",
      "1         Stocks That Hit 52-Week Highs On Wednesday        0.0\n",
      "2                      71 Biggest Movers From Friday        0.0\n",
      "3       46 Stocks Moving In Friday's Mid-Day Session        0.0\n",
      "4  B of A Securities Maintains Neutral on Agilent...        0.0\n"
     ]
    },
    {
     "data": {
      "application/vnd.microsoft.datawrangler.viewer.v0+json": {
       "columns": [
        {
         "name": "index",
         "rawType": "int64",
         "type": "integer"
        },
        {
         "name": "Unnamed: 0",
         "rawType": "int64",
         "type": "integer"
        },
        {
         "name": "headline",
         "rawType": "object",
         "type": "string"
        },
        {
         "name": "url",
         "rawType": "object",
         "type": "string"
        },
        {
         "name": "publisher",
         "rawType": "object",
         "type": "string"
        },
        {
         "name": "date",
         "rawType": "object",
         "type": "unknown"
        },
        {
         "name": "stock",
         "rawType": "object",
         "type": "string"
        },
        {
         "name": "Open",
         "rawType": "float64",
         "type": "float"
        },
        {
         "name": "High",
         "rawType": "float64",
         "type": "float"
        },
        {
         "name": "Low",
         "rawType": "float64",
         "type": "float"
        },
        {
         "name": "Close",
         "rawType": "float64",
         "type": "float"
        },
        {
         "name": "Adj Close",
         "rawType": "float64",
         "type": "float"
        },
        {
         "name": "Volume",
         "rawType": "int64",
         "type": "integer"
        },
        {
         "name": "Dividends",
         "rawType": "float64",
         "type": "float"
        },
        {
         "name": "Stock Splits",
         "rawType": "float64",
         "type": "float"
        },
        {
         "name": "sentiment",
         "rawType": "float64",
         "type": "float"
        }
       ],
       "ref": "06b62918-6edc-4a1e-aa28-3e9090d1a880",
       "rows": [
        [
         "0",
         "0",
         "Stocks That Hit 52-Week Highs On Friday",
         "https://www.benzinga.com/news/20/06/16190091/stocks-that-hit-52-week-highs-on-friday",
         "Benzinga Insights",
         "2020-06-05",
         "A",
         "70.65850067138672",
         "72.25250244140625",
         "70.30000305175781",
         "71.91950225830078",
         "71.83775329589844",
         "34698000",
         "0.0",
         "0.0",
         "0.0"
        ],
        [
         "1",
         "1",
         "Stocks That Hit 52-Week Highs On Wednesday",
         "https://www.benzinga.com/news/20/06/16170189/stocks-that-hit-52-week-highs-on-wednesday",
         "Benzinga Insights",
         "2020-06-03",
         "A",
         "71.91500091552734",
         "72.32759857177734",
         "71.48885345458984",
         "71.81900024414062",
         "71.73736572265625",
         "25124000",
         "0.0",
         "0.0",
         "0.0"
        ],
        [
         "2",
         "2",
         "71 Biggest Movers From Friday",
         "https://www.benzinga.com/news/20/05/16103463/71-biggest-movers-from-friday",
         "Lisa Levin",
         "2020-05-26",
         "A",
         "71.8635025024414",
         "72.05000305175781",
         "70.60649871826172",
         "70.85099792480469",
         "70.77046203613281",
         "41212000",
         "0.0",
         "0.0",
         "0.0"
        ],
        [
         "3",
         "3",
         "46 Stocks Moving In Friday's Mid-Day Session",
         "https://www.benzinga.com/news/20/05/16095921/46-stocks-moving-in-fridays-mid-day-session",
         "Lisa Levin",
         "2020-05-22",
         "A",
         "69.83550262451172",
         "70.63800048828125",
         "69.59149932861328",
         "70.52100372314453",
         "70.44084167480469",
         "26188000",
         "0.0",
         "0.0",
         "0.0"
        ],
        [
         "4",
         "4",
         "B of A Securities Maintains Neutral on Agilent Technologies, Raises Price Target to $88",
         "https://www.benzinga.com/news/20/05/16095304/b-of-a-securities-maintains-neutral-on-agilent-technologies-raises-price-target-to-88",
         "Vick Meyer",
         "2020-05-22",
         "A",
         "69.83550262451172",
         "70.63800048828125",
         "69.59149932861328",
         "70.52100372314453",
         "70.44084167480469",
         "26188000",
         "0.0",
         "0.0",
         "0.0"
        ],
        [
         "5",
         "5",
         "CFRA Maintains Hold on Agilent Technologies, Lowers Price Target to $85",
         "https://www.benzinga.com/news/20/05/16095163/cfra-maintains-hold-on-agilent-technologies-lowers-price-target-to-85",
         "vishwanath@benzinga.com",
         "2020-05-22",
         "A",
         "69.83550262451172",
         "70.63800048828125",
         "69.59149932861328",
         "70.52100372314453",
         "70.44084167480469",
         "26188000",
         "0.0",
         "0.0",
         "0.0"
        ],
        [
         "6",
         "6",
         "UBS Maintains Neutral on Agilent Technologies, Raises Price Target to $87",
         "https://www.benzinga.com/news/20/05/16094027/ubs-maintains-neutral-on-agilent-technologies-raises-price-target-to-87",
         "vishwanath@benzinga.com",
         "2020-05-22",
         "A",
         "69.83550262451172",
         "70.63800048828125",
         "69.59149932861328",
         "70.52100372314453",
         "70.44084167480469",
         "26188000",
         "0.0",
         "0.0",
         "0.0"
        ],
        [
         "7",
         "7",
         "Agilent Technologies shares are trading higher after the company reported better-than-expected Q2 EPS and sales results.",
         "https://www.benzinga.com/wiim/20/05/16093805/agilent-technologies-shares-are-trading-higher-after-the-company-reported-better-than-expected-q2-ep",
         "Benzinga Newsdesk",
         "2020-05-22",
         "A",
         "69.83550262451172",
         "70.63800048828125",
         "69.59149932861328",
         "70.52100372314453",
         "70.44084167480469",
         "26188000",
         "0.0",
         "0.0",
         "0.25"
        ],
        [
         "8",
         "8",
         "Wells Fargo Maintains Overweight on Agilent Technologies, Raises Price Target to $95",
         "https://www.benzinga.com/news/20/05/16093505/wells-fargo-maintains-overweight-on-agilent-technologies-raises-price-target-to-95",
         "vishwanath@benzinga.com",
         "2020-05-22",
         "A",
         "69.83550262451172",
         "70.63800048828125",
         "69.59149932861328",
         "70.52100372314453",
         "70.44084167480469",
         "26188000",
         "0.0",
         "0.0",
         "0.0"
        ],
        [
         "9",
         "9",
         "10 Biggest Price Target Changes For Friday",
         "https://www.benzinga.com/analyst-ratings/price-target/20/05/16093262/10-biggest-price-target-changes-for-friday",
         "Lisa Levin",
         "2020-05-22",
         "A",
         "69.83550262451172",
         "70.63800048828125",
         "69.59149932861328",
         "70.52100372314453",
         "70.44084167480469",
         "26188000",
         "0.0",
         "0.0",
         "0.0"
        ]
       ],
       "shape": {
        "columns": 15,
        "rows": 10
       }
      },
      "text/html": [
       "<div>\n",
       "<style scoped>\n",
       "    .dataframe tbody tr th:only-of-type {\n",
       "        vertical-align: middle;\n",
       "    }\n",
       "\n",
       "    .dataframe tbody tr th {\n",
       "        vertical-align: top;\n",
       "    }\n",
       "\n",
       "    .dataframe thead th {\n",
       "        text-align: right;\n",
       "    }\n",
       "</style>\n",
       "<table border=\"1\" class=\"dataframe\">\n",
       "  <thead>\n",
       "    <tr style=\"text-align: right;\">\n",
       "      <th></th>\n",
       "      <th>Unnamed: 0</th>\n",
       "      <th>headline</th>\n",
       "      <th>url</th>\n",
       "      <th>publisher</th>\n",
       "      <th>date</th>\n",
       "      <th>stock</th>\n",
       "      <th>Open</th>\n",
       "      <th>High</th>\n",
       "      <th>Low</th>\n",
       "      <th>Close</th>\n",
       "      <th>Adj Close</th>\n",
       "      <th>Volume</th>\n",
       "      <th>Dividends</th>\n",
       "      <th>Stock Splits</th>\n",
       "      <th>sentiment</th>\n",
       "    </tr>\n",
       "  </thead>\n",
       "  <tbody>\n",
       "    <tr>\n",
       "      <th>0</th>\n",
       "      <td>0</td>\n",
       "      <td>Stocks That Hit 52-Week Highs On Friday</td>\n",
       "      <td>https://www.benzinga.com/news/20/06/16190091/s...</td>\n",
       "      <td>Benzinga Insights</td>\n",
       "      <td>2020-06-05</td>\n",
       "      <td>A</td>\n",
       "      <td>70.658501</td>\n",
       "      <td>72.252502</td>\n",
       "      <td>70.300003</td>\n",
       "      <td>71.919502</td>\n",
       "      <td>71.837753</td>\n",
       "      <td>34698000</td>\n",
       "      <td>0.0</td>\n",
       "      <td>0.0</td>\n",
       "      <td>0.00</td>\n",
       "    </tr>\n",
       "    <tr>\n",
       "      <th>1</th>\n",
       "      <td>1</td>\n",
       "      <td>Stocks That Hit 52-Week Highs On Wednesday</td>\n",
       "      <td>https://www.benzinga.com/news/20/06/16170189/s...</td>\n",
       "      <td>Benzinga Insights</td>\n",
       "      <td>2020-06-03</td>\n",
       "      <td>A</td>\n",
       "      <td>71.915001</td>\n",
       "      <td>72.327599</td>\n",
       "      <td>71.488853</td>\n",
       "      <td>71.819000</td>\n",
       "      <td>71.737366</td>\n",
       "      <td>25124000</td>\n",
       "      <td>0.0</td>\n",
       "      <td>0.0</td>\n",
       "      <td>0.00</td>\n",
       "    </tr>\n",
       "    <tr>\n",
       "      <th>2</th>\n",
       "      <td>2</td>\n",
       "      <td>71 Biggest Movers From Friday</td>\n",
       "      <td>https://www.benzinga.com/news/20/05/16103463/7...</td>\n",
       "      <td>Lisa Levin</td>\n",
       "      <td>2020-05-26</td>\n",
       "      <td>A</td>\n",
       "      <td>71.863503</td>\n",
       "      <td>72.050003</td>\n",
       "      <td>70.606499</td>\n",
       "      <td>70.850998</td>\n",
       "      <td>70.770462</td>\n",
       "      <td>41212000</td>\n",
       "      <td>0.0</td>\n",
       "      <td>0.0</td>\n",
       "      <td>0.00</td>\n",
       "    </tr>\n",
       "    <tr>\n",
       "      <th>3</th>\n",
       "      <td>3</td>\n",
       "      <td>46 Stocks Moving In Friday's Mid-Day Session</td>\n",
       "      <td>https://www.benzinga.com/news/20/05/16095921/4...</td>\n",
       "      <td>Lisa Levin</td>\n",
       "      <td>2020-05-22</td>\n",
       "      <td>A</td>\n",
       "      <td>69.835503</td>\n",
       "      <td>70.638000</td>\n",
       "      <td>69.591499</td>\n",
       "      <td>70.521004</td>\n",
       "      <td>70.440842</td>\n",
       "      <td>26188000</td>\n",
       "      <td>0.0</td>\n",
       "      <td>0.0</td>\n",
       "      <td>0.00</td>\n",
       "    </tr>\n",
       "    <tr>\n",
       "      <th>4</th>\n",
       "      <td>4</td>\n",
       "      <td>B of A Securities Maintains Neutral on Agilent...</td>\n",
       "      <td>https://www.benzinga.com/news/20/05/16095304/b...</td>\n",
       "      <td>Vick Meyer</td>\n",
       "      <td>2020-05-22</td>\n",
       "      <td>A</td>\n",
       "      <td>69.835503</td>\n",
       "      <td>70.638000</td>\n",
       "      <td>69.591499</td>\n",
       "      <td>70.521004</td>\n",
       "      <td>70.440842</td>\n",
       "      <td>26188000</td>\n",
       "      <td>0.0</td>\n",
       "      <td>0.0</td>\n",
       "      <td>0.00</td>\n",
       "    </tr>\n",
       "    <tr>\n",
       "      <th>5</th>\n",
       "      <td>5</td>\n",
       "      <td>CFRA Maintains Hold on Agilent Technologies, L...</td>\n",
       "      <td>https://www.benzinga.com/news/20/05/16095163/c...</td>\n",
       "      <td>vishwanath@benzinga.com</td>\n",
       "      <td>2020-05-22</td>\n",
       "      <td>A</td>\n",
       "      <td>69.835503</td>\n",
       "      <td>70.638000</td>\n",
       "      <td>69.591499</td>\n",
       "      <td>70.521004</td>\n",
       "      <td>70.440842</td>\n",
       "      <td>26188000</td>\n",
       "      <td>0.0</td>\n",
       "      <td>0.0</td>\n",
       "      <td>0.00</td>\n",
       "    </tr>\n",
       "    <tr>\n",
       "      <th>6</th>\n",
       "      <td>6</td>\n",
       "      <td>UBS Maintains Neutral on Agilent Technologies,...</td>\n",
       "      <td>https://www.benzinga.com/news/20/05/16094027/u...</td>\n",
       "      <td>vishwanath@benzinga.com</td>\n",
       "      <td>2020-05-22</td>\n",
       "      <td>A</td>\n",
       "      <td>69.835503</td>\n",
       "      <td>70.638000</td>\n",
       "      <td>69.591499</td>\n",
       "      <td>70.521004</td>\n",
       "      <td>70.440842</td>\n",
       "      <td>26188000</td>\n",
       "      <td>0.0</td>\n",
       "      <td>0.0</td>\n",
       "      <td>0.00</td>\n",
       "    </tr>\n",
       "    <tr>\n",
       "      <th>7</th>\n",
       "      <td>7</td>\n",
       "      <td>Agilent Technologies shares are trading higher...</td>\n",
       "      <td>https://www.benzinga.com/wiim/20/05/16093805/a...</td>\n",
       "      <td>Benzinga Newsdesk</td>\n",
       "      <td>2020-05-22</td>\n",
       "      <td>A</td>\n",
       "      <td>69.835503</td>\n",
       "      <td>70.638000</td>\n",
       "      <td>69.591499</td>\n",
       "      <td>70.521004</td>\n",
       "      <td>70.440842</td>\n",
       "      <td>26188000</td>\n",
       "      <td>0.0</td>\n",
       "      <td>0.0</td>\n",
       "      <td>0.25</td>\n",
       "    </tr>\n",
       "    <tr>\n",
       "      <th>8</th>\n",
       "      <td>8</td>\n",
       "      <td>Wells Fargo Maintains Overweight on Agilent Te...</td>\n",
       "      <td>https://www.benzinga.com/news/20/05/16093505/w...</td>\n",
       "      <td>vishwanath@benzinga.com</td>\n",
       "      <td>2020-05-22</td>\n",
       "      <td>A</td>\n",
       "      <td>69.835503</td>\n",
       "      <td>70.638000</td>\n",
       "      <td>69.591499</td>\n",
       "      <td>70.521004</td>\n",
       "      <td>70.440842</td>\n",
       "      <td>26188000</td>\n",
       "      <td>0.0</td>\n",
       "      <td>0.0</td>\n",
       "      <td>0.00</td>\n",
       "    </tr>\n",
       "    <tr>\n",
       "      <th>9</th>\n",
       "      <td>9</td>\n",
       "      <td>10 Biggest Price Target Changes For Friday</td>\n",
       "      <td>https://www.benzinga.com/analyst-ratings/price...</td>\n",
       "      <td>Lisa Levin</td>\n",
       "      <td>2020-05-22</td>\n",
       "      <td>A</td>\n",
       "      <td>69.835503</td>\n",
       "      <td>70.638000</td>\n",
       "      <td>69.591499</td>\n",
       "      <td>70.521004</td>\n",
       "      <td>70.440842</td>\n",
       "      <td>26188000</td>\n",
       "      <td>0.0</td>\n",
       "      <td>0.0</td>\n",
       "      <td>0.00</td>\n",
       "    </tr>\n",
       "  </tbody>\n",
       "</table>\n",
       "</div>"
      ],
      "text/plain": [
       "   Unnamed: 0                                           headline  \\\n",
       "0           0            Stocks That Hit 52-Week Highs On Friday   \n",
       "1           1         Stocks That Hit 52-Week Highs On Wednesday   \n",
       "2           2                      71 Biggest Movers From Friday   \n",
       "3           3       46 Stocks Moving In Friday's Mid-Day Session   \n",
       "4           4  B of A Securities Maintains Neutral on Agilent...   \n",
       "5           5  CFRA Maintains Hold on Agilent Technologies, L...   \n",
       "6           6  UBS Maintains Neutral on Agilent Technologies,...   \n",
       "7           7  Agilent Technologies shares are trading higher...   \n",
       "8           8  Wells Fargo Maintains Overweight on Agilent Te...   \n",
       "9           9         10 Biggest Price Target Changes For Friday   \n",
       "\n",
       "                                                 url                publisher  \\\n",
       "0  https://www.benzinga.com/news/20/06/16190091/s...        Benzinga Insights   \n",
       "1  https://www.benzinga.com/news/20/06/16170189/s...        Benzinga Insights   \n",
       "2  https://www.benzinga.com/news/20/05/16103463/7...               Lisa Levin   \n",
       "3  https://www.benzinga.com/news/20/05/16095921/4...               Lisa Levin   \n",
       "4  https://www.benzinga.com/news/20/05/16095304/b...               Vick Meyer   \n",
       "5  https://www.benzinga.com/news/20/05/16095163/c...  vishwanath@benzinga.com   \n",
       "6  https://www.benzinga.com/news/20/05/16094027/u...  vishwanath@benzinga.com   \n",
       "7  https://www.benzinga.com/wiim/20/05/16093805/a...        Benzinga Newsdesk   \n",
       "8  https://www.benzinga.com/news/20/05/16093505/w...  vishwanath@benzinga.com   \n",
       "9  https://www.benzinga.com/analyst-ratings/price...               Lisa Levin   \n",
       "\n",
       "         date stock       Open       High        Low      Close  Adj Close  \\\n",
       "0  2020-06-05     A  70.658501  72.252502  70.300003  71.919502  71.837753   \n",
       "1  2020-06-03     A  71.915001  72.327599  71.488853  71.819000  71.737366   \n",
       "2  2020-05-26     A  71.863503  72.050003  70.606499  70.850998  70.770462   \n",
       "3  2020-05-22     A  69.835503  70.638000  69.591499  70.521004  70.440842   \n",
       "4  2020-05-22     A  69.835503  70.638000  69.591499  70.521004  70.440842   \n",
       "5  2020-05-22     A  69.835503  70.638000  69.591499  70.521004  70.440842   \n",
       "6  2020-05-22     A  69.835503  70.638000  69.591499  70.521004  70.440842   \n",
       "7  2020-05-22     A  69.835503  70.638000  69.591499  70.521004  70.440842   \n",
       "8  2020-05-22     A  69.835503  70.638000  69.591499  70.521004  70.440842   \n",
       "9  2020-05-22     A  69.835503  70.638000  69.591499  70.521004  70.440842   \n",
       "\n",
       "     Volume  Dividends  Stock Splits  sentiment  \n",
       "0  34698000        0.0           0.0       0.00  \n",
       "1  25124000        0.0           0.0       0.00  \n",
       "2  41212000        0.0           0.0       0.00  \n",
       "3  26188000        0.0           0.0       0.00  \n",
       "4  26188000        0.0           0.0       0.00  \n",
       "5  26188000        0.0           0.0       0.00  \n",
       "6  26188000        0.0           0.0       0.00  \n",
       "7  26188000        0.0           0.0       0.25  \n",
       "8  26188000        0.0           0.0       0.00  \n",
       "9  26188000        0.0           0.0       0.00  "
      ]
     },
     "execution_count": 22,
     "metadata": {},
     "output_type": "execute_result"
    }
   ],
   "source": [
    "# Perform sentiment analysis on the 'headline' column of the aligned data\n",
    "analyze_sentiment(aligned_data, 'headline')  \n",
    "aligned_data.head(10)"
   ]
  },
  {
   "cell_type": "code",
   "execution_count": 23,
   "id": "996d8987",
   "metadata": {},
   "outputs": [
    {
     "data": {
      "image/png": "[encoded data removed]",
      "text/plain": [
       "<Figure size 1400x800 with 1 Axes>"
      ]
     },
     "metadata": {},
     "output_type": "display_data"
    }
   ],
   "source": [
    "# Perform sentiment distribution plot\n",
    "sentiment_distribution_plot(aligned_data)"
   ]
  },
  {
   "cell_type": "code",
   "execution_count": 24,
   "id": "623c3ead",
   "metadata": {},
   "outputs": [
    {
     "name": "stdout",
     "output_type": "stream",
     "text": [
      "          date      Close  daily_return\n",
      "7   2020-05-22  70.521004      0.000000\n",
      "8   2020-05-22  70.521004      0.000000\n",
      "10  2020-06-09  72.807999      0.032430\n",
      "11  2020-06-08  72.330498     -0.006558\n",
      "12  2020-06-08  72.330498      0.000000\n"
     ]
    }
   ],
   "source": [
    "# Calculate daily returns for the stock data\n",
    "daily_returns(aligned_data)\n",
    "# Drop rows with NaN values in the 'headline' or 'date' columns\n",
    "aligned_data = aligned_data.dropna()\n",
    "# Display the first few rows of the aligned data with daily returns\n",
    "print(aligned_data[['date', 'Close', 'daily_return']].head())\n",
    "\n"
   ]
  },
  {
   "cell_type": "markdown",
   "id": "0d8d89a9",
   "metadata": {},
   "source": [
    "3. Calculate Daily Stock Returns: Compute the percentage change in daily closing prices to represent stock movements"
   ]
  },
  {
   "cell_type": "code",
   "execution_count": 25,
   "id": "1ddc6565",
   "metadata": {},
   "outputs": [
    {
     "data": {
      "image/png": "[encoded data removed]",
      "text/plain": [
       "<Figure size 1400x800 with 1 Axes>"
      ]
     },
     "metadata": {},
     "output_type": "display_data"
    }
   ],
   "source": [
    "# Plot daily returns\n",
    "plot_daily_returns(aligned_data)"
   ]
  },
  {
   "cell_type": "code",
   "execution_count": 26,
   "id": "6aca9699",
   "metadata": {},
   "outputs": [
    {
     "data": {
      "application/vnd.microsoft.datawrangler.viewer.v0+json": {
       "columns": [
        {
         "name": "index",
         "rawType": "int64",
         "type": "integer"
        },
        {
         "name": "date",
         "rawType": "object",
         "type": "unknown"
        },
        {
         "name": "sentiment",
         "rawType": "float64",
         "type": "float"
        },
        {
         "name": "daily_return",
         "rawType": "float64",
         "type": "float"
        }
       ],
       "ref": "d6165543-b3cb-4b1a-b281-acb12c15ce6b",
       "rows": [
        [
         "0",
         "2011-04-28",
         "0.06818181818181818",
         "0.004987851718795566"
        ],
        [
         "1",
         "2011-04-28",
         "0.06818181818181818",
         "0.012649343438085658"
        ],
        [
         "2",
         "2011-04-29",
         "0.16666666666666669",
         "-0.03207445278802867"
        ],
        [
         "3",
         "2011-04-29",
         "0.16666666666666669",
         "-0.7753532125866005"
        ],
        [
         "4",
         "2011-05-02",
         "-0.020833333333333332",
         "0.03136853788203986"
        ],
        [
         "5",
         "2011-05-02",
         "-0.020833333333333332",
         "-0.06773529111939969"
        ],
        [
         "6",
         "2011-05-02",
         "-0.020833333333333332",
         "-0.338622155961012"
        ],
        [
         "7",
         "2011-05-02",
         "-0.020833333333333332",
         "0.038047886727498925"
        ],
        [
         "8",
         "2011-05-05",
         "0.0",
         "-0.22814539507653286"
        ],
        [
         "9",
         "2011-05-06",
         "0.25",
         "-0.10086501797637493"
        ],
        [
         "10",
         "2011-05-06",
         "0.25",
         "-0.1177876372350759"
        ],
        [
         "11",
         "2011-05-09",
         "0.06818181818181818",
         "-0.11390902929339564"
        ],
        [
         "12",
         "2011-05-09",
         "0.06818181818181818",
         "0.023158462910742195"
        ],
        [
         "13",
         "2011-05-11",
         "-0.0875",
         "0.011141506393674616"
        ],
        [
         "14",
         "2011-05-12",
         "0.5",
         "0.029595636358384914"
        ],
        [
         "15",
         "2011-05-13",
         "-0.10370370370370373",
         "0.018287055256773765"
        ],
        [
         "16",
         "2011-05-13",
         "-0.10370370370370373",
         "-0.3124245556064208"
        ],
        [
         "17",
         "2011-05-13",
         "-0.10370370370370373",
         "0.016605814868910773"
        ],
        [
         "18",
         "2011-05-16",
         "0.0",
         "-0.020037121758034626"
        ],
        [
         "19",
         "2011-05-16",
         "0.0",
         "-0.05169389354750342"
        ],
        [
         "20",
         "2011-05-17",
         "0.0",
         "0.018352789491983712"
        ],
        [
         "21",
         "2011-05-17",
         "0.0",
         "0.022021871819267735"
        ],
        [
         "22",
         "2011-05-18",
         "0.175",
         "0.07921860474403286"
        ],
        [
         "23",
         "2011-05-18",
         "0.175",
         "0.020769589585615256"
        ],
        [
         "24",
         "2011-05-19",
         "0.0",
         "-0.05639423939480381"
        ],
        [
         "25",
         "2011-05-23",
         "-0.13333333333333333",
         "-0.34385166188250194"
        ],
        [
         "26",
         "2011-05-24",
         "0.10000000000000005",
         "-0.03194110258427174"
        ],
        [
         "27",
         "2011-05-24",
         "0.10000000000000005",
         "-0.016323123453459654"
        ],
        [
         "28",
         "2011-05-24",
         "0.10000000000000005",
         "0.019454313334864803"
        ],
        [
         "29",
         "2011-05-25",
         "0.29375",
         "-0.5416889794977248"
        ],
        [
         "30",
         "2011-05-25",
         "0.29375",
         "-0.043282142365208"
        ],
        [
         "31",
         "2011-05-25",
         "0.29375",
         "-0.1350365905522084"
        ],
        [
         "32",
         "2011-05-25",
         "0.29375",
         "0.000963130659194622"
        ],
        [
         "33",
         "2011-05-25",
         "0.29375",
         "-0.023158230973545524"
        ],
        [
         "34",
         "2011-05-25",
         "0.29375",
         "-0.505448136789909"
        ],
        [
         "35",
         "2011-05-25",
         "0.29375",
         "-0.505448136789909"
        ],
        [
         "36",
         "2011-05-25",
         "0.29375",
         "-0.505448136789909"
        ],
        [
         "37",
         "2011-05-27",
         "-0.25277777777777777",
         "0.0036029579976055714"
        ],
        [
         "38",
         "2011-05-27",
         "-0.25277777777777777",
         "-0.5004419392448292"
        ],
        [
         "39",
         "2011-05-31",
         "0.14583333333333334",
         "0.051834225611021356"
        ],
        [
         "40",
         "2011-05-31",
         "0.14583333333333334",
         "-0.0020749902996659575"
        ],
        [
         "41",
         "2011-05-31",
         "0.14583333333333334",
         "-0.005732303066010358"
        ],
        [
         "42",
         "2011-05-31",
         "0.14583333333333334",
         "-0.11141339179313103"
        ],
        [
         "43",
         "2011-05-31",
         "0.14583333333333334",
         "0.0"
        ],
        [
         "44",
         "2011-05-31",
         "0.14583333333333334",
         "-0.11141339179313103"
        ],
        [
         "45",
         "2011-06-01",
         "0.0",
         "-0.7982907305915085"
        ],
        [
         "46",
         "2011-06-01",
         "0.0",
         "-0.7844013980668113"
        ],
        [
         "47",
         "2011-06-02",
         "0.0",
         "-0.14585189442171131"
        ],
        [
         "48",
         "2011-06-03",
         "0.0",
         "0.10149926529211606"
        ],
        [
         "49",
         "2011-06-06",
         "0.1558080808080808",
         "-0.1027036586194896"
        ]
       ],
       "shape": {
        "columns": 3,
        "rows": 27989
       }
      },
      "text/html": [
       "<div>\n",
       "<style scoped>\n",
       "    .dataframe tbody tr th:only-of-type {\n",
       "        vertical-align: middle;\n",
       "    }\n",
       "\n",
       "    .dataframe tbody tr th {\n",
       "        vertical-align: top;\n",
       "    }\n",
       "\n",
       "    .dataframe thead th {\n",
       "        text-align: right;\n",
       "    }\n",
       "</style>\n",
       "<table border=\"1\" class=\"dataframe\">\n",
       "  <thead>\n",
       "    <tr style=\"text-align: right;\">\n",
       "      <th></th>\n",
       "      <th>date</th>\n",
       "      <th>sentiment</th>\n",
       "      <th>daily_return</th>\n",
       "    </tr>\n",
       "  </thead>\n",
       "  <tbody>\n",
       "    <tr>\n",
       "      <th>0</th>\n",
       "      <td>2011-04-28</td>\n",
       "      <td>0.068182</td>\n",
       "      <td>0.004988</td>\n",
       "    </tr>\n",
       "    <tr>\n",
       "      <th>1</th>\n",
       "      <td>2011-04-28</td>\n",
       "      <td>0.068182</td>\n",
       "      <td>0.012649</td>\n",
       "    </tr>\n",
       "    <tr>\n",
       "      <th>2</th>\n",
       "      <td>2011-04-29</td>\n",
       "      <td>0.166667</td>\n",
       "      <td>-0.032074</td>\n",
       "    </tr>\n",
       "    <tr>\n",
       "      <th>3</th>\n",
       "      <td>2011-04-29</td>\n",
       "      <td>0.166667</td>\n",
       "      <td>-0.775353</td>\n",
       "    </tr>\n",
       "    <tr>\n",
       "      <th>4</th>\n",
       "      <td>2011-05-02</td>\n",
       "      <td>-0.020833</td>\n",
       "      <td>0.031369</td>\n",
       "    </tr>\n",
       "    <tr>\n",
       "      <th>...</th>\n",
       "      <td>...</td>\n",
       "      <td>...</td>\n",
       "      <td>...</td>\n",
       "    </tr>\n",
       "    <tr>\n",
       "      <th>27984</th>\n",
       "      <td>2020-06-11</td>\n",
       "      <td>0.012137</td>\n",
       "      <td>0.332030</td>\n",
       "    </tr>\n",
       "    <tr>\n",
       "      <th>27985</th>\n",
       "      <td>2020-06-11</td>\n",
       "      <td>0.012137</td>\n",
       "      <td>0.000000</td>\n",
       "    </tr>\n",
       "    <tr>\n",
       "      <th>27986</th>\n",
       "      <td>2020-06-11</td>\n",
       "      <td>0.012137</td>\n",
       "      <td>0.164916</td>\n",
       "    </tr>\n",
       "    <tr>\n",
       "      <th>27987</th>\n",
       "      <td>2020-06-11</td>\n",
       "      <td>0.012137</td>\n",
       "      <td>0.000000</td>\n",
       "    </tr>\n",
       "    <tr>\n",
       "      <th>27988</th>\n",
       "      <td>2020-06-11</td>\n",
       "      <td>0.012137</td>\n",
       "      <td>0.248668</td>\n",
       "    </tr>\n",
       "  </tbody>\n",
       "</table>\n",
       "<p>27989 rows × 3 columns</p>\n",
       "</div>"
      ],
      "text/plain": [
       "             date  sentiment  daily_return\n",
       "0      2011-04-28   0.068182      0.004988\n",
       "1      2011-04-28   0.068182      0.012649\n",
       "2      2011-04-29   0.166667     -0.032074\n",
       "3      2011-04-29   0.166667     -0.775353\n",
       "4      2011-05-02  -0.020833      0.031369\n",
       "...           ...        ...           ...\n",
       "27984  2020-06-11   0.012137      0.332030\n",
       "27985  2020-06-11   0.012137      0.000000\n",
       "27986  2020-06-11   0.012137      0.164916\n",
       "27987  2020-06-11   0.012137      0.000000\n",
       "27988  2020-06-11   0.012137      0.248668\n",
       "\n",
       "[27989 rows x 3 columns]"
      ]
     },
     "execution_count": 26,
     "metadata": {},
     "output_type": "execute_result"
    }
   ],
   "source": [
    "daily_sentiment_and_merge(aligned_data )"
   ]
  },
  {
   "cell_type": "code",
   "execution_count": 27,
   "id": "8990c839",
   "metadata": {},
   "outputs": [
    {
     "data": {
      "application/vnd.microsoft.datawrangler.viewer.v0+json": {
       "columns": [
        {
         "name": "index",
         "rawType": "int64",
         "type": "integer"
        },
        {
         "name": "date",
         "rawType": "object",
         "type": "unknown"
        },
        {
         "name": "sentiment",
         "rawType": "float64",
         "type": "float"
        },
        {
         "name": "daily_return",
         "rawType": "float64",
         "type": "float"
        }
       ],
       "ref": "3530a0ea-ed15-46ee-a5d1-10c1353be3c9",
       "rows": [
        [
         "0",
         "2011-04-28",
         "0.06818181818181818",
         "0.004987851718795566"
        ],
        [
         "1",
         "2011-04-28",
         "0.06818181818181818",
         "0.012649343438085658"
        ],
        [
         "2",
         "2011-04-29",
         "0.16666666666666669",
         "-0.03207445278802867"
        ],
        [
         "3",
         "2011-04-29",
         "0.16666666666666669",
         "-0.7753532125866005"
        ],
        [
         "4",
         "2011-05-02",
         "-0.020833333333333332",
         "0.03136853788203986"
        ],
        [
         "5",
         "2011-05-02",
         "-0.020833333333333332",
         "-0.06773529111939969"
        ],
        [
         "6",
         "2011-05-02",
         "-0.020833333333333332",
         "-0.338622155961012"
        ],
        [
         "7",
         "2011-05-02",
         "-0.020833333333333332",
         "0.038047886727498925"
        ],
        [
         "8",
         "2011-05-05",
         "0.0",
         "-0.22814539507653286"
        ],
        [
         "9",
         "2011-05-06",
         "0.25",
         "-0.10086501797637493"
        ]
       ],
       "shape": {
        "columns": 3,
        "rows": 10
       }
      },
      "text/html": [
       "<div>\n",
       "<style scoped>\n",
       "    .dataframe tbody tr th:only-of-type {\n",
       "        vertical-align: middle;\n",
       "    }\n",
       "\n",
       "    .dataframe tbody tr th {\n",
       "        vertical-align: top;\n",
       "    }\n",
       "\n",
       "    .dataframe thead th {\n",
       "        text-align: right;\n",
       "    }\n",
       "</style>\n",
       "<table border=\"1\" class=\"dataframe\">\n",
       "  <thead>\n",
       "    <tr style=\"text-align: right;\">\n",
       "      <th></th>\n",
       "      <th>date</th>\n",
       "      <th>sentiment</th>\n",
       "      <th>daily_return</th>\n",
       "    </tr>\n",
       "  </thead>\n",
       "  <tbody>\n",
       "    <tr>\n",
       "      <th>0</th>\n",
       "      <td>2011-04-28</td>\n",
       "      <td>0.068182</td>\n",
       "      <td>0.004988</td>\n",
       "    </tr>\n",
       "    <tr>\n",
       "      <th>1</th>\n",
       "      <td>2011-04-28</td>\n",
       "      <td>0.068182</td>\n",
       "      <td>0.012649</td>\n",
       "    </tr>\n",
       "    <tr>\n",
       "      <th>2</th>\n",
       "      <td>2011-04-29</td>\n",
       "      <td>0.166667</td>\n",
       "      <td>-0.032074</td>\n",
       "    </tr>\n",
       "    <tr>\n",
       "      <th>3</th>\n",
       "      <td>2011-04-29</td>\n",
       "      <td>0.166667</td>\n",
       "      <td>-0.775353</td>\n",
       "    </tr>\n",
       "    <tr>\n",
       "      <th>4</th>\n",
       "      <td>2011-05-02</td>\n",
       "      <td>-0.020833</td>\n",
       "      <td>0.031369</td>\n",
       "    </tr>\n",
       "    <tr>\n",
       "      <th>5</th>\n",
       "      <td>2011-05-02</td>\n",
       "      <td>-0.020833</td>\n",
       "      <td>-0.067735</td>\n",
       "    </tr>\n",
       "    <tr>\n",
       "      <th>6</th>\n",
       "      <td>2011-05-02</td>\n",
       "      <td>-0.020833</td>\n",
       "      <td>-0.338622</td>\n",
       "    </tr>\n",
       "    <tr>\n",
       "      <th>7</th>\n",
       "      <td>2011-05-02</td>\n",
       "      <td>-0.020833</td>\n",
       "      <td>0.038048</td>\n",
       "    </tr>\n",
       "    <tr>\n",
       "      <th>8</th>\n",
       "      <td>2011-05-05</td>\n",
       "      <td>0.000000</td>\n",
       "      <td>-0.228145</td>\n",
       "    </tr>\n",
       "    <tr>\n",
       "      <th>9</th>\n",
       "      <td>2011-05-06</td>\n",
       "      <td>0.250000</td>\n",
       "      <td>-0.100865</td>\n",
       "    </tr>\n",
       "  </tbody>\n",
       "</table>\n",
       "</div>"
      ],
      "text/plain": [
       "         date  sentiment  daily_return\n",
       "0  2011-04-28   0.068182      0.004988\n",
       "1  2011-04-28   0.068182      0.012649\n",
       "2  2011-04-29   0.166667     -0.032074\n",
       "3  2011-04-29   0.166667     -0.775353\n",
       "4  2011-05-02  -0.020833      0.031369\n",
       "5  2011-05-02  -0.020833     -0.067735\n",
       "6  2011-05-02  -0.020833     -0.338622\n",
       "7  2011-05-02  -0.020833      0.038048\n",
       "8  2011-05-05   0.000000     -0.228145\n",
       "9  2011-05-06   0.250000     -0.100865"
      ]
     },
     "execution_count": 27,
     "metadata": {},
     "output_type": "execute_result"
    }
   ],
   "source": [
    "# Calculate daily sentiment and merge with stock data\n",
    "merged_data = daily_sentiment_and_merge(aligned_data )\n",
    "merged_data.head(10)    "
   ]
  },
  {
   "cell_type": "markdown",
   "id": "96434ed2",
   "metadata": {},
   "source": [
    "4. Correlation Analysis: Use statistical methods to test the correlation between daily news sentiment scores and stock returns."
   ]
  },
  {
   "cell_type": "code",
   "execution_count": 28,
   "id": "09bc9d60",
   "metadata": {},
   "outputs": [
    {
     "name": "stdout",
     "output_type": "stream",
     "text": [
      "Correlation between daily sentiment scores and stock returns: -0.035468769232119175\n"
     ]
    }
   ],
   "source": [
    "# Calculate the correlation between daily sentiment scores and stock returns\n",
    "correlation = merged_data['sentiment'].corr( merged_data['daily_return'])\n",
    "print(\"Correlation between daily sentiment scores and stock returns:\", correlation)"
   ]
  },
  {
   "cell_type": "code",
   "execution_count": 29,
   "id": "5b1baa5e",
   "metadata": {},
   "outputs": [
    {
     "data": {
      "image/png": "[encoded data removed]",
      "text/plain": [
       "<Figure size 1400x800 with 1 Axes>"
      ]
     },
     "metadata": {},
     "output_type": "display_data"
    }
   ],
   "source": [
    "# Function to plot sentiment and daily return correlation\n",
    "plot_sentiment_and_daily_return_correlation(merged_data)"
   ]
  },
  {
   "cell_type": "code",
   "execution_count": 30,
   "id": "26648669",
   "metadata": {},
   "outputs": [],
   "source": [
    "# Calculate the correlation matrix between sentiment and daily returns\n",
    "correlation_matrix = merged_data[['sentiment', 'daily_return']].corr()"
   ]
  },
  {
   "cell_type": "code",
   "execution_count": 31,
   "id": "5064d3a5",
   "metadata": {},
   "outputs": [
    {
     "data": {
      "image/png": "[encoded data removed]",
      "text/plain": [
       "<Figure size 1000x800 with 2 Axes>"
      ]
     },
     "metadata": {},
     "output_type": "display_data"
    }
   ],
   "source": [
    "# Function to plot the correlation heatmap\n",
    "\n",
    "correlation_heatmap(correlation_matrix)"
   ]
  }
 ],
 "metadata": {
  "kernelspec": {
   "display_name": ".venv311",
   "language": "python",
   "name": "python3"
  },
  "language_info": {
   "codemirror_mode": {
    "name": "ipython",
    "version": 3
   },
   "file_extension": ".py",
   "mimetype": "text/x-python",
   "name": "python",
   "nbconvert_exporter": "python",
   "pygments_lexer": "ipython3",
   "version": "3.11.0"
  }
 },
 "nbformat": 4,
 "nbformat_minor": 5
}
