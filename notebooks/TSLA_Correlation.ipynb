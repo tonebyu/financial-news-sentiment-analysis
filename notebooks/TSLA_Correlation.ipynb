{
 "cells": [
  {
   "cell_type": "markdown",
   "id": "b9889e3e",
   "metadata": {},
   "source": [
    "### TSLA Correlation\n",
    "Perform CA For TSLA"
   ]
  },
  {
   "cell_type": "code",
   "execution_count": 1,
   "id": "2ee34f63",
   "metadata": {},
   "outputs": [],
   "source": [
    "# Enables automatic reloading of modules when they change and allows importing from the parent directory.\n",
    "'''\n",
    "Allow importing custom modules from the parent directory.\n",
    "Ensure that any changes to those modules (e.g., editing a .py file in the parent directory) \n",
    "are automatically reloaded when you run cells, making development and testing more efficient.\n",
    "'''\n",
    "\n",
    "%load_ext autoreload\n",
    "%autoreload 2\n",
    "import sys\n",
    "import os\n",
    "sys.path.append(os.path.abspath(\"..\"))"
   ]
  },
  {
   "cell_type": "code",
   "execution_count": 2,
   "id": "dbc4fb8d",
   "metadata": {},
   "outputs": [],
   "source": [
    "from scripts.correlation_analysis import ( load_data, analyze_sentiment, sentiment_distribution_plot\n",
    "                                          , daily_returns,plot_daily_returns, daily_sentiment_and_merge\n",
    "                                          ,plot_sentiment_and_daily_return_correlation, correlation_heatmap)"
   ]
  },
  {
   "cell_type": "code",
   "execution_count": 3,
   "id": "25c434cf",
   "metadata": {},
   "outputs": [],
   "source": [
    "# Load the news and stock data\n",
    "# Ensure the paths are correct relative to the current working directory\n",
    "news_data = '../Data/raw_analyst_ratings.csv'\n",
    "stock_data = '../Data/TSLA_historical_data.csv'\n"
   ]
  },
  {
   "cell_type": "markdown",
   "id": "812a3078",
   "metadata": {},
   "source": [
    "1. Date Alignment: Ensure that both datasets (news and stock prices) are aligned by dates. This might involve normalizing timestamps."
   ]
  },
  {
   "cell_type": "code",
   "execution_count": 4,
   "id": "2f991d45",
   "metadata": {},
   "outputs": [],
   "source": [
    "#Align the news and stock data\n",
    "aligned_data = load_data(news_data, stock_data)"
   ]
  },
  {
   "cell_type": "code",
   "execution_count": 5,
   "id": "36192449",
   "metadata": {},
   "outputs": [
    {
     "data": {
      "application/vnd.microsoft.datawrangler.viewer.v0+json": {
       "columns": [
        {
         "name": "index",
         "rawType": "int64",
         "type": "integer"
        },
        {
         "name": "Unnamed: 0",
         "rawType": "int64",
         "type": "integer"
        },
        {
         "name": "headline",
         "rawType": "object",
         "type": "string"
        },
        {
         "name": "url",
         "rawType": "object",
         "type": "string"
        },
        {
         "name": "publisher",
         "rawType": "object",
         "type": "string"
        },
        {
         "name": "date",
         "rawType": "object",
         "type": "unknown"
        },
        {
         "name": "stock",
         "rawType": "object",
         "type": "string"
        },
        {
         "name": "Open",
         "rawType": "float64",
         "type": "float"
        },
        {
         "name": "High",
         "rawType": "float64",
         "type": "float"
        },
        {
         "name": "Low",
         "rawType": "float64",
         "type": "float"
        },
        {
         "name": "Close",
         "rawType": "float64",
         "type": "float"
        },
        {
         "name": "Adj Close",
         "rawType": "float64",
         "type": "float"
        },
        {
         "name": "Volume",
         "rawType": "int64",
         "type": "integer"
        },
        {
         "name": "Dividends",
         "rawType": "float64",
         "type": "float"
        },
        {
         "name": "Stock Splits",
         "rawType": "float64",
         "type": "float"
        }
       ],
       "ref": "85457d0c-e338-418c-89cf-d071751ea5b2",
       "rows": [
        [
         "0",
         "0",
         "Stocks That Hit 52-Week Highs On Friday",
         "https://www.benzinga.com/news/20/06/16190091/stocks-that-hit-52-week-highs-on-friday",
         "Benzinga Insights",
         "2020-06-05",
         "A",
         "58.52266693115234",
         "59.10133361816406",
         "57.74666595458984",
         "59.04399871826172",
         "59.04399871826172",
         "117178500",
         "0.0",
         "0.0"
        ],
        [
         "1",
         "1",
         "Stocks That Hit 52-Week Highs On Wednesday",
         "https://www.benzinga.com/news/20/06/16170189/stocks-that-hit-52-week-highs-on-wednesday",
         "Benzinga Insights",
         "2020-06-03",
         "A",
         "59.20800018310547",
         "59.86266708374024",
         "58.67333221435547",
         "58.86399841308594",
         "58.86399841308594",
         "119242500",
         "0.0",
         "0.0"
        ],
        [
         "2",
         "2",
         "71 Biggest Movers From Friday",
         "https://www.benzinga.com/news/20/05/16103463/71-biggest-movers-from-friday",
         "Lisa Levin",
         "2020-05-26",
         "A",
         "55.633331298828125",
         "55.63999938964844",
         "54.38066864013672",
         "54.5913314819336",
         "54.5913314819336",
         "121345500",
         "0.0",
         "0.0"
        ],
        [
         "3",
         "3",
         "46 Stocks Moving In Friday's Mid-Day Session",
         "https://www.benzinga.com/news/20/05/16095921/46-stocks-moving-in-fridays-mid-day-session",
         "Lisa Levin",
         "2020-05-22",
         "A",
         "54.81133270263672",
         "55.45199966430664",
         "54.133331298828125",
         "54.45866775512695",
         "54.45866775512695",
         "149812500",
         "0.0",
         "0.0"
        ],
        [
         "4",
         "4",
         "B of A Securities Maintains Neutral on Agilent Technologies, Raises Price Target to $88",
         "https://www.benzinga.com/news/20/05/16095304/b-of-a-securities-maintains-neutral-on-agilent-technologies-raises-price-target-to-88",
         "Vick Meyer",
         "2020-05-22",
         "A",
         "54.81133270263672",
         "55.45199966430664",
         "54.133331298828125",
         "54.45866775512695",
         "54.45866775512695",
         "149812500",
         "0.0",
         "0.0"
        ],
        [
         "5",
         "5",
         "CFRA Maintains Hold on Agilent Technologies, Lowers Price Target to $85",
         "https://www.benzinga.com/news/20/05/16095163/cfra-maintains-hold-on-agilent-technologies-lowers-price-target-to-85",
         "vishwanath@benzinga.com",
         "2020-05-22",
         "A",
         "54.81133270263672",
         "55.45199966430664",
         "54.133331298828125",
         "54.45866775512695",
         "54.45866775512695",
         "149812500",
         "0.0",
         "0.0"
        ],
        [
         "6",
         "6",
         "UBS Maintains Neutral on Agilent Technologies, Raises Price Target to $87",
         "https://www.benzinga.com/news/20/05/16094027/ubs-maintains-neutral-on-agilent-technologies-raises-price-target-to-87",
         "vishwanath@benzinga.com",
         "2020-05-22",
         "A",
         "54.81133270263672",
         "55.45199966430664",
         "54.133331298828125",
         "54.45866775512695",
         "54.45866775512695",
         "149812500",
         "0.0",
         "0.0"
        ],
        [
         "7",
         "7",
         "Agilent Technologies shares are trading higher after the company reported better-than-expected Q2 EPS and sales results.",
         "https://www.benzinga.com/wiim/20/05/16093805/agilent-technologies-shares-are-trading-higher-after-the-company-reported-better-than-expected-q2-ep",
         "Benzinga Newsdesk",
         "2020-05-22",
         "A",
         "54.81133270263672",
         "55.45199966430664",
         "54.133331298828125",
         "54.45866775512695",
         "54.45866775512695",
         "149812500",
         "0.0",
         "0.0"
        ],
        [
         "8",
         "8",
         "Wells Fargo Maintains Overweight on Agilent Technologies, Raises Price Target to $95",
         "https://www.benzinga.com/news/20/05/16093505/wells-fargo-maintains-overweight-on-agilent-technologies-raises-price-target-to-95",
         "vishwanath@benzinga.com",
         "2020-05-22",
         "A",
         "54.81133270263672",
         "55.45199966430664",
         "54.133331298828125",
         "54.45866775512695",
         "54.45866775512695",
         "149812500",
         "0.0",
         "0.0"
        ],
        [
         "9",
         "9",
         "10 Biggest Price Target Changes For Friday",
         "https://www.benzinga.com/analyst-ratings/price-target/20/05/16093262/10-biggest-price-target-changes-for-friday",
         "Lisa Levin",
         "2020-05-22",
         "A",
         "54.81133270263672",
         "55.45199966430664",
         "54.133331298828125",
         "54.45866775512695",
         "54.45866775512695",
         "149812500",
         "0.0",
         "0.0"
        ]
       ],
       "shape": {
        "columns": 14,
        "rows": 10
       }
      },
      "text/html": [
       "<div>\n",
       "<style scoped>\n",
       "    .dataframe tbody tr th:only-of-type {\n",
       "        vertical-align: middle;\n",
       "    }\n",
       "\n",
       "    .dataframe tbody tr th {\n",
       "        vertical-align: top;\n",
       "    }\n",
       "\n",
       "    .dataframe thead th {\n",
       "        text-align: right;\n",
       "    }\n",
       "</style>\n",
       "<table border=\"1\" class=\"dataframe\">\n",
       "  <thead>\n",
       "    <tr style=\"text-align: right;\">\n",
       "      <th></th>\n",
       "      <th>Unnamed: 0</th>\n",
       "      <th>headline</th>\n",
       "      <th>url</th>\n",
       "      <th>publisher</th>\n",
       "      <th>date</th>\n",
       "      <th>stock</th>\n",
       "      <th>Open</th>\n",
       "      <th>High</th>\n",
       "      <th>Low</th>\n",
       "      <th>Close</th>\n",
       "      <th>Adj Close</th>\n",
       "      <th>Volume</th>\n",
       "      <th>Dividends</th>\n",
       "      <th>Stock Splits</th>\n",
       "    </tr>\n",
       "  </thead>\n",
       "  <tbody>\n",
       "    <tr>\n",
       "      <th>0</th>\n",
       "      <td>0</td>\n",
       "      <td>Stocks That Hit 52-Week Highs On Friday</td>\n",
       "      <td>https://www.benzinga.com/news/20/06/16190091/s...</td>\n",
       "      <td>Benzinga Insights</td>\n",
       "      <td>2020-06-05</td>\n",
       "      <td>A</td>\n",
       "      <td>58.522667</td>\n",
       "      <td>59.101334</td>\n",
       "      <td>57.746666</td>\n",
       "      <td>59.043999</td>\n",
       "      <td>59.043999</td>\n",
       "      <td>117178500</td>\n",
       "      <td>0.0</td>\n",
       "      <td>0.0</td>\n",
       "    </tr>\n",
       "    <tr>\n",
       "      <th>1</th>\n",
       "      <td>1</td>\n",
       "      <td>Stocks That Hit 52-Week Highs On Wednesday</td>\n",
       "      <td>https://www.benzinga.com/news/20/06/16170189/s...</td>\n",
       "      <td>Benzinga Insights</td>\n",
       "      <td>2020-06-03</td>\n",
       "      <td>A</td>\n",
       "      <td>59.208000</td>\n",
       "      <td>59.862667</td>\n",
       "      <td>58.673332</td>\n",
       "      <td>58.863998</td>\n",
       "      <td>58.863998</td>\n",
       "      <td>119242500</td>\n",
       "      <td>0.0</td>\n",
       "      <td>0.0</td>\n",
       "    </tr>\n",
       "    <tr>\n",
       "      <th>2</th>\n",
       "      <td>2</td>\n",
       "      <td>71 Biggest Movers From Friday</td>\n",
       "      <td>https://www.benzinga.com/news/20/05/16103463/7...</td>\n",
       "      <td>Lisa Levin</td>\n",
       "      <td>2020-05-26</td>\n",
       "      <td>A</td>\n",
       "      <td>55.633331</td>\n",
       "      <td>55.639999</td>\n",
       "      <td>54.380669</td>\n",
       "      <td>54.591331</td>\n",
       "      <td>54.591331</td>\n",
       "      <td>121345500</td>\n",
       "      <td>0.0</td>\n",
       "      <td>0.0</td>\n",
       "    </tr>\n",
       "    <tr>\n",
       "      <th>3</th>\n",
       "      <td>3</td>\n",
       "      <td>46 Stocks Moving In Friday's Mid-Day Session</td>\n",
       "      <td>https://www.benzinga.com/news/20/05/16095921/4...</td>\n",
       "      <td>Lisa Levin</td>\n",
       "      <td>2020-05-22</td>\n",
       "      <td>A</td>\n",
       "      <td>54.811333</td>\n",
       "      <td>55.452000</td>\n",
       "      <td>54.133331</td>\n",
       "      <td>54.458668</td>\n",
       "      <td>54.458668</td>\n",
       "      <td>149812500</td>\n",
       "      <td>0.0</td>\n",
       "      <td>0.0</td>\n",
       "    </tr>\n",
       "    <tr>\n",
       "      <th>4</th>\n",
       "      <td>4</td>\n",
       "      <td>B of A Securities Maintains Neutral on Agilent...</td>\n",
       "      <td>https://www.benzinga.com/news/20/05/16095304/b...</td>\n",
       "      <td>Vick Meyer</td>\n",
       "      <td>2020-05-22</td>\n",
       "      <td>A</td>\n",
       "      <td>54.811333</td>\n",
       "      <td>55.452000</td>\n",
       "      <td>54.133331</td>\n",
       "      <td>54.458668</td>\n",
       "      <td>54.458668</td>\n",
       "      <td>149812500</td>\n",
       "      <td>0.0</td>\n",
       "      <td>0.0</td>\n",
       "    </tr>\n",
       "    <tr>\n",
       "      <th>5</th>\n",
       "      <td>5</td>\n",
       "      <td>CFRA Maintains Hold on Agilent Technologies, L...</td>\n",
       "      <td>https://www.benzinga.com/news/20/05/16095163/c...</td>\n",
       "      <td>vishwanath@benzinga.com</td>\n",
       "      <td>2020-05-22</td>\n",
       "      <td>A</td>\n",
       "      <td>54.811333</td>\n",
       "      <td>55.452000</td>\n",
       "      <td>54.133331</td>\n",
       "      <td>54.458668</td>\n",
       "      <td>54.458668</td>\n",
       "      <td>149812500</td>\n",
       "      <td>0.0</td>\n",
       "      <td>0.0</td>\n",
       "    </tr>\n",
       "    <tr>\n",
       "      <th>6</th>\n",
       "      <td>6</td>\n",
       "      <td>UBS Maintains Neutral on Agilent Technologies,...</td>\n",
       "      <td>https://www.benzinga.com/news/20/05/16094027/u...</td>\n",
       "      <td>vishwanath@benzinga.com</td>\n",
       "      <td>2020-05-22</td>\n",
       "      <td>A</td>\n",
       "      <td>54.811333</td>\n",
       "      <td>55.452000</td>\n",
       "      <td>54.133331</td>\n",
       "      <td>54.458668</td>\n",
       "      <td>54.458668</td>\n",
       "      <td>149812500</td>\n",
       "      <td>0.0</td>\n",
       "      <td>0.0</td>\n",
       "    </tr>\n",
       "    <tr>\n",
       "      <th>7</th>\n",
       "      <td>7</td>\n",
       "      <td>Agilent Technologies shares are trading higher...</td>\n",
       "      <td>https://www.benzinga.com/wiim/20/05/16093805/a...</td>\n",
       "      <td>Benzinga Newsdesk</td>\n",
       "      <td>2020-05-22</td>\n",
       "      <td>A</td>\n",
       "      <td>54.811333</td>\n",
       "      <td>55.452000</td>\n",
       "      <td>54.133331</td>\n",
       "      <td>54.458668</td>\n",
       "      <td>54.458668</td>\n",
       "      <td>149812500</td>\n",
       "      <td>0.0</td>\n",
       "      <td>0.0</td>\n",
       "    </tr>\n",
       "    <tr>\n",
       "      <th>8</th>\n",
       "      <td>8</td>\n",
       "      <td>Wells Fargo Maintains Overweight on Agilent Te...</td>\n",
       "      <td>https://www.benzinga.com/news/20/05/16093505/w...</td>\n",
       "      <td>vishwanath@benzinga.com</td>\n",
       "      <td>2020-05-22</td>\n",
       "      <td>A</td>\n",
       "      <td>54.811333</td>\n",
       "      <td>55.452000</td>\n",
       "      <td>54.133331</td>\n",
       "      <td>54.458668</td>\n",
       "      <td>54.458668</td>\n",
       "      <td>149812500</td>\n",
       "      <td>0.0</td>\n",
       "      <td>0.0</td>\n",
       "    </tr>\n",
       "    <tr>\n",
       "      <th>9</th>\n",
       "      <td>9</td>\n",
       "      <td>10 Biggest Price Target Changes For Friday</td>\n",
       "      <td>https://www.benzinga.com/analyst-ratings/price...</td>\n",
       "      <td>Lisa Levin</td>\n",
       "      <td>2020-05-22</td>\n",
       "      <td>A</td>\n",
       "      <td>54.811333</td>\n",
       "      <td>55.452000</td>\n",
       "      <td>54.133331</td>\n",
       "      <td>54.458668</td>\n",
       "      <td>54.458668</td>\n",
       "      <td>149812500</td>\n",
       "      <td>0.0</td>\n",
       "      <td>0.0</td>\n",
       "    </tr>\n",
       "  </tbody>\n",
       "</table>\n",
       "</div>"
      ],
      "text/plain": [
       "   Unnamed: 0                                           headline  \\\n",
       "0           0            Stocks That Hit 52-Week Highs On Friday   \n",
       "1           1         Stocks That Hit 52-Week Highs On Wednesday   \n",
       "2           2                      71 Biggest Movers From Friday   \n",
       "3           3       46 Stocks Moving In Friday's Mid-Day Session   \n",
       "4           4  B of A Securities Maintains Neutral on Agilent...   \n",
       "5           5  CFRA Maintains Hold on Agilent Technologies, L...   \n",
       "6           6  UBS Maintains Neutral on Agilent Technologies,...   \n",
       "7           7  Agilent Technologies shares are trading higher...   \n",
       "8           8  Wells Fargo Maintains Overweight on Agilent Te...   \n",
       "9           9         10 Biggest Price Target Changes For Friday   \n",
       "\n",
       "                                                 url                publisher  \\\n",
       "0  https://www.benzinga.com/news/20/06/16190091/s...        Benzinga Insights   \n",
       "1  https://www.benzinga.com/news/20/06/16170189/s...        Benzinga Insights   \n",
       "2  https://www.benzinga.com/news/20/05/16103463/7...               Lisa Levin   \n",
       "3  https://www.benzinga.com/news/20/05/16095921/4...               Lisa Levin   \n",
       "4  https://www.benzinga.com/news/20/05/16095304/b...               Vick Meyer   \n",
       "5  https://www.benzinga.com/news/20/05/16095163/c...  vishwanath@benzinga.com   \n",
       "6  https://www.benzinga.com/news/20/05/16094027/u...  vishwanath@benzinga.com   \n",
       "7  https://www.benzinga.com/wiim/20/05/16093805/a...        Benzinga Newsdesk   \n",
       "8  https://www.benzinga.com/news/20/05/16093505/w...  vishwanath@benzinga.com   \n",
       "9  https://www.benzinga.com/analyst-ratings/price...               Lisa Levin   \n",
       "\n",
       "         date stock       Open       High        Low      Close  Adj Close  \\\n",
       "0  2020-06-05     A  58.522667  59.101334  57.746666  59.043999  59.043999   \n",
       "1  2020-06-03     A  59.208000  59.862667  58.673332  58.863998  58.863998   \n",
       "2  2020-05-26     A  55.633331  55.639999  54.380669  54.591331  54.591331   \n",
       "3  2020-05-22     A  54.811333  55.452000  54.133331  54.458668  54.458668   \n",
       "4  2020-05-22     A  54.811333  55.452000  54.133331  54.458668  54.458668   \n",
       "5  2020-05-22     A  54.811333  55.452000  54.133331  54.458668  54.458668   \n",
       "6  2020-05-22     A  54.811333  55.452000  54.133331  54.458668  54.458668   \n",
       "7  2020-05-22     A  54.811333  55.452000  54.133331  54.458668  54.458668   \n",
       "8  2020-05-22     A  54.811333  55.452000  54.133331  54.458668  54.458668   \n",
       "9  2020-05-22     A  54.811333  55.452000  54.133331  54.458668  54.458668   \n",
       "\n",
       "      Volume  Dividends  Stock Splits  \n",
       "0  117178500        0.0           0.0  \n",
       "1  119242500        0.0           0.0  \n",
       "2  121345500        0.0           0.0  \n",
       "3  149812500        0.0           0.0  \n",
       "4  149812500        0.0           0.0  \n",
       "5  149812500        0.0           0.0  \n",
       "6  149812500        0.0           0.0  \n",
       "7  149812500        0.0           0.0  \n",
       "8  149812500        0.0           0.0  \n",
       "9  149812500        0.0           0.0  "
      ]
     },
     "execution_count": 5,
     "metadata": {},
     "output_type": "execute_result"
    }
   ],
   "source": [
    "# Display the first few rows of the aligned data\n",
    "aligned_data.head(10)\n"
   ]
  },
  {
   "cell_type": "markdown",
   "id": "5d293380",
   "metadata": {},
   "source": [
    "2. Sentiment Analysis: Conduct sentiment analysis on news headlines"
   ]
  },
  {
   "cell_type": "code",
   "execution_count": 6,
   "id": "7e5be553",
   "metadata": {},
   "outputs": [
    {
     "name": "stdout",
     "output_type": "stream",
     "text": [
      "                                            headline  sentiment\n",
      "0            Stocks That Hit 52-Week Highs On Friday        0.0\n",
      "1         Stocks That Hit 52-Week Highs On Wednesday        0.0\n",
      "2                      71 Biggest Movers From Friday        0.0\n",
      "3       46 Stocks Moving In Friday's Mid-Day Session        0.0\n",
      "4  B of A Securities Maintains Neutral on Agilent...        0.0\n"
     ]
    },
    {
     "data": {
      "application/vnd.microsoft.datawrangler.viewer.v0+json": {
       "columns": [
        {
         "name": "index",
         "rawType": "int64",
         "type": "integer"
        },
        {
         "name": "Unnamed: 0",
         "rawType": "int64",
         "type": "integer"
        },
        {
         "name": "headline",
         "rawType": "object",
         "type": "string"
        },
        {
         "name": "url",
         "rawType": "object",
         "type": "string"
        },
        {
         "name": "publisher",
         "rawType": "object",
         "type": "string"
        },
        {
         "name": "date",
         "rawType": "object",
         "type": "unknown"
        },
        {
         "name": "stock",
         "rawType": "object",
         "type": "string"
        },
        {
         "name": "Open",
         "rawType": "float64",
         "type": "float"
        },
        {
         "name": "High",
         "rawType": "float64",
         "type": "float"
        },
        {
         "name": "Low",
         "rawType": "float64",
         "type": "float"
        },
        {
         "name": "Close",
         "rawType": "float64",
         "type": "float"
        },
        {
         "name": "Adj Close",
         "rawType": "float64",
         "type": "float"
        },
        {
         "name": "Volume",
         "rawType": "int64",
         "type": "integer"
        },
        {
         "name": "Dividends",
         "rawType": "float64",
         "type": "float"
        },
        {
         "name": "Stock Splits",
         "rawType": "float64",
         "type": "float"
        },
        {
         "name": "sentiment",
         "rawType": "float64",
         "type": "float"
        }
       ],
       "ref": "d4ebf8cb-d95d-45e0-9f5c-217f35f5d996",
       "rows": [
        [
         "0",
         "0",
         "Stocks That Hit 52-Week Highs On Friday",
         "https://www.benzinga.com/news/20/06/16190091/stocks-that-hit-52-week-highs-on-friday",
         "Benzinga Insights",
         "2020-06-05",
         "A",
         "58.52266693115234",
         "59.10133361816406",
         "57.74666595458984",
         "59.04399871826172",
         "59.04399871826172",
         "117178500",
         "0.0",
         "0.0",
         "0.0"
        ],
        [
         "1",
         "1",
         "Stocks That Hit 52-Week Highs On Wednesday",
         "https://www.benzinga.com/news/20/06/16170189/stocks-that-hit-52-week-highs-on-wednesday",
         "Benzinga Insights",
         "2020-06-03",
         "A",
         "59.20800018310547",
         "59.86266708374024",
         "58.67333221435547",
         "58.86399841308594",
         "58.86399841308594",
         "119242500",
         "0.0",
         "0.0",
         "0.0"
        ],
        [
         "2",
         "2",
         "71 Biggest Movers From Friday",
         "https://www.benzinga.com/news/20/05/16103463/71-biggest-movers-from-friday",
         "Lisa Levin",
         "2020-05-26",
         "A",
         "55.633331298828125",
         "55.63999938964844",
         "54.38066864013672",
         "54.5913314819336",
         "54.5913314819336",
         "121345500",
         "0.0",
         "0.0",
         "0.0"
        ],
        [
         "3",
         "3",
         "46 Stocks Moving In Friday's Mid-Day Session",
         "https://www.benzinga.com/news/20/05/16095921/46-stocks-moving-in-fridays-mid-day-session",
         "Lisa Levin",
         "2020-05-22",
         "A",
         "54.81133270263672",
         "55.45199966430664",
         "54.133331298828125",
         "54.45866775512695",
         "54.45866775512695",
         "149812500",
         "0.0",
         "0.0",
         "0.0"
        ],
        [
         "4",
         "4",
         "B of A Securities Maintains Neutral on Agilent Technologies, Raises Price Target to $88",
         "https://www.benzinga.com/news/20/05/16095304/b-of-a-securities-maintains-neutral-on-agilent-technologies-raises-price-target-to-88",
         "Vick Meyer",
         "2020-05-22",
         "A",
         "54.81133270263672",
         "55.45199966430664",
         "54.133331298828125",
         "54.45866775512695",
         "54.45866775512695",
         "149812500",
         "0.0",
         "0.0",
         "0.0"
        ],
        [
         "5",
         "5",
         "CFRA Maintains Hold on Agilent Technologies, Lowers Price Target to $85",
         "https://www.benzinga.com/news/20/05/16095163/cfra-maintains-hold-on-agilent-technologies-lowers-price-target-to-85",
         "vishwanath@benzinga.com",
         "2020-05-22",
         "A",
         "54.81133270263672",
         "55.45199966430664",
         "54.133331298828125",
         "54.45866775512695",
         "54.45866775512695",
         "149812500",
         "0.0",
         "0.0",
         "0.0"
        ],
        [
         "6",
         "6",
         "UBS Maintains Neutral on Agilent Technologies, Raises Price Target to $87",
         "https://www.benzinga.com/news/20/05/16094027/ubs-maintains-neutral-on-agilent-technologies-raises-price-target-to-87",
         "vishwanath@benzinga.com",
         "2020-05-22",
         "A",
         "54.81133270263672",
         "55.45199966430664",
         "54.133331298828125",
         "54.45866775512695",
         "54.45866775512695",
         "149812500",
         "0.0",
         "0.0",
         "0.0"
        ],
        [
         "7",
         "7",
         "Agilent Technologies shares are trading higher after the company reported better-than-expected Q2 EPS and sales results.",
         "https://www.benzinga.com/wiim/20/05/16093805/agilent-technologies-shares-are-trading-higher-after-the-company-reported-better-than-expected-q2-ep",
         "Benzinga Newsdesk",
         "2020-05-22",
         "A",
         "54.81133270263672",
         "55.45199966430664",
         "54.133331298828125",
         "54.45866775512695",
         "54.45866775512695",
         "149812500",
         "0.0",
         "0.0",
         "0.25"
        ],
        [
         "8",
         "8",
         "Wells Fargo Maintains Overweight on Agilent Technologies, Raises Price Target to $95",
         "https://www.benzinga.com/news/20/05/16093505/wells-fargo-maintains-overweight-on-agilent-technologies-raises-price-target-to-95",
         "vishwanath@benzinga.com",
         "2020-05-22",
         "A",
         "54.81133270263672",
         "55.45199966430664",
         "54.133331298828125",
         "54.45866775512695",
         "54.45866775512695",
         "149812500",
         "0.0",
         "0.0",
         "0.0"
        ],
        [
         "9",
         "9",
         "10 Biggest Price Target Changes For Friday",
         "https://www.benzinga.com/analyst-ratings/price-target/20/05/16093262/10-biggest-price-target-changes-for-friday",
         "Lisa Levin",
         "2020-05-22",
         "A",
         "54.81133270263672",
         "55.45199966430664",
         "54.133331298828125",
         "54.45866775512695",
         "54.45866775512695",
         "149812500",
         "0.0",
         "0.0",
         "0.0"
        ]
       ],
       "shape": {
        "columns": 15,
        "rows": 10
       }
      },
      "text/html": [
       "<div>\n",
       "<style scoped>\n",
       "    .dataframe tbody tr th:only-of-type {\n",
       "        vertical-align: middle;\n",
       "    }\n",
       "\n",
       "    .dataframe tbody tr th {\n",
       "        vertical-align: top;\n",
       "    }\n",
       "\n",
       "    .dataframe thead th {\n",
       "        text-align: right;\n",
       "    }\n",
       "</style>\n",
       "<table border=\"1\" class=\"dataframe\">\n",
       "  <thead>\n",
       "    <tr style=\"text-align: right;\">\n",
       "      <th></th>\n",
       "      <th>Unnamed: 0</th>\n",
       "      <th>headline</th>\n",
       "      <th>url</th>\n",
       "      <th>publisher</th>\n",
       "      <th>date</th>\n",
       "      <th>stock</th>\n",
       "      <th>Open</th>\n",
       "      <th>High</th>\n",
       "      <th>Low</th>\n",
       "      <th>Close</th>\n",
       "      <th>Adj Close</th>\n",
       "      <th>Volume</th>\n",
       "      <th>Dividends</th>\n",
       "      <th>Stock Splits</th>\n",
       "      <th>sentiment</th>\n",
       "    </tr>\n",
       "  </thead>\n",
       "  <tbody>\n",
       "    <tr>\n",
       "      <th>0</th>\n",
       "      <td>0</td>\n",
       "      <td>Stocks That Hit 52-Week Highs On Friday</td>\n",
       "      <td>https://www.benzinga.com/news/20/06/16190091/s...</td>\n",
       "      <td>Benzinga Insights</td>\n",
       "      <td>2020-06-05</td>\n",
       "      <td>A</td>\n",
       "      <td>58.522667</td>\n",
       "      <td>59.101334</td>\n",
       "      <td>57.746666</td>\n",
       "      <td>59.043999</td>\n",
       "      <td>59.043999</td>\n",
       "      <td>117178500</td>\n",
       "      <td>0.0</td>\n",
       "      <td>0.0</td>\n",
       "      <td>0.00</td>\n",
       "    </tr>\n",
       "    <tr>\n",
       "      <th>1</th>\n",
       "      <td>1</td>\n",
       "      <td>Stocks That Hit 52-Week Highs On Wednesday</td>\n",
       "      <td>https://www.benzinga.com/news/20/06/16170189/s...</td>\n",
       "      <td>Benzinga Insights</td>\n",
       "      <td>2020-06-03</td>\n",
       "      <td>A</td>\n",
       "      <td>59.208000</td>\n",
       "      <td>59.862667</td>\n",
       "      <td>58.673332</td>\n",
       "      <td>58.863998</td>\n",
       "      <td>58.863998</td>\n",
       "      <td>119242500</td>\n",
       "      <td>0.0</td>\n",
       "      <td>0.0</td>\n",
       "      <td>0.00</td>\n",
       "    </tr>\n",
       "    <tr>\n",
       "      <th>2</th>\n",
       "      <td>2</td>\n",
       "      <td>71 Biggest Movers From Friday</td>\n",
       "      <td>https://www.benzinga.com/news/20/05/16103463/7...</td>\n",
       "      <td>Lisa Levin</td>\n",
       "      <td>2020-05-26</td>\n",
       "      <td>A</td>\n",
       "      <td>55.633331</td>\n",
       "      <td>55.639999</td>\n",
       "      <td>54.380669</td>\n",
       "      <td>54.591331</td>\n",
       "      <td>54.591331</td>\n",
       "      <td>121345500</td>\n",
       "      <td>0.0</td>\n",
       "      <td>0.0</td>\n",
       "      <td>0.00</td>\n",
       "    </tr>\n",
       "    <tr>\n",
       "      <th>3</th>\n",
       "      <td>3</td>\n",
       "      <td>46 Stocks Moving In Friday's Mid-Day Session</td>\n",
       "      <td>https://www.benzinga.com/news/20/05/16095921/4...</td>\n",
       "      <td>Lisa Levin</td>\n",
       "      <td>2020-05-22</td>\n",
       "      <td>A</td>\n",
       "      <td>54.811333</td>\n",
       "      <td>55.452000</td>\n",
       "      <td>54.133331</td>\n",
       "      <td>54.458668</td>\n",
       "      <td>54.458668</td>\n",
       "      <td>149812500</td>\n",
       "      <td>0.0</td>\n",
       "      <td>0.0</td>\n",
       "      <td>0.00</td>\n",
       "    </tr>\n",
       "    <tr>\n",
       "      <th>4</th>\n",
       "      <td>4</td>\n",
       "      <td>B of A Securities Maintains Neutral on Agilent...</td>\n",
       "      <td>https://www.benzinga.com/news/20/05/16095304/b...</td>\n",
       "      <td>Vick Meyer</td>\n",
       "      <td>2020-05-22</td>\n",
       "      <td>A</td>\n",
       "      <td>54.811333</td>\n",
       "      <td>55.452000</td>\n",
       "      <td>54.133331</td>\n",
       "      <td>54.458668</td>\n",
       "      <td>54.458668</td>\n",
       "      <td>149812500</td>\n",
       "      <td>0.0</td>\n",
       "      <td>0.0</td>\n",
       "      <td>0.00</td>\n",
       "    </tr>\n",
       "    <tr>\n",
       "      <th>5</th>\n",
       "      <td>5</td>\n",
       "      <td>CFRA Maintains Hold on Agilent Technologies, L...</td>\n",
       "      <td>https://www.benzinga.com/news/20/05/16095163/c...</td>\n",
       "      <td>vishwanath@benzinga.com</td>\n",
       "      <td>2020-05-22</td>\n",
       "      <td>A</td>\n",
       "      <td>54.811333</td>\n",
       "      <td>55.452000</td>\n",
       "      <td>54.133331</td>\n",
       "      <td>54.458668</td>\n",
       "      <td>54.458668</td>\n",
       "      <td>149812500</td>\n",
       "      <td>0.0</td>\n",
       "      <td>0.0</td>\n",
       "      <td>0.00</td>\n",
       "    </tr>\n",
       "    <tr>\n",
       "      <th>6</th>\n",
       "      <td>6</td>\n",
       "      <td>UBS Maintains Neutral on Agilent Technologies,...</td>\n",
       "      <td>https://www.benzinga.com/news/20/05/16094027/u...</td>\n",
       "      <td>vishwanath@benzinga.com</td>\n",
       "      <td>2020-05-22</td>\n",
       "      <td>A</td>\n",
       "      <td>54.811333</td>\n",
       "      <td>55.452000</td>\n",
       "      <td>54.133331</td>\n",
       "      <td>54.458668</td>\n",
       "      <td>54.458668</td>\n",
       "      <td>149812500</td>\n",
       "      <td>0.0</td>\n",
       "      <td>0.0</td>\n",
       "      <td>0.00</td>\n",
       "    </tr>\n",
       "    <tr>\n",
       "      <th>7</th>\n",
       "      <td>7</td>\n",
       "      <td>Agilent Technologies shares are trading higher...</td>\n",
       "      <td>https://www.benzinga.com/wiim/20/05/16093805/a...</td>\n",
       "      <td>Benzinga Newsdesk</td>\n",
       "      <td>2020-05-22</td>\n",
       "      <td>A</td>\n",
       "      <td>54.811333</td>\n",
       "      <td>55.452000</td>\n",
       "      <td>54.133331</td>\n",
       "      <td>54.458668</td>\n",
       "      <td>54.458668</td>\n",
       "      <td>149812500</td>\n",
       "      <td>0.0</td>\n",
       "      <td>0.0</td>\n",
       "      <td>0.25</td>\n",
       "    </tr>\n",
       "    <tr>\n",
       "      <th>8</th>\n",
       "      <td>8</td>\n",
       "      <td>Wells Fargo Maintains Overweight on Agilent Te...</td>\n",
       "      <td>https://www.benzinga.com/news/20/05/16093505/w...</td>\n",
       "      <td>vishwanath@benzinga.com</td>\n",
       "      <td>2020-05-22</td>\n",
       "      <td>A</td>\n",
       "      <td>54.811333</td>\n",
       "      <td>55.452000</td>\n",
       "      <td>54.133331</td>\n",
       "      <td>54.458668</td>\n",
       "      <td>54.458668</td>\n",
       "      <td>149812500</td>\n",
       "      <td>0.0</td>\n",
       "      <td>0.0</td>\n",
       "      <td>0.00</td>\n",
       "    </tr>\n",
       "    <tr>\n",
       "      <th>9</th>\n",
       "      <td>9</td>\n",
       "      <td>10 Biggest Price Target Changes For Friday</td>\n",
       "      <td>https://www.benzinga.com/analyst-ratings/price...</td>\n",
       "      <td>Lisa Levin</td>\n",
       "      <td>2020-05-22</td>\n",
       "      <td>A</td>\n",
       "      <td>54.811333</td>\n",
       "      <td>55.452000</td>\n",
       "      <td>54.133331</td>\n",
       "      <td>54.458668</td>\n",
       "      <td>54.458668</td>\n",
       "      <td>149812500</td>\n",
       "      <td>0.0</td>\n",
       "      <td>0.0</td>\n",
       "      <td>0.00</td>\n",
       "    </tr>\n",
       "  </tbody>\n",
       "</table>\n",
       "</div>"
      ],
      "text/plain": [
       "   Unnamed: 0                                           headline  \\\n",
       "0           0            Stocks That Hit 52-Week Highs On Friday   \n",
       "1           1         Stocks That Hit 52-Week Highs On Wednesday   \n",
       "2           2                      71 Biggest Movers From Friday   \n",
       "3           3       46 Stocks Moving In Friday's Mid-Day Session   \n",
       "4           4  B of A Securities Maintains Neutral on Agilent...   \n",
       "5           5  CFRA Maintains Hold on Agilent Technologies, L...   \n",
       "6           6  UBS Maintains Neutral on Agilent Technologies,...   \n",
       "7           7  Agilent Technologies shares are trading higher...   \n",
       "8           8  Wells Fargo Maintains Overweight on Agilent Te...   \n",
       "9           9         10 Biggest Price Target Changes For Friday   \n",
       "\n",
       "                                                 url                publisher  \\\n",
       "0  https://www.benzinga.com/news/20/06/16190091/s...        Benzinga Insights   \n",
       "1  https://www.benzinga.com/news/20/06/16170189/s...        Benzinga Insights   \n",
       "2  https://www.benzinga.com/news/20/05/16103463/7...               Lisa Levin   \n",
       "3  https://www.benzinga.com/news/20/05/16095921/4...               Lisa Levin   \n",
       "4  https://www.benzinga.com/news/20/05/16095304/b...               Vick Meyer   \n",
       "5  https://www.benzinga.com/news/20/05/16095163/c...  vishwanath@benzinga.com   \n",
       "6  https://www.benzinga.com/news/20/05/16094027/u...  vishwanath@benzinga.com   \n",
       "7  https://www.benzinga.com/wiim/20/05/16093805/a...        Benzinga Newsdesk   \n",
       "8  https://www.benzinga.com/news/20/05/16093505/w...  vishwanath@benzinga.com   \n",
       "9  https://www.benzinga.com/analyst-ratings/price...               Lisa Levin   \n",
       "\n",
       "         date stock       Open       High        Low      Close  Adj Close  \\\n",
       "0  2020-06-05     A  58.522667  59.101334  57.746666  59.043999  59.043999   \n",
       "1  2020-06-03     A  59.208000  59.862667  58.673332  58.863998  58.863998   \n",
       "2  2020-05-26     A  55.633331  55.639999  54.380669  54.591331  54.591331   \n",
       "3  2020-05-22     A  54.811333  55.452000  54.133331  54.458668  54.458668   \n",
       "4  2020-05-22     A  54.811333  55.452000  54.133331  54.458668  54.458668   \n",
       "5  2020-05-22     A  54.811333  55.452000  54.133331  54.458668  54.458668   \n",
       "6  2020-05-22     A  54.811333  55.452000  54.133331  54.458668  54.458668   \n",
       "7  2020-05-22     A  54.811333  55.452000  54.133331  54.458668  54.458668   \n",
       "8  2020-05-22     A  54.811333  55.452000  54.133331  54.458668  54.458668   \n",
       "9  2020-05-22     A  54.811333  55.452000  54.133331  54.458668  54.458668   \n",
       "\n",
       "      Volume  Dividends  Stock Splits  sentiment  \n",
       "0  117178500        0.0           0.0       0.00  \n",
       "1  119242500        0.0           0.0       0.00  \n",
       "2  121345500        0.0           0.0       0.00  \n",
       "3  149812500        0.0           0.0       0.00  \n",
       "4  149812500        0.0           0.0       0.00  \n",
       "5  149812500        0.0           0.0       0.00  \n",
       "6  149812500        0.0           0.0       0.00  \n",
       "7  149812500        0.0           0.0       0.25  \n",
       "8  149812500        0.0           0.0       0.00  \n",
       "9  149812500        0.0           0.0       0.00  "
      ]
     },
     "execution_count": 6,
     "metadata": {},
     "output_type": "execute_result"
    }
   ],
   "source": [
    "# Perform sentiment analysis on the 'headline' column of the aligned data\n",
    "analyze_sentiment(aligned_data, 'headline')  \n",
    "aligned_data.head(10)"
   ]
  },
  {
   "cell_type": "code",
   "execution_count": 7,
   "id": "1c686a9d",
   "metadata": {},
   "outputs": [
    {
     "data": {
      "image/png": "[encoded data removed]",
      "text/plain": [
       "<Figure size 1400x800 with 1 Axes>"
      ]
     },
     "metadata": {},
     "output_type": "display_data"
    }
   ],
   "source": [
    "# Perform sentiment distribution plot\n",
    "sentiment_distribution_plot(aligned_data)"
   ]
  },
  {
   "cell_type": "code",
   "execution_count": 8,
   "id": "0604466d",
   "metadata": {},
   "outputs": [
    {
     "name": "stdout",
     "output_type": "stream",
     "text": [
      "          date      Close  daily_return\n",
      "7   2020-05-22  54.458668      0.000000\n",
      "8   2020-05-22  54.458668      0.000000\n",
      "10  2020-06-09  62.711334      0.151540\n",
      "11  2020-06-08  63.327999      0.009833\n",
      "12  2020-06-08  63.327999      0.000000\n"
     ]
    }
   ],
   "source": [
    "# Calculate daily returns for the stock data\n",
    "daily_returns(aligned_data)\n",
    "# Drop rows with NaN values in the 'headline' or 'date' columns\n",
    "aligned_data = aligned_data.dropna()\n",
    "# Display the first few rows of the aligned data with daily returns\n",
    "print(aligned_data[['date', 'Close', 'daily_return']].head())\n",
    "\n"
   ]
  },
  {
   "cell_type": "markdown",
   "id": "5346b745",
   "metadata": {},
   "source": [
    "3. Calculate Daily Stock Returns: Compute the percentage change in daily closing prices to represent stock movements"
   ]
  },
  {
   "cell_type": "code",
   "execution_count": 9,
   "id": "bca8fb0f",
   "metadata": {},
   "outputs": [
    {
     "data": {
      "image/png": "[encoded data removed]",
      "text/plain": [
       "<Figure size 1400x800 with 1 Axes>"
      ]
     },
     "metadata": {},
     "output_type": "display_data"
    }
   ],
   "source": [
    "# Plot daily returns\n",
    "plot_daily_returns(aligned_data)"
   ]
  },
  {
   "cell_type": "code",
   "execution_count": 10,
   "id": "1e4c5e5e",
   "metadata": {},
   "outputs": [
    {
     "data": {
      "application/vnd.microsoft.datawrangler.viewer.v0+json": {
       "columns": [
        {
         "name": "index",
         "rawType": "int64",
         "type": "integer"
        },
        {
         "name": "date",
         "rawType": "object",
         "type": "unknown"
        },
        {
         "name": "sentiment",
         "rawType": "float64",
         "type": "float"
        },
        {
         "name": "daily_return",
         "rawType": "float64",
         "type": "float"
        }
       ],
       "ref": "4ed62739-8c08-4776-8cac-cf8b73c25fc6",
       "rows": [
        [
         "0",
         "2011-04-28",
         "0.06818181818181818",
         "0.01991151215601783"
        ],
        [
         "1",
         "2011-04-28",
         "0.06818181818181818",
         "-0.019148943320611567"
        ],
        [
         "2",
         "2011-04-29",
         "0.16666666666666669",
         "0.09090891742812168"
        ],
        [
         "3",
         "2011-04-29",
         "0.16666666666666669",
         "-0.9177224587194336"
        ],
        [
         "4",
         "2011-05-02",
         "-0.020833333333333332",
         "0.1966001180920529"
        ],
        [
         "5",
         "2011-05-02",
         "-0.020833333333333332",
         "-0.07169411867151576"
        ],
        [
         "6",
         "2011-05-02",
         "-0.020833333333333332",
         "-0.2221593747178322"
        ],
        [
         "7",
         "2011-05-02",
         "-0.020833333333333332",
         "0.19555730008142413"
        ],
        [
         "8",
         "2011-05-05",
         "0.0",
         "-0.04892054253443956"
        ],
        [
         "9",
         "2011-05-06",
         "0.25",
         "-0.05472309897888439"
        ],
        [
         "10",
         "2011-05-06",
         "0.25",
         "-0.05735141568801705"
        ],
        [
         "11",
         "2011-05-09",
         "0.06818181818181818",
         "-0.1573065956104417"
        ],
        [
         "12",
         "2011-05-09",
         "0.06818181818181818",
         "0.05799847187998908"
        ],
        [
         "13",
         "2011-05-11",
         "-0.0875",
         "-0.017422835308366746"
        ],
        [
         "14",
         "2011-05-12",
         "0.5",
         "-0.04520345822933125"
        ],
        [
         "15",
         "2011-05-13",
         "-0.10370370370370373",
         "0.19212449779682061"
        ],
        [
         "16",
         "2011-05-13",
         "-0.10370370370370373",
         "-0.2966553799767073"
        ],
        [
         "17",
         "2011-05-13",
         "-0.10370370370370373",
         "-0.0676817690513084"
        ],
        [
         "18",
         "2011-05-16",
         "0.0",
         "-0.11745188782822658"
        ],
        [
         "19",
         "2011-05-16",
         "0.0",
         "0.031007513927733932"
        ],
        [
         "20",
         "2011-05-17",
         "0.0",
         "-0.12148884775933122"
        ],
        [
         "21",
         "2011-05-17",
         "0.0",
         "-0.08494854702148691"
        ],
        [
         "22",
         "2011-05-18",
         "0.175",
         "0.1816142917041499"
        ],
        [
         "23",
         "2011-05-18",
         "0.175",
         "-0.07120161662449287"
        ],
        [
         "24",
         "2011-05-19",
         "0.0",
         "-0.10928630433449227"
        ],
        [
         "25",
         "2011-05-23",
         "-0.13333333333333333",
         "-0.38697149963689514"
        ],
        [
         "26",
         "2011-05-24",
         "0.10000000000000005",
         "-0.07734843438119565"
        ],
        [
         "27",
         "2011-05-24",
         "0.10000000000000005",
         "0.12600060071836006"
        ],
        [
         "28",
         "2011-05-24",
         "0.10000000000000005",
         "-0.06573461690871796"
        ],
        [
         "29",
         "2011-05-25",
         "0.29375",
         "-0.8835817256911888"
        ],
        [
         "30",
         "2011-05-25",
         "0.29375",
         "0.049619529871636425"
        ],
        [
         "31",
         "2011-05-25",
         "0.29375",
         "-0.059090756560701396"
        ],
        [
         "32",
         "2011-05-25",
         "0.29375",
         "0.06858411207836057"
        ],
        [
         "33",
         "2011-05-25",
         "0.29375",
         "0.005900548315037613"
        ],
        [
         "34",
         "2011-05-25",
         "0.29375",
         "-0.8698113193300013"
        ],
        [
         "35",
         "2011-05-25",
         "0.29375",
         "-0.8698113193300013"
        ],
        [
         "36",
         "2011-05-25",
         "0.29375",
         "-0.8698113193300013"
        ],
        [
         "37",
         "2011-05-27",
         "-0.25277777777777777",
         "0.041593439815359456"
        ],
        [
         "38",
         "2011-05-27",
         "-0.25277777777777777",
         "-0.8717837466663348"
        ],
        [
         "39",
         "2011-05-31",
         "0.14583333333333334",
         "0.10322101412257245"
        ],
        [
         "40",
         "2011-05-31",
         "0.14583333333333334",
         "0.31730765247974246"
        ],
        [
         "41",
         "2011-05-31",
         "0.14583333333333334",
         "0.238290389222914"
        ],
        [
         "42",
         "2011-05-31",
         "0.14583333333333334",
         "0.050539826012642175"
        ],
        [
         "43",
         "2011-05-31",
         "0.14583333333333334",
         "0.0"
        ],
        [
         "44",
         "2011-05-31",
         "0.14583333333333334",
         "0.050539826012642175"
        ],
        [
         "45",
         "2011-06-01",
         "0.0",
         "-0.9175984647884867"
        ],
        [
         "46",
         "2011-06-01",
         "0.0",
         "-0.915793215458293"
        ],
        [
         "47",
         "2011-06-02",
         "0.0",
         "-0.0180952467003066"
        ],
        [
         "48",
         "2011-06-03",
         "0.0",
         "0.09285469399858393"
        ],
        [
         "49",
         "2011-06-06",
         "0.1558080808080808",
         "0.04098639652121605"
        ]
       ],
       "shape": {
        "columns": 3,
        "rows": 27989
       }
      },
      "text/html": [
       "<div>\n",
       "<style scoped>\n",
       "    .dataframe tbody tr th:only-of-type {\n",
       "        vertical-align: middle;\n",
       "    }\n",
       "\n",
       "    .dataframe tbody tr th {\n",
       "        vertical-align: top;\n",
       "    }\n",
       "\n",
       "    .dataframe thead th {\n",
       "        text-align: right;\n",
       "    }\n",
       "</style>\n",
       "<table border=\"1\" class=\"dataframe\">\n",
       "  <thead>\n",
       "    <tr style=\"text-align: right;\">\n",
       "      <th></th>\n",
       "      <th>date</th>\n",
       "      <th>sentiment</th>\n",
       "      <th>daily_return</th>\n",
       "    </tr>\n",
       "  </thead>\n",
       "  <tbody>\n",
       "    <tr>\n",
       "      <th>0</th>\n",
       "      <td>2011-04-28</td>\n",
       "      <td>0.068182</td>\n",
       "      <td>0.019912</td>\n",
       "    </tr>\n",
       "    <tr>\n",
       "      <th>1</th>\n",
       "      <td>2011-04-28</td>\n",
       "      <td>0.068182</td>\n",
       "      <td>-0.019149</td>\n",
       "    </tr>\n",
       "    <tr>\n",
       "      <th>2</th>\n",
       "      <td>2011-04-29</td>\n",
       "      <td>0.166667</td>\n",
       "      <td>0.090909</td>\n",
       "    </tr>\n",
       "    <tr>\n",
       "      <th>3</th>\n",
       "      <td>2011-04-29</td>\n",
       "      <td>0.166667</td>\n",
       "      <td>-0.917722</td>\n",
       "    </tr>\n",
       "    <tr>\n",
       "      <th>4</th>\n",
       "      <td>2011-05-02</td>\n",
       "      <td>-0.020833</td>\n",
       "      <td>0.196600</td>\n",
       "    </tr>\n",
       "    <tr>\n",
       "      <th>...</th>\n",
       "      <td>...</td>\n",
       "      <td>...</td>\n",
       "      <td>...</td>\n",
       "    </tr>\n",
       "    <tr>\n",
       "      <th>27984</th>\n",
       "      <td>2020-06-11</td>\n",
       "      <td>0.012137</td>\n",
       "      <td>2.221645</td>\n",
       "    </tr>\n",
       "    <tr>\n",
       "      <th>27985</th>\n",
       "      <td>2020-06-11</td>\n",
       "      <td>0.012137</td>\n",
       "      <td>0.000000</td>\n",
       "    </tr>\n",
       "    <tr>\n",
       "      <th>27986</th>\n",
       "      <td>2020-06-11</td>\n",
       "      <td>0.012137</td>\n",
       "      <td>2.975806</td>\n",
       "    </tr>\n",
       "    <tr>\n",
       "      <th>27987</th>\n",
       "      <td>2020-06-11</td>\n",
       "      <td>0.012137</td>\n",
       "      <td>0.000000</td>\n",
       "    </tr>\n",
       "    <tr>\n",
       "      <th>27988</th>\n",
       "      <td>2020-06-11</td>\n",
       "      <td>0.012137</td>\n",
       "      <td>2.146720</td>\n",
       "    </tr>\n",
       "  </tbody>\n",
       "</table>\n",
       "<p>27989 rows × 3 columns</p>\n",
       "</div>"
      ],
      "text/plain": [
       "             date  sentiment  daily_return\n",
       "0      2011-04-28   0.068182      0.019912\n",
       "1      2011-04-28   0.068182     -0.019149\n",
       "2      2011-04-29   0.166667      0.090909\n",
       "3      2011-04-29   0.166667     -0.917722\n",
       "4      2011-05-02  -0.020833      0.196600\n",
       "...           ...        ...           ...\n",
       "27984  2020-06-11   0.012137      2.221645\n",
       "27985  2020-06-11   0.012137      0.000000\n",
       "27986  2020-06-11   0.012137      2.975806\n",
       "27987  2020-06-11   0.012137      0.000000\n",
       "27988  2020-06-11   0.012137      2.146720\n",
       "\n",
       "[27989 rows x 3 columns]"
      ]
     },
     "execution_count": 10,
     "metadata": {},
     "output_type": "execute_result"
    }
   ],
   "source": [
    "daily_sentiment_and_merge(aligned_data )"
   ]
  },
  {
   "cell_type": "code",
   "execution_count": 11,
   "id": "04561002",
   "metadata": {},
   "outputs": [
    {
     "data": {
      "application/vnd.microsoft.datawrangler.viewer.v0+json": {
       "columns": [
        {
         "name": "index",
         "rawType": "int64",
         "type": "integer"
        },
        {
         "name": "date",
         "rawType": "object",
         "type": "unknown"
        },
        {
         "name": "sentiment",
         "rawType": "float64",
         "type": "float"
        },
        {
         "name": "daily_return",
         "rawType": "float64",
         "type": "float"
        }
       ],
       "ref": "508f2822-40dd-414b-a1af-14bf9fb3b2c6",
       "rows": [
        [
         "0",
         "2011-04-28",
         "0.06818181818181818",
         "0.01991151215601783"
        ],
        [
         "1",
         "2011-04-28",
         "0.06818181818181818",
         "-0.019148943320611567"
        ],
        [
         "2",
         "2011-04-29",
         "0.16666666666666669",
         "0.09090891742812168"
        ],
        [
         "3",
         "2011-04-29",
         "0.16666666666666669",
         "-0.9177224587194336"
        ],
        [
         "4",
         "2011-05-02",
         "-0.020833333333333332",
         "0.1966001180920529"
        ],
        [
         "5",
         "2011-05-02",
         "-0.020833333333333332",
         "-0.07169411867151576"
        ],
        [
         "6",
         "2011-05-02",
         "-0.020833333333333332",
         "-0.2221593747178322"
        ],
        [
         "7",
         "2011-05-02",
         "-0.020833333333333332",
         "0.19555730008142413"
        ],
        [
         "8",
         "2011-05-05",
         "0.0",
         "-0.04892054253443956"
        ],
        [
         "9",
         "2011-05-06",
         "0.25",
         "-0.05472309897888439"
        ]
       ],
       "shape": {
        "columns": 3,
        "rows": 10
       }
      },
      "text/html": [
       "<div>\n",
       "<style scoped>\n",
       "    .dataframe tbody tr th:only-of-type {\n",
       "        vertical-align: middle;\n",
       "    }\n",
       "\n",
       "    .dataframe tbody tr th {\n",
       "        vertical-align: top;\n",
       "    }\n",
       "\n",
       "    .dataframe thead th {\n",
       "        text-align: right;\n",
       "    }\n",
       "</style>\n",
       "<table border=\"1\" class=\"dataframe\">\n",
       "  <thead>\n",
       "    <tr style=\"text-align: right;\">\n",
       "      <th></th>\n",
       "      <th>date</th>\n",
       "      <th>sentiment</th>\n",
       "      <th>daily_return</th>\n",
       "    </tr>\n",
       "  </thead>\n",
       "  <tbody>\n",
       "    <tr>\n",
       "      <th>0</th>\n",
       "      <td>2011-04-28</td>\n",
       "      <td>0.068182</td>\n",
       "      <td>0.019912</td>\n",
       "    </tr>\n",
       "    <tr>\n",
       "      <th>1</th>\n",
       "      <td>2011-04-28</td>\n",
       "      <td>0.068182</td>\n",
       "      <td>-0.019149</td>\n",
       "    </tr>\n",
       "    <tr>\n",
       "      <th>2</th>\n",
       "      <td>2011-04-29</td>\n",
       "      <td>0.166667</td>\n",
       "      <td>0.090909</td>\n",
       "    </tr>\n",
       "    <tr>\n",
       "      <th>3</th>\n",
       "      <td>2011-04-29</td>\n",
       "      <td>0.166667</td>\n",
       "      <td>-0.917722</td>\n",
       "    </tr>\n",
       "    <tr>\n",
       "      <th>4</th>\n",
       "      <td>2011-05-02</td>\n",
       "      <td>-0.020833</td>\n",
       "      <td>0.196600</td>\n",
       "    </tr>\n",
       "    <tr>\n",
       "      <th>5</th>\n",
       "      <td>2011-05-02</td>\n",
       "      <td>-0.020833</td>\n",
       "      <td>-0.071694</td>\n",
       "    </tr>\n",
       "    <tr>\n",
       "      <th>6</th>\n",
       "      <td>2011-05-02</td>\n",
       "      <td>-0.020833</td>\n",
       "      <td>-0.222159</td>\n",
       "    </tr>\n",
       "    <tr>\n",
       "      <th>7</th>\n",
       "      <td>2011-05-02</td>\n",
       "      <td>-0.020833</td>\n",
       "      <td>0.195557</td>\n",
       "    </tr>\n",
       "    <tr>\n",
       "      <th>8</th>\n",
       "      <td>2011-05-05</td>\n",
       "      <td>0.000000</td>\n",
       "      <td>-0.048921</td>\n",
       "    </tr>\n",
       "    <tr>\n",
       "      <th>9</th>\n",
       "      <td>2011-05-06</td>\n",
       "      <td>0.250000</td>\n",
       "      <td>-0.054723</td>\n",
       "    </tr>\n",
       "  </tbody>\n",
       "</table>\n",
       "</div>"
      ],
      "text/plain": [
       "         date  sentiment  daily_return\n",
       "0  2011-04-28   0.068182      0.019912\n",
       "1  2011-04-28   0.068182     -0.019149\n",
       "2  2011-04-29   0.166667      0.090909\n",
       "3  2011-04-29   0.166667     -0.917722\n",
       "4  2011-05-02  -0.020833      0.196600\n",
       "5  2011-05-02  -0.020833     -0.071694\n",
       "6  2011-05-02  -0.020833     -0.222159\n",
       "7  2011-05-02  -0.020833      0.195557\n",
       "8  2011-05-05   0.000000     -0.048921\n",
       "9  2011-05-06   0.250000     -0.054723"
      ]
     },
     "execution_count": 11,
     "metadata": {},
     "output_type": "execute_result"
    }
   ],
   "source": [
    "# Calculate daily sentiment and merge with stock data\n",
    "merged_data = daily_sentiment_and_merge(aligned_data )\n",
    "merged_data.head(10)    "
   ]
  },
  {
   "cell_type": "markdown",
   "id": "41c40941",
   "metadata": {},
   "source": [
    "4. Correlation Analysis: Use statistical methods to test the correlation between daily news sentiment scores and stock returns."
   ]
  },
  {
   "cell_type": "code",
   "execution_count": 12,
   "id": "6e8b7ed8",
   "metadata": {},
   "outputs": [
    {
     "name": "stdout",
     "output_type": "stream",
     "text": [
      "Correlation between daily sentiment scores and stock returns: -0.03395005274729867\n"
     ]
    }
   ],
   "source": [
    "# Calculate the correlation between daily sentiment scores and stock returns\n",
    "correlation = merged_data['sentiment'].corr( merged_data['daily_return'])\n",
    "print(\"Correlation between daily sentiment scores and stock returns:\", correlation)"
   ]
  },
  {
   "cell_type": "code",
   "execution_count": 13,
   "id": "b2c8c724",
   "metadata": {},
   "outputs": [
    {
     "data": {
      "image/png": "[encoded data removed]",
      "text/plain": [
       "<Figure size 1400x800 with 1 Axes>"
      ]
     },
     "metadata": {},
     "output_type": "display_data"
    }
   ],
   "source": [
    "# Function to plot sentiment and daily return correlation\n",
    "plot_sentiment_and_daily_return_correlation(merged_data)"
   ]
  },
  {
   "cell_type": "code",
   "execution_count": 14,
   "id": "9d095817",
   "metadata": {},
   "outputs": [],
   "source": [
    "# Calculate the correlation matrix between sentiment and daily returns\n",
    "correlation_matrix = merged_data[['sentiment', 'daily_return']].corr()"
   ]
  },
  {
   "cell_type": "code",
   "execution_count": 15,
   "id": "6a256839",
   "metadata": {},
   "outputs": [
    {
     "data": {
      "image/png": "[encoded data removed]",
      "text/plain": [
       "<Figure size 1000x800 with 2 Axes>"
      ]
     },
     "metadata": {},
     "output_type": "display_data"
    }
   ],
   "source": [
    "# Function to plot the correlation heatmap\n",
    "\n",
    "correlation_heatmap(correlation_matrix)"
   ]
  }
 ],
 "metadata": {
  "kernelspec": {
   "display_name": ".venv311",
   "language": "python",
   "name": "python3"
  },
  "language_info": {
   "codemirror_mode": {
    "name": "ipython",
    "version": 3
   },
   "file_extension": ".py",
   "mimetype": "text/x-python",
   "name": "python",
   "nbconvert_exporter": "python",
   "pygments_lexer": "ipython3",
   "version": "3.11.0"
  }
 },
 "nbformat": 4,
 "nbformat_minor": 5
}
