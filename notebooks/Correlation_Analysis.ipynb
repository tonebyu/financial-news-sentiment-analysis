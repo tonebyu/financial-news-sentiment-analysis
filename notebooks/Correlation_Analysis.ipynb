{
 "cells": [
  {
   "cell_type": "markdown",
   "id": "cd043fdc",
   "metadata": {},
   "source": [
    "### Correlation Analysis on Finacial News\n",
    "Perform CA on News Data"
   ]
  },
  {
   "cell_type": "markdown",
   "id": "e0962619",
   "metadata": {},
   "source": [
    "\n",
    "''' Aligns news timestamps to trading days using timezone-aware logic (UTC-4 → US/Eastern).\n",
    "\n",
    "    Performs sentiment analysis using TextBlob.\n",
    "\n",
    "    Calculates stock daily returns.\n",
    "\n",
    "    Aggregates daily sentiment per stock.\n",
    "\n",
    "    Performs correlation analysis (Pearson) between sentiment and returns.\n",
    "\n",
    "    Visualizes correlations using a heatmap.'''"
   ]
  },
  {
   "cell_type": "code",
   "execution_count": null,
   "id": "55f0d53c",
   "metadata": {},
   "outputs": [
    {
     "data": {
      "text/plain": [
       "'### Aligns news timestamps to trading days using timezone-aware logic (UTC-4 → US/Eastern).\\n\\n### Performs sentiment analysis using TextBlob.\\n\\n### Calculates stock daily returns.\\n\\n### Aggregates daily sentiment per stock.\\n\\n### Performs correlation analysis (Pearson) between sentiment and returns.\\n\\n### Visualizes correlations using a heatmap.'"
      ]
     },
     "execution_count": 1,
     "metadata": {},
     "output_type": "execute_result"
    }
   ],
   "source": [
    "# Enables automatic reloading of modules when they change\n",
    "%load_ext autoreload\n",
    "%autoreload 2"
   ]
  },
  {
   "cell_type": "code",
   "execution_count": 14,
   "id": "d926348c",
   "metadata": {},
   "outputs": [],
   "source": [
    "import sys\n",
    "import os\n",
    "sys.path.append(os.path.abspath(\"..\"))\n",
    "import pandas as pd"
   ]
  },
  {
   "cell_type": "code",
   "execution_count": null,
   "id": "18f5d27f",
   "metadata": {},
   "outputs": [],
   "source": [
    "apple = pd.read_csv('../data/AAPL_historical_data.csv')\n",
    "amzn = pd.read_csv('../data/AMZN_historical_data.csv')\n",
    "goog = pd.read_csv('../data/GOOG_historical_data.csv')\n",
    "meta = pd.read_csv('../data/META_historical_data.csv')  \n",
    "msft = pd.read_csv('../data/MSFT_historical_data.csv')\n",
    "nvda = pd.read_csv('../data/NVDA_historical_data.csv')\n",
    "tesla = pd.read_csv('../data/TSLA_historical_data.csv')"
   ]
  },
  {
   "cell_type": "code",
   "execution_count": 31,
   "id": "1efc636c",
   "metadata": {},
   "outputs": [],
   "source": [
    "df_news = pd.read_csv('../data/raw_analyst_ratings.csv')"
   ]
  },
  {
   "cell_type": "code",
   "execution_count": 39,
   "id": "dfd5df6c",
   "metadata": {},
   "outputs": [
    {
     "data": {
      "application/vnd.microsoft.datawrangler.viewer.v0+json": {
       "columns": [
        {
         "name": "index",
         "rawType": "int64",
         "type": "integer"
        },
        {
         "name": "Unnamed: 0",
         "rawType": "int64",
         "type": "integer"
        },
        {
         "name": "headline",
         "rawType": "object",
         "type": "string"
        },
        {
         "name": "url",
         "rawType": "object",
         "type": "string"
        },
        {
         "name": "publisher",
         "rawType": "object",
         "type": "string"
        },
        {
         "name": "date",
         "rawType": "object",
         "type": "string"
        },
        {
         "name": "stock",
         "rawType": "object",
         "type": "string"
        }
       ],
       "ref": "8ade4074-6096-4923-9b05-7bd197ac64d1",
       "rows": [
        [
         "0",
         "0",
         "Stocks That Hit 52-Week Highs On Friday",
         "https://www.benzinga.com/news/20/06/16190091/stocks-that-hit-52-week-highs-on-friday",
         "Benzinga Insights",
         "2020-06-05 10:30:54-04:00",
         "A"
        ],
        [
         "1",
         "1",
         "Stocks That Hit 52-Week Highs On Wednesday",
         "https://www.benzinga.com/news/20/06/16170189/stocks-that-hit-52-week-highs-on-wednesday",
         "Benzinga Insights",
         "2020-06-03 10:45:20-04:00",
         "A"
        ],
        [
         "2",
         "2",
         "71 Biggest Movers From Friday",
         "https://www.benzinga.com/news/20/05/16103463/71-biggest-movers-from-friday",
         "Lisa Levin",
         "2020-05-26 04:30:07-04:00",
         "A"
        ],
        [
         "3",
         "3",
         "46 Stocks Moving In Friday's Mid-Day Session",
         "https://www.benzinga.com/news/20/05/16095921/46-stocks-moving-in-fridays-mid-day-session",
         "Lisa Levin",
         "2020-05-22 12:45:06-04:00",
         "A"
        ],
        [
         "4",
         "4",
         "B of A Securities Maintains Neutral on Agilent Technologies, Raises Price Target to $88",
         "https://www.benzinga.com/news/20/05/16095304/b-of-a-securities-maintains-neutral-on-agilent-technologies-raises-price-target-to-88",
         "Vick Meyer",
         "2020-05-22 11:38:59-04:00",
         "A"
        ],
        [
         "5",
         "5",
         "CFRA Maintains Hold on Agilent Technologies, Lowers Price Target to $85",
         "https://www.benzinga.com/news/20/05/16095163/cfra-maintains-hold-on-agilent-technologies-lowers-price-target-to-85",
         "vishwanath@benzinga.com",
         "2020-05-22 11:23:25-04:00",
         "A"
        ],
        [
         "6",
         "6",
         "UBS Maintains Neutral on Agilent Technologies, Raises Price Target to $87",
         "https://www.benzinga.com/news/20/05/16094027/ubs-maintains-neutral-on-agilent-technologies-raises-price-target-to-87",
         "vishwanath@benzinga.com",
         "2020-05-22 09:36:20-04:00",
         "A"
        ],
        [
         "7",
         "7",
         "Agilent Technologies shares are trading higher after the company reported better-than-expected Q2 EPS and sales results.",
         "https://www.benzinga.com/wiim/20/05/16093805/agilent-technologies-shares-are-trading-higher-after-the-company-reported-better-than-expected-q2-ep",
         "Benzinga Newsdesk",
         "2020-05-22 09:07:04-04:00",
         "A"
        ],
        [
         "8",
         "8",
         "Wells Fargo Maintains Overweight on Agilent Technologies, Raises Price Target to $95",
         "https://www.benzinga.com/news/20/05/16093505/wells-fargo-maintains-overweight-on-agilent-technologies-raises-price-target-to-95",
         "vishwanath@benzinga.com",
         "2020-05-22 08:37:59-04:00",
         "A"
        ],
        [
         "9",
         "9",
         "10 Biggest Price Target Changes For Friday",
         "https://www.benzinga.com/analyst-ratings/price-target/20/05/16093262/10-biggest-price-target-changes-for-friday",
         "Lisa Levin",
         "2020-05-22 08:06:17-04:00",
         "A"
        ],
        [
         "10",
         "10",
         "30 Stocks Moving in Friday's Pre-Market Session",
         "https://www.benzinga.com/news/20/05/16092879/30-stocks-moving-in-fridays-pre-market-session",
         "Lisa Levin",
         "2020-05-22 00:00:00",
         "A"
        ],
        [
         "11",
         "11",
         "SVB Leerink Maintains Outperform on Agilent Technologies, Raises Price Target to $95",
         "https://www.benzinga.com/news/20/05/16092270/svb-leerink-maintains-outperform-on-agilent-technologies-raises-price-target-to-95",
         "vishwanath@benzinga.com",
         "2020-05-22 00:00:00",
         "A"
        ],
        [
         "12",
         "12",
         "8 Stocks Moving In Thursday's After-Hours Session",
         "https://www.benzinga.com/news/20/05/16089803/8-stocks-moving-in-thursdays-after-hours-session",
         "Tyree Gorges",
         "2020-05-21 00:00:00",
         "A"
        ],
        [
         "13",
         "13",
         "Agilent Technologies shares are trading higher after the company reported better-than-expected Q2 EPS and sales results.",
         "https://www.benzinga.com/wiim/20/05/16089218/agilent-technologies-shares-are-trading-higher-after-the-company-reported-better-than-expected-q2-ep",
         "Benzinga Newsdesk",
         "2020-05-21 00:00:00",
         "A"
        ],
        [
         "14",
         "14",
         "Agilent Technologies Q2 Adj. EPS $0.71 Beats $0.61 Estimate, Sales $1.24B Beat $1.21B Estimate",
         "https://www.benzinga.com/news/earnings/20/05/16088886/agilent-technologies-q2-adj-eps-0-71-beats-0-61-estimate-sales-1-24b-beat-1-21b-estimate",
         "Benzinga Newsdesk",
         "2020-05-21 00:00:00",
         "A"
        ],
        [
         "15",
         "15",
         "Earnings Scheduled For May 21, 2020",
         "https://www.benzinga.com/news/earnings/20/05/16082427/earnings-scheduled-for-may-21-2020",
         "Lisa Levin",
         "2020-05-21 00:00:00",
         "A"
        ],
        [
         "16",
         "16",
         "Agilent Technologies Receives FDA Approval for PD-L1 as a Companion Diagnostic",
         "https://www.benzinga.com/news/20/05/16054223/agilent-technologies-receives-fda-approval-for-pd-l1-as-a-companion-diagnostic",
         "Luke J Jacobi",
         "2020-05-18 00:00:00",
         "A"
        ],
        [
         "17",
         "17",
         "Q1 13F Roundup: How Buffett, Einhorn, Ackman And Others Adjusted Their Portfolios",
         "https://www.benzinga.com/news/20/05/16051311/q1-13f-roundup-how-buffett-einhorn-ackman-and-others-adjusted-their-portfolios",
         "Wayne Duggan",
         "2020-05-16 00:00:00",
         "A"
        ],
        [
         "18",
         "18",
         "Pershing Square 13F Shows Fund Raises Stake In Agilent Technologies To 12,626,593 Shares",
         "https://www.benzinga.com/general/hedge-funds/20/05/16048806/pershing-square-13f-shows-fund-raises-stake-in-agilent-technologies-to-12-626-593-shares",
         "Benzinga Newsdesk",
         "2020-05-15 00:00:00",
         "A"
        ],
        [
         "19",
         "19",
         "How Bill Ackman Successfully Navigated Coronavirus Market Volatility",
         "https://www.benzinga.com/general/education/20/05/15979110/how-bill-ackman-successfully-navigated-coronavirus-market-volatility",
         "Wayne Duggan",
         "2020-05-08 00:00:00",
         "A"
        ],
        [
         "20",
         "20",
         "Shares of several healthcare companies are trading higher amid positive investor sentiment as some US states begin to reopen their economies and as oil prices gain for the session.",
         "https://www.benzinga.com/wiim/20/05/15957697/shares-of-several-healthcare-companies-are-trading-higher-amid-positive-investor-sentiment-as-some-u",
         "Benzinga Newsdesk",
         "2020-05-05 00:00:00",
         "A"
        ],
        [
         "21",
         "21",
         "Shares of several healthcare companies are trading lower as markets dip following recent strength. Markets have sold off as investors weigh recent earnings and amid concerns of renewed US-China trade frictions.",
         "https://www.benzinga.com/20/05/15935673/shares-of-several-healthcare-companies-are-trading-lower-as-markets-dip-following-recent-strength-ma",
         "Benzinga Newsdesk",
         "2020-05-01 00:00:00",
         "A"
        ],
        [
         "22",
         "22",
         "UBS Maintains Neutral on Agilent Technologies, Lowers Price Target to $84",
         "https://www.benzinga.com/news/20/04/15897306/ubs-maintains-neutral-on-agilent-technologies-lowers-price-target-to-84",
         "vishwanath@benzinga.com",
         "2020-04-28 00:00:00",
         "A"
        ],
        [
         "23",
         "23",
         "Agilent Reports FDA Approval For PD-L1 Companion Diagnostic On Dako Omni",
         "https://www.benzinga.com/news/20/04/15864339/agilent-reports-fda-approval-for-pd-l1-companion-diagnostic-on-dako-omni",
         "Benzinga Newsdesk",
         "2020-04-23 00:00:00",
         "A"
        ],
        [
         "24",
         "24",
         "Agilent Reports Has Become Top-Level Sponsor Of My Green Lab",
         "https://www.benzinga.com/news/20/04/15855436/agilent-reports-has-become-top-level-sponsor-of-my-green-lab",
         "Benzinga Newsdesk",
         "2020-04-22 00:00:00",
         "A"
        ],
        [
         "25",
         "25",
         "Agilent Withdraws Q2 And FY20 Guidance",
         "https://www.benzinga.com/news/20/04/15796369/agilent-withdraws-q2-and-fy20-guidance",
         "Benzinga Newsdesk",
         "2020-04-14 00:00:00",
         "A"
        ],
        [
         "26",
         "26",
         "Shares of several companies in the auto dealer space are trading higher amid positive market sentiment. Speculation some coronavirus hotspots leveling off has raised hopes of a return to economic activity, which could mean a rebound in consumer spending.",
         "https://www.benzinga.com/wiim/20/04/15769071/shares-of-several-companies-in-the-auto-dealer-space-are-trading-higher-amid-positive-market-sentime",
         "Benzinga Newsdesk",
         "2020-04-08 00:00:00",
         "A"
        ],
        [
         "27",
         "27",
         "Shares of several healthcare companies are trading higher as markets gain amid optimism that coronavirus cases in several US hotspots may be peaking. A sooner peak could mean a sooner return to economic activity.",
         "https://www.benzinga.com/wiim/20/04/15748126/shares-of-several-healthcare-companies-are-trading-higher-as-markets-gain-amid-optimism-that-coronav",
         "Benzinga Newsdesk",
         "2020-04-06 00:00:00",
         "A"
        ],
        [
         "28",
         "28",
         "Stifel Maintains Hold on Agilent Technologies, Lowers Price Target to $73",
         "https://www.benzinga.com/news/20/04/15728603/stifel-maintains-hold-on-agilent-technologies-lowers-price-target-to-73",
         "Vick Meyer",
         "2020-04-02 00:00:00",
         "A"
        ],
        [
         "29",
         "29",
         "Shares of several healthcare companies are trading lower amid market weakness as growing coronavirus concerns in the US weigh on equities.",
         "https://www.benzinga.com/wiim/20/04/15717065/shares-of-several-healthcare-companies-are-trading-lower-amid-market-weakness-as-growing-coronavirus",
         "Benzinga Newsdesk",
         "2020-04-01 00:00:00",
         "A"
        ],
        [
         "30",
         "30",
         "Int'l. Air Transport Authority Chief Economist Sees Consolidation In Airline Sector As Some Airlines Fail, Calls Signs In Chinese Domestic Market 'Encouraging,' Load Factors Are About 60%",
         "https://www.benzinga.com/news/20/03/15705690/intl-air-transport-authority-chief-economist-sees-consolidation-in-airline-sector-as-some-airlines-f",
         "Benzinga Newsdesk",
         "2020-03-31 00:00:00",
         "A"
        ],
        [
         "31",
         "31",
         "Wells Fargo Maintains Overweight on Agilent Technologies, Lowers Price Target to $82",
         "https://www.benzinga.com/news/20/03/15695415/wells-fargo-maintains-overweight-on-agilent-technologies-lowers-price-target-to-82",
         "Vick Meyer",
         "2020-03-30 00:00:00",
         "A"
        ],
        [
         "32",
         "32",
         "Shares of several technology companies are trading higher as equities continue to rise following last week's rebound amid US stimulus measures.",
         "https://www.benzinga.com/wiim/20/03/15695372/shares-of-several-technology-companies-are-trading-higher-as-equities-continue-to-rise-following-las",
         "Benzinga Newsdesk",
         "2020-03-30 00:00:00",
         "A"
        ],
        [
         "33",
         "33",
         "Shares of several healthcare companies are trading lower, selling off from this week's strength. While the US stimulus package boosted economic optimism, demand concerns still exist amid the coronavirus outbreak.",
         "https://www.benzinga.com/wiim/20/03/15683827/shares-of-several-healthcare-companies-are-trading-lower-selling-off-from-this-weeks-strength-while",
         "Benzinga Newsdesk",
         "2020-03-27 00:00:00",
         "A"
        ],
        [
         "34",
         "34",
         "Shares of several healthcare companies are trading higher following Senate passage of a $2 trillion economic stimulus package, which has lifted stocks across sectors.",
         "https://www.benzinga.com/wiim/20/03/15674560/shares-of-several-healthcare-companies-are-trading-higher-following-senate-passage-of-a-2-trillion-e",
         "Benzinga Newsdesk",
         "2020-03-26 00:00:00",
         "A"
        ],
        [
         "35",
         "35",
         "Barclays Maintains Equal-Weight on Agilent Technologies, Lowers Price Target to $76",
         "https://www.benzinga.com/news/20/03/15673665/barclays-maintains-equal-weight-on-agilent-technologies-lowers-price-target-to-76",
         "Vick Meyer",
         "2020-03-26 00:00:00",
         "A"
        ],
        [
         "36",
         "36",
         "Ariel Chairman John Rogers Thinks Current Market Is 'Once In A Lifetime Opportunity To Buy Stocks'",
         "https://www.benzinga.com/news/20/03/15668620/ariel-chairman-john-rogers-thinks-current-market-is-once-in-a-lifetime-opportunity-to-buy-stocks",
         "Shivdeep Dhaliwal",
         "2020-03-26 00:00:00",
         "A"
        ],
        [
         "37",
         "37",
         "Citigroup Maintains Neutral on Agilent Technologies, Lowers Price Target to $75",
         "https://www.benzinga.com/news/20/03/15615851/citigroup-maintains-neutral-on-agilent-technologies-lowers-price-target-to-75",
         "Vick Meyer",
         "2020-03-20 00:00:00",
         "A"
        ],
        [
         "38",
         "38",
         "Stocks That Hit 52-Week Lows On Monday",
         "https://www.benzinga.com/news/20/03/15560273/stocks-that-hit-52-week-lows-on-monday",
         "Benzinga Newsdesk",
         "2020-03-16 00:00:00",
         "A"
        ],
        [
         "39",
         "39",
         "Shares of several healthcare companies are trading lower in sympathy with the overall market on continued downward momentum caused by the coronavirus. The virus has had a negative impact on the global economy.",
         "https://www.benzinga.com/wiim/20/03/15558425/shares-of-several-healthcare-companies-are-trading-lower-in-sympathy-with-the-overall-market-on-cont",
         "Benzinga Newsdesk",
         "2020-03-16 00:00:00",
         "A"
        ],
        [
         "40",
         "40",
         "Shares of several basic materials companies are trading higher, rebounding following Thursday's crash. The sector has been volatile amid the coronavirus outbreak, which has disrupted economic activity. NOTE: While markets rebound, virus fears persist.",
         "https://www.benzinga.com/wiim/20/03/15546085/shares-of-several-basic-materials-companies-are-trading-higher-rebounding-following-thursdays-crash",
         "Benzinga Newsdesk",
         "2020-03-13 00:00:00",
         "A"
        ],
        [
         "41",
         "41",
         "Stocks That Hit 52-Week Lows On Thursday",
         "https://www.benzinga.com/news/20/03/15538835/stocks-that-hit-52-week-lows-on-thursday",
         "Lisa Levin",
         "2020-03-12 00:00:00",
         "A"
        ],
        [
         "42",
         "42",
         "Shares of several coronavirus-related companies including vaccine makers, protective apparel manufacturers and emergency medical suppliers are trading higher as the coronavirus continues to spread globally.",
         "https://www.benzinga.com/wiim/20/03/15528213/shares-of-several-coronavirus-related-companies-including-vaccine-makers-protective-apparel-manufact",
         "luke@benzinga.com",
         "2020-03-11 00:00:00",
         "A"
        ],
        [
         "43",
         "43",
         "Agilent Technologies Inc Says In January 2020, Net Revenue Was Negatively Impacted Due To The Public Health Crisis In China; Says In Jan 2020, Net Revenue Negatively Impacted Also Due To Extension Of Lunar New Year Resulting In Fewer Selling Days In Month",
         "https://www.benzinga.com/news/20/03/15472189/agilent-technologies-inc-says-in-january-2020-net-revenue-was-negatively-impacted-due-to-the-public",
         "luke@benzinga.com",
         "2020-03-03 00:00:00",
         "A"
        ],
        [
         "44",
         "44",
         "Shares of several healthcare companies are trading higher in sympathy with the overall market as it rebounds from a selloff caused by coronavirus fears.",
         "https://www.benzinga.com/wiim/20/03/15456786/shares-of-several-healthcare-companies-are-trading-higher-in-sympathy-with-the-overall-market-as-it",
         "Benzinga Newsdesk",
         "2020-03-02 00:00:00",
         "A"
        ],
        [
         "45",
         "45",
         "Benzinga's Top Upgrades, Downgrades For February 24, 2020",
         "https://www.benzinga.com/analyst-ratings/upgrades/20/02/15393664/benzingas-top-upgrades-downgrades-for-february-24-2020",
         "Lisa Levin",
         "2020-02-24 00:00:00",
         "A"
        ],
        [
         "46",
         "46",
         "Shares of several software companies are trading lower as the coronavirus cases surge outside of China. NOTE: The virus has raised fear of a global economic slowdown.",
         "https://www.benzinga.com/wiim/20/02/15392140/shares-of-several-software-companies-are-trading-lower-as-the-coronavirus-cases-surge-outside-of-chi",
         "Benzinga Newsdesk",
         "2020-02-24 00:00:00",
         "A"
        ],
        [
         "47",
         "47",
         "Needham Downgrades Agilent Technologies to Hold, Announces $85 Price Target",
         "https://www.benzinga.com/news/20/02/15391251/needham-downgrades-agilent-technologies-to-hold-announces-85-price-target",
         "Vick Meyer",
         "2020-02-24 00:00:00",
         "A"
        ],
        [
         "48",
         "48",
         "UBS Maintains Neutral on Agilent Technologies, Raises Price Target to $90",
         "https://www.benzinga.com/news/20/02/15363071/ubs-maintains-neutral-on-agilent-technologies-raises-price-target-to-90",
         "Vick Meyer",
         "2020-02-19 00:00:00",
         "A"
        ],
        [
         "49",
         "49",
         "12 Stocks Moving In Tuesday's After-Hours Session",
         "https://www.benzinga.com/news/20/02/15359453/12-stocks-moving-in-tuesdays-after-hours-session",
         "Tyree Gorges",
         "2020-02-18 00:00:00",
         "A"
        ]
       ],
       "shape": {
        "columns": 6,
        "rows": 100
       }
      },
      "text/html": [
       "<div>\n",
       "<style scoped>\n",
       "    .dataframe tbody tr th:only-of-type {\n",
       "        vertical-align: middle;\n",
       "    }\n",
       "\n",
       "    .dataframe tbody tr th {\n",
       "        vertical-align: top;\n",
       "    }\n",
       "\n",
       "    .dataframe thead th {\n",
       "        text-align: right;\n",
       "    }\n",
       "</style>\n",
       "<table border=\"1\" class=\"dataframe\">\n",
       "  <thead>\n",
       "    <tr style=\"text-align: right;\">\n",
       "      <th></th>\n",
       "      <th>Unnamed: 0</th>\n",
       "      <th>headline</th>\n",
       "      <th>url</th>\n",
       "      <th>publisher</th>\n",
       "      <th>date</th>\n",
       "      <th>stock</th>\n",
       "    </tr>\n",
       "  </thead>\n",
       "  <tbody>\n",
       "    <tr>\n",
       "      <th>0</th>\n",
       "      <td>0</td>\n",
       "      <td>Stocks That Hit 52-Week Highs On Friday</td>\n",
       "      <td>https://www.benzinga.com/news/20/06/16190091/s...</td>\n",
       "      <td>Benzinga Insights</td>\n",
       "      <td>2020-06-05 10:30:54-04:00</td>\n",
       "      <td>A</td>\n",
       "    </tr>\n",
       "    <tr>\n",
       "      <th>1</th>\n",
       "      <td>1</td>\n",
       "      <td>Stocks That Hit 52-Week Highs On Wednesday</td>\n",
       "      <td>https://www.benzinga.com/news/20/06/16170189/s...</td>\n",
       "      <td>Benzinga Insights</td>\n",
       "      <td>2020-06-03 10:45:20-04:00</td>\n",
       "      <td>A</td>\n",
       "    </tr>\n",
       "    <tr>\n",
       "      <th>2</th>\n",
       "      <td>2</td>\n",
       "      <td>71 Biggest Movers From Friday</td>\n",
       "      <td>https://www.benzinga.com/news/20/05/16103463/7...</td>\n",
       "      <td>Lisa Levin</td>\n",
       "      <td>2020-05-26 04:30:07-04:00</td>\n",
       "      <td>A</td>\n",
       "    </tr>\n",
       "    <tr>\n",
       "      <th>3</th>\n",
       "      <td>3</td>\n",
       "      <td>46 Stocks Moving In Friday's Mid-Day Session</td>\n",
       "      <td>https://www.benzinga.com/news/20/05/16095921/4...</td>\n",
       "      <td>Lisa Levin</td>\n",
       "      <td>2020-05-22 12:45:06-04:00</td>\n",
       "      <td>A</td>\n",
       "    </tr>\n",
       "    <tr>\n",
       "      <th>4</th>\n",
       "      <td>4</td>\n",
       "      <td>B of A Securities Maintains Neutral on Agilent...</td>\n",
       "      <td>https://www.benzinga.com/news/20/05/16095304/b...</td>\n",
       "      <td>Vick Meyer</td>\n",
       "      <td>2020-05-22 11:38:59-04:00</td>\n",
       "      <td>A</td>\n",
       "    </tr>\n",
       "    <tr>\n",
       "      <th>...</th>\n",
       "      <td>...</td>\n",
       "      <td>...</td>\n",
       "      <td>...</td>\n",
       "      <td>...</td>\n",
       "      <td>...</td>\n",
       "      <td>...</td>\n",
       "    </tr>\n",
       "    <tr>\n",
       "      <th>95</th>\n",
       "      <td>95</td>\n",
       "      <td>Barclays Maintains Equal-Weight on Agilent Tec...</td>\n",
       "      <td>https://www.benzinga.com/news/19/10/14566662/b...</td>\n",
       "      <td>Vick Meyer</td>\n",
       "      <td>2019-10-09 00:00:00</td>\n",
       "      <td>A</td>\n",
       "    </tr>\n",
       "    <tr>\n",
       "      <th>96</th>\n",
       "      <td>96</td>\n",
       "      <td>Shares of several healthcare companies are tra...</td>\n",
       "      <td>https://www.benzinga.com/markets/wiim/19/10/14...</td>\n",
       "      <td>Benzinga Newsdesk</td>\n",
       "      <td>2019-10-08 00:00:00</td>\n",
       "      <td>A</td>\n",
       "    </tr>\n",
       "    <tr>\n",
       "      <th>97</th>\n",
       "      <td>97</td>\n",
       "      <td>Shares of several healthcare companies are tra...</td>\n",
       "      <td>https://www.benzinga.com/markets/wiim/19/10/14...</td>\n",
       "      <td>Benzinga Newsdesk</td>\n",
       "      <td>2019-10-02 00:00:00</td>\n",
       "      <td>A</td>\n",
       "    </tr>\n",
       "    <tr>\n",
       "      <th>98</th>\n",
       "      <td>98</td>\n",
       "      <td>Shares of several healthcare companies are tra...</td>\n",
       "      <td>https://www.benzinga.com/markets/wiim/19/09/14...</td>\n",
       "      <td>Benzinga Newsdesk</td>\n",
       "      <td>2019-09-05 00:00:00</td>\n",
       "      <td>A</td>\n",
       "    </tr>\n",
       "    <tr>\n",
       "      <th>99</th>\n",
       "      <td>99</td>\n",
       "      <td>Agilent Collaborates On Study Of Performance-E...</td>\n",
       "      <td>https://www.benzinga.com/general/19/09/1436478...</td>\n",
       "      <td>Benzinga Newsdesk</td>\n",
       "      <td>2019-09-03 00:00:00</td>\n",
       "      <td>A</td>\n",
       "    </tr>\n",
       "  </tbody>\n",
       "</table>\n",
       "<p>100 rows × 6 columns</p>\n",
       "</div>"
      ],
      "text/plain": [
       "    Unnamed: 0                                           headline  \\\n",
       "0            0            Stocks That Hit 52-Week Highs On Friday   \n",
       "1            1         Stocks That Hit 52-Week Highs On Wednesday   \n",
       "2            2                      71 Biggest Movers From Friday   \n",
       "3            3       46 Stocks Moving In Friday's Mid-Day Session   \n",
       "4            4  B of A Securities Maintains Neutral on Agilent...   \n",
       "..         ...                                                ...   \n",
       "95          95  Barclays Maintains Equal-Weight on Agilent Tec...   \n",
       "96          96  Shares of several healthcare companies are tra...   \n",
       "97          97  Shares of several healthcare companies are tra...   \n",
       "98          98  Shares of several healthcare companies are tra...   \n",
       "99          99  Agilent Collaborates On Study Of Performance-E...   \n",
       "\n",
       "                                                  url          publisher  \\\n",
       "0   https://www.benzinga.com/news/20/06/16190091/s...  Benzinga Insights   \n",
       "1   https://www.benzinga.com/news/20/06/16170189/s...  Benzinga Insights   \n",
       "2   https://www.benzinga.com/news/20/05/16103463/7...         Lisa Levin   \n",
       "3   https://www.benzinga.com/news/20/05/16095921/4...         Lisa Levin   \n",
       "4   https://www.benzinga.com/news/20/05/16095304/b...         Vick Meyer   \n",
       "..                                                ...                ...   \n",
       "95  https://www.benzinga.com/news/19/10/14566662/b...         Vick Meyer   \n",
       "96  https://www.benzinga.com/markets/wiim/19/10/14...  Benzinga Newsdesk   \n",
       "97  https://www.benzinga.com/markets/wiim/19/10/14...  Benzinga Newsdesk   \n",
       "98  https://www.benzinga.com/markets/wiim/19/09/14...  Benzinga Newsdesk   \n",
       "99  https://www.benzinga.com/general/19/09/1436478...  Benzinga Newsdesk   \n",
       "\n",
       "                         date stock  \n",
       "0   2020-06-05 10:30:54-04:00     A  \n",
       "1   2020-06-03 10:45:20-04:00     A  \n",
       "2   2020-05-26 04:30:07-04:00     A  \n",
       "3   2020-05-22 12:45:06-04:00     A  \n",
       "4   2020-05-22 11:38:59-04:00     A  \n",
       "..                        ...   ...  \n",
       "95        2019-10-09 00:00:00     A  \n",
       "96        2019-10-08 00:00:00     A  \n",
       "97        2019-10-02 00:00:00     A  \n",
       "98        2019-09-05 00:00:00     A  \n",
       "99        2019-09-03 00:00:00     A  \n",
       "\n",
       "[100 rows x 6 columns]"
      ]
     },
     "execution_count": 39,
     "metadata": {},
     "output_type": "execute_result"
    }
   ],
   "source": [
    "df_news.head(100)"
   ]
  },
  {
   "cell_type": "code",
   "execution_count": 40,
   "id": "048c007d",
   "metadata": {},
   "outputs": [],
   "source": [
    "from scripts.correlation_analysis import (\n",
    "    align_news_to_trading_day, apply_sentiment_analysis, aggregate_daily_sentiment,\n",
    "    prepare_all_stocks, correlation_matrix, plot_correlation_heatmap\n",
    ")"
   ]
  },
  {
   "cell_type": "code",
   "execution_count": 42,
   "id": "9115d5dd",
   "metadata": {},
   "outputs": [
    {
     "name": "stdout",
     "output_type": "stream",
     "text": [
      "      Correlation  N\n",
      "AAPL    -1.000000  2\n",
      "AMZN    -1.000000  2\n",
      "TSLA    -1.000000  2\n",
      "NVDA     0.284230  6\n",
      "GOOG    -0.146348  4\n",
      "META          NaN  0\n",
      "MSFT          NaN  0\n"
     ]
    },
    {
     "data": {
      "image/png": "[encoded data removed]",
      "text/plain": [
       "<Figure size 800x500 with 2 Axes>"
      ]
     },
     "metadata": {},
     "output_type": "display_data"
    }
   ],
   "source": [
    "# Load news data\n",
    "news_df = pd.read_csv('../data/raw_analyst_ratings.csv')\n",
    "\n",
    "# Align to trading days \n",
    "news_df = align_news_to_trading_day(news_df)\n",
    "\n",
    "# Apply sentiment scoring\n",
    "news_df = apply_sentiment_analysis(news_df)\n",
    "\n",
    "# Aggregate daily sentiment per stock\n",
    "sentiment_df = aggregate_daily_sentiment(news_df)\n",
    "\n",
    "# Load and prepare stock return data\n",
    "stock_data = prepare_all_stocks('../data')\n",
    "\n",
    "# Correlate sentiment and returns\n",
    "corr_df, pval_df, count_df = correlation_matrix(stock_data, sentiment_df)\n",
    "\n",
    "# Show correlations sorted by strength\n",
    "summary_df = corr_df.join(count_df).sort_values(by='Correlation', key=abs, ascending=False)\n",
    "print(summary_df)\n",
    "\n",
    "\n",
    "# Heatmap visualization\n",
    "plot_correlation_heatmap(corr_df)"
   ]
  }
 ],
 "metadata": {
  "kernelspec": {
   "display_name": ".venv311",
   "language": "python",
   "name": "python3"
  },
  "language_info": {
   "codemirror_mode": {
    "name": "ipython",
    "version": 3
   },
   "file_extension": ".py",
   "mimetype": "text/x-python",
   "name": "python",
   "nbconvert_exporter": "python",
   "pygments_lexer": "ipython3",
   "version": "3.11.0"
  }
 },
 "nbformat": 4,
 "nbformat_minor": 5
}
