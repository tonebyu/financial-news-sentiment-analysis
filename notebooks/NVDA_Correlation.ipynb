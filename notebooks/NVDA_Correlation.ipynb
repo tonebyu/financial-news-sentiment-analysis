{
 "cells": [
  {
   "cell_type": "markdown",
   "id": "53dab403",
   "metadata": {},
   "source": [
    "### NVDA Correlation\n",
    "Perform CA For NVDA"
   ]
  },
  {
   "cell_type": "code",
   "execution_count": 16,
   "id": "5bb11814",
   "metadata": {},
   "outputs": [
    {
     "name": "stdout",
     "output_type": "stream",
     "text": [
      "The autoreload extension is already loaded. To reload it, use:\n",
      "  %reload_ext autoreload\n"
     ]
    }
   ],
   "source": [
    "# Enables automatic reloading of modules when they change and allows importing from the parent directory.\n",
    "'''\n",
    "Allow importing custom modules from the parent directory.\n",
    "Ensure that any changes to those modules (e.g., editing a .py file in the parent directory) \n",
    "are automatically reloaded when you run cells, making development and testing more efficient.\n",
    "'''\n",
    "\n",
    "%load_ext autoreload\n",
    "%autoreload 2\n",
    "import sys\n",
    "import os\n",
    "sys.path.append(os.path.abspath(\"..\"))"
   ]
  },
  {
   "cell_type": "code",
   "execution_count": 17,
   "id": "6d73b27d",
   "metadata": {},
   "outputs": [],
   "source": [
    "from scripts.correlation_analysis import ( load_data, analyze_sentiment, sentiment_distribution_plot\n",
    "                                          , daily_returns,plot_daily_returns, daily_sentiment_and_merge\n",
    "                                          ,plot_sentiment_and_daily_return_correlation, correlation_heatmap)"
   ]
  },
  {
   "cell_type": "code",
   "execution_count": 18,
   "id": "46c1b6fd",
   "metadata": {},
   "outputs": [],
   "source": [
    "# Load the news and stock data\n",
    "# Ensure the paths are correct relative to the current working directory\n",
    "news_data = '../Data/raw_analyst_ratings.csv'\n",
    "stock_data = '../Data/NVDA_historical_data.csv'\n"
   ]
  },
  {
   "cell_type": "markdown",
   "id": "90e356a4",
   "metadata": {},
   "source": [
    "1. Date Alignment: Ensure that both datasets (news and stock prices) are aligned by dates. This might involve normalizing timestamps."
   ]
  },
  {
   "cell_type": "code",
   "execution_count": 19,
   "id": "4f880663",
   "metadata": {},
   "outputs": [],
   "source": [
    "#Align the news and stock data\n",
    "aligned_data = load_data(news_data, stock_data)"
   ]
  },
  {
   "cell_type": "code",
   "execution_count": 20,
   "id": "dbdb43fa",
   "metadata": {},
   "outputs": [
    {
     "data": {
      "application/vnd.microsoft.datawrangler.viewer.v0+json": {
       "columns": [
        {
         "name": "index",
         "rawType": "int64",
         "type": "integer"
        },
        {
         "name": "Unnamed: 0",
         "rawType": "int64",
         "type": "integer"
        },
        {
         "name": "headline",
         "rawType": "object",
         "type": "string"
        },
        {
         "name": "url",
         "rawType": "object",
         "type": "string"
        },
        {
         "name": "publisher",
         "rawType": "object",
         "type": "string"
        },
        {
         "name": "date",
         "rawType": "object",
         "type": "unknown"
        },
        {
         "name": "stock",
         "rawType": "object",
         "type": "string"
        },
        {
         "name": "Open",
         "rawType": "float64",
         "type": "float"
        },
        {
         "name": "High",
         "rawType": "float64",
         "type": "float"
        },
        {
         "name": "Low",
         "rawType": "float64",
         "type": "float"
        },
        {
         "name": "Close",
         "rawType": "float64",
         "type": "float"
        },
        {
         "name": "Adj Close",
         "rawType": "float64",
         "type": "float"
        },
        {
         "name": "Volume",
         "rawType": "int64",
         "type": "integer"
        },
        {
         "name": "Dividends",
         "rawType": "float64",
         "type": "float"
        },
        {
         "name": "Stock Splits",
         "rawType": "float64",
         "type": "float"
        }
       ],
       "ref": "4de9cbd9-fca8-4495-9d47-b3700b6c2f40",
       "rows": [
        [
         "0",
         "0",
         "Stocks That Hit 52-Week Highs On Friday",
         "https://www.benzinga.com/news/20/06/16190091/stocks-that-hit-52-week-highs-on-friday",
         "Benzinga Insights",
         "2020-06-05",
         "A",
         "8.794500350952148",
         "8.996999740600586",
         "8.708000183105469",
         "8.920000076293945",
         "8.893502235412598",
         "481748000",
         "0.0",
         "0.0"
        ],
        [
         "1",
         "1",
         "Stocks That Hit 52-Week Highs On Wednesday",
         "https://www.benzinga.com/news/20/06/16170189/stocks-that-hit-52-week-highs-on-wednesday",
         "Benzinga Insights",
         "2020-06-03",
         "A",
         "8.822250366210938",
         "8.866250038146973",
         "8.699999809265137",
         "8.769499778747559",
         "8.739461898803711",
         "365440000",
         "0.0",
         "0.0"
        ],
        [
         "2",
         "2",
         "71 Biggest Movers From Friday",
         "https://www.benzinga.com/news/20/05/16103463/71-biggest-movers-from-friday",
         "Lisa Levin",
         "2020-05-26",
         "A",
         "9.156749725341797",
         "9.181750297546388",
         "8.67199993133545",
         "8.71774959564209",
         "8.687888145446777",
         "770780000",
         "0.0",
         "0.0"
        ],
        [
         "3",
         "3",
         "46 Stocks Moving In Friday's Mid-Day Session",
         "https://www.benzinga.com/news/20/05/16095921/46-stocks-moving-in-fridays-mid-day-session",
         "Lisa Levin",
         "2020-05-22",
         "A",
         "8.825249671936035",
         "9.093000411987305",
         "8.713250160217285",
         "9.026249885559082",
         "8.995331764221191",
         "1038764000",
         "0.0",
         "0.0"
        ],
        [
         "4",
         "4",
         "B of A Securities Maintains Neutral on Agilent Technologies, Raises Price Target to $88",
         "https://www.benzinga.com/news/20/05/16095304/b-of-a-securities-maintains-neutral-on-agilent-technologies-raises-price-target-to-88",
         "Vick Meyer",
         "2020-05-22",
         "A",
         "8.825249671936035",
         "9.093000411987305",
         "8.713250160217285",
         "9.026249885559082",
         "8.995331764221191",
         "1038764000",
         "0.0",
         "0.0"
        ],
        [
         "5",
         "5",
         "CFRA Maintains Hold on Agilent Technologies, Lowers Price Target to $85",
         "https://www.benzinga.com/news/20/05/16095163/cfra-maintains-hold-on-agilent-technologies-lowers-price-target-to-85",
         "vishwanath@benzinga.com",
         "2020-05-22",
         "A",
         "8.825249671936035",
         "9.093000411987305",
         "8.713250160217285",
         "9.026249885559082",
         "8.995331764221191",
         "1038764000",
         "0.0",
         "0.0"
        ],
        [
         "6",
         "6",
         "UBS Maintains Neutral on Agilent Technologies, Raises Price Target to $87",
         "https://www.benzinga.com/news/20/05/16094027/ubs-maintains-neutral-on-agilent-technologies-raises-price-target-to-87",
         "vishwanath@benzinga.com",
         "2020-05-22",
         "A",
         "8.825249671936035",
         "9.093000411987305",
         "8.713250160217285",
         "9.026249885559082",
         "8.995331764221191",
         "1038764000",
         "0.0",
         "0.0"
        ],
        [
         "7",
         "7",
         "Agilent Technologies shares are trading higher after the company reported better-than-expected Q2 EPS and sales results.",
         "https://www.benzinga.com/wiim/20/05/16093805/agilent-technologies-shares-are-trading-higher-after-the-company-reported-better-than-expected-q2-ep",
         "Benzinga Newsdesk",
         "2020-05-22",
         "A",
         "8.825249671936035",
         "9.093000411987305",
         "8.713250160217285",
         "9.026249885559082",
         "8.995331764221191",
         "1038764000",
         "0.0",
         "0.0"
        ],
        [
         "8",
         "8",
         "Wells Fargo Maintains Overweight on Agilent Technologies, Raises Price Target to $95",
         "https://www.benzinga.com/news/20/05/16093505/wells-fargo-maintains-overweight-on-agilent-technologies-raises-price-target-to-95",
         "vishwanath@benzinga.com",
         "2020-05-22",
         "A",
         "8.825249671936035",
         "9.093000411987305",
         "8.713250160217285",
         "9.026249885559082",
         "8.995331764221191",
         "1038764000",
         "0.0",
         "0.0"
        ],
        [
         "9",
         "9",
         "10 Biggest Price Target Changes For Friday",
         "https://www.benzinga.com/analyst-ratings/price-target/20/05/16093262/10-biggest-price-target-changes-for-friday",
         "Lisa Levin",
         "2020-05-22",
         "A",
         "8.825249671936035",
         "9.093000411987305",
         "8.713250160217285",
         "9.026249885559082",
         "8.995331764221191",
         "1038764000",
         "0.0",
         "0.0"
        ]
       ],
       "shape": {
        "columns": 14,
        "rows": 10
       }
      },
      "text/html": [
       "<div>\n",
       "<style scoped>\n",
       "    .dataframe tbody tr th:only-of-type {\n",
       "        vertical-align: middle;\n",
       "    }\n",
       "\n",
       "    .dataframe tbody tr th {\n",
       "        vertical-align: top;\n",
       "    }\n",
       "\n",
       "    .dataframe thead th {\n",
       "        text-align: right;\n",
       "    }\n",
       "</style>\n",
       "<table border=\"1\" class=\"dataframe\">\n",
       "  <thead>\n",
       "    <tr style=\"text-align: right;\">\n",
       "      <th></th>\n",
       "      <th>Unnamed: 0</th>\n",
       "      <th>headline</th>\n",
       "      <th>url</th>\n",
       "      <th>publisher</th>\n",
       "      <th>date</th>\n",
       "      <th>stock</th>\n",
       "      <th>Open</th>\n",
       "      <th>High</th>\n",
       "      <th>Low</th>\n",
       "      <th>Close</th>\n",
       "      <th>Adj Close</th>\n",
       "      <th>Volume</th>\n",
       "      <th>Dividends</th>\n",
       "      <th>Stock Splits</th>\n",
       "    </tr>\n",
       "  </thead>\n",
       "  <tbody>\n",
       "    <tr>\n",
       "      <th>0</th>\n",
       "      <td>0</td>\n",
       "      <td>Stocks That Hit 52-Week Highs On Friday</td>\n",
       "      <td>https://www.benzinga.com/news/20/06/16190091/s...</td>\n",
       "      <td>Benzinga Insights</td>\n",
       "      <td>2020-06-05</td>\n",
       "      <td>A</td>\n",
       "      <td>8.79450</td>\n",
       "      <td>8.99700</td>\n",
       "      <td>8.70800</td>\n",
       "      <td>8.92000</td>\n",
       "      <td>8.893502</td>\n",
       "      <td>481748000</td>\n",
       "      <td>0.0</td>\n",
       "      <td>0.0</td>\n",
       "    </tr>\n",
       "    <tr>\n",
       "      <th>1</th>\n",
       "      <td>1</td>\n",
       "      <td>Stocks That Hit 52-Week Highs On Wednesday</td>\n",
       "      <td>https://www.benzinga.com/news/20/06/16170189/s...</td>\n",
       "      <td>Benzinga Insights</td>\n",
       "      <td>2020-06-03</td>\n",
       "      <td>A</td>\n",
       "      <td>8.82225</td>\n",
       "      <td>8.86625</td>\n",
       "      <td>8.70000</td>\n",
       "      <td>8.76950</td>\n",
       "      <td>8.739462</td>\n",
       "      <td>365440000</td>\n",
       "      <td>0.0</td>\n",
       "      <td>0.0</td>\n",
       "    </tr>\n",
       "    <tr>\n",
       "      <th>2</th>\n",
       "      <td>2</td>\n",
       "      <td>71 Biggest Movers From Friday</td>\n",
       "      <td>https://www.benzinga.com/news/20/05/16103463/7...</td>\n",
       "      <td>Lisa Levin</td>\n",
       "      <td>2020-05-26</td>\n",
       "      <td>A</td>\n",
       "      <td>9.15675</td>\n",
       "      <td>9.18175</td>\n",
       "      <td>8.67200</td>\n",
       "      <td>8.71775</td>\n",
       "      <td>8.687888</td>\n",
       "      <td>770780000</td>\n",
       "      <td>0.0</td>\n",
       "      <td>0.0</td>\n",
       "    </tr>\n",
       "    <tr>\n",
       "      <th>3</th>\n",
       "      <td>3</td>\n",
       "      <td>46 Stocks Moving In Friday's Mid-Day Session</td>\n",
       "      <td>https://www.benzinga.com/news/20/05/16095921/4...</td>\n",
       "      <td>Lisa Levin</td>\n",
       "      <td>2020-05-22</td>\n",
       "      <td>A</td>\n",
       "      <td>8.82525</td>\n",
       "      <td>9.09300</td>\n",
       "      <td>8.71325</td>\n",
       "      <td>9.02625</td>\n",
       "      <td>8.995332</td>\n",
       "      <td>1038764000</td>\n",
       "      <td>0.0</td>\n",
       "      <td>0.0</td>\n",
       "    </tr>\n",
       "    <tr>\n",
       "      <th>4</th>\n",
       "      <td>4</td>\n",
       "      <td>B of A Securities Maintains Neutral on Agilent...</td>\n",
       "      <td>https://www.benzinga.com/news/20/05/16095304/b...</td>\n",
       "      <td>Vick Meyer</td>\n",
       "      <td>2020-05-22</td>\n",
       "      <td>A</td>\n",
       "      <td>8.82525</td>\n",
       "      <td>9.09300</td>\n",
       "      <td>8.71325</td>\n",
       "      <td>9.02625</td>\n",
       "      <td>8.995332</td>\n",
       "      <td>1038764000</td>\n",
       "      <td>0.0</td>\n",
       "      <td>0.0</td>\n",
       "    </tr>\n",
       "    <tr>\n",
       "      <th>5</th>\n",
       "      <td>5</td>\n",
       "      <td>CFRA Maintains Hold on Agilent Technologies, L...</td>\n",
       "      <td>https://www.benzinga.com/news/20/05/16095163/c...</td>\n",
       "      <td>vishwanath@benzinga.com</td>\n",
       "      <td>2020-05-22</td>\n",
       "      <td>A</td>\n",
       "      <td>8.82525</td>\n",
       "      <td>9.09300</td>\n",
       "      <td>8.71325</td>\n",
       "      <td>9.02625</td>\n",
       "      <td>8.995332</td>\n",
       "      <td>1038764000</td>\n",
       "      <td>0.0</td>\n",
       "      <td>0.0</td>\n",
       "    </tr>\n",
       "    <tr>\n",
       "      <th>6</th>\n",
       "      <td>6</td>\n",
       "      <td>UBS Maintains Neutral on Agilent Technologies,...</td>\n",
       "      <td>https://www.benzinga.com/news/20/05/16094027/u...</td>\n",
       "      <td>vishwanath@benzinga.com</td>\n",
       "      <td>2020-05-22</td>\n",
       "      <td>A</td>\n",
       "      <td>8.82525</td>\n",
       "      <td>9.09300</td>\n",
       "      <td>8.71325</td>\n",
       "      <td>9.02625</td>\n",
       "      <td>8.995332</td>\n",
       "      <td>1038764000</td>\n",
       "      <td>0.0</td>\n",
       "      <td>0.0</td>\n",
       "    </tr>\n",
       "    <tr>\n",
       "      <th>7</th>\n",
       "      <td>7</td>\n",
       "      <td>Agilent Technologies shares are trading higher...</td>\n",
       "      <td>https://www.benzinga.com/wiim/20/05/16093805/a...</td>\n",
       "      <td>Benzinga Newsdesk</td>\n",
       "      <td>2020-05-22</td>\n",
       "      <td>A</td>\n",
       "      <td>8.82525</td>\n",
       "      <td>9.09300</td>\n",
       "      <td>8.71325</td>\n",
       "      <td>9.02625</td>\n",
       "      <td>8.995332</td>\n",
       "      <td>1038764000</td>\n",
       "      <td>0.0</td>\n",
       "      <td>0.0</td>\n",
       "    </tr>\n",
       "    <tr>\n",
       "      <th>8</th>\n",
       "      <td>8</td>\n",
       "      <td>Wells Fargo Maintains Overweight on Agilent Te...</td>\n",
       "      <td>https://www.benzinga.com/news/20/05/16093505/w...</td>\n",
       "      <td>vishwanath@benzinga.com</td>\n",
       "      <td>2020-05-22</td>\n",
       "      <td>A</td>\n",
       "      <td>8.82525</td>\n",
       "      <td>9.09300</td>\n",
       "      <td>8.71325</td>\n",
       "      <td>9.02625</td>\n",
       "      <td>8.995332</td>\n",
       "      <td>1038764000</td>\n",
       "      <td>0.0</td>\n",
       "      <td>0.0</td>\n",
       "    </tr>\n",
       "    <tr>\n",
       "      <th>9</th>\n",
       "      <td>9</td>\n",
       "      <td>10 Biggest Price Target Changes For Friday</td>\n",
       "      <td>https://www.benzinga.com/analyst-ratings/price...</td>\n",
       "      <td>Lisa Levin</td>\n",
       "      <td>2020-05-22</td>\n",
       "      <td>A</td>\n",
       "      <td>8.82525</td>\n",
       "      <td>9.09300</td>\n",
       "      <td>8.71325</td>\n",
       "      <td>9.02625</td>\n",
       "      <td>8.995332</td>\n",
       "      <td>1038764000</td>\n",
       "      <td>0.0</td>\n",
       "      <td>0.0</td>\n",
       "    </tr>\n",
       "  </tbody>\n",
       "</table>\n",
       "</div>"
      ],
      "text/plain": [
       "   Unnamed: 0                                           headline  \\\n",
       "0           0            Stocks That Hit 52-Week Highs On Friday   \n",
       "1           1         Stocks That Hit 52-Week Highs On Wednesday   \n",
       "2           2                      71 Biggest Movers From Friday   \n",
       "3           3       46 Stocks Moving In Friday's Mid-Day Session   \n",
       "4           4  B of A Securities Maintains Neutral on Agilent...   \n",
       "5           5  CFRA Maintains Hold on Agilent Technologies, L...   \n",
       "6           6  UBS Maintains Neutral on Agilent Technologies,...   \n",
       "7           7  Agilent Technologies shares are trading higher...   \n",
       "8           8  Wells Fargo Maintains Overweight on Agilent Te...   \n",
       "9           9         10 Biggest Price Target Changes For Friday   \n",
       "\n",
       "                                                 url                publisher  \\\n",
       "0  https://www.benzinga.com/news/20/06/16190091/s...        Benzinga Insights   \n",
       "1  https://www.benzinga.com/news/20/06/16170189/s...        Benzinga Insights   \n",
       "2  https://www.benzinga.com/news/20/05/16103463/7...               Lisa Levin   \n",
       "3  https://www.benzinga.com/news/20/05/16095921/4...               Lisa Levin   \n",
       "4  https://www.benzinga.com/news/20/05/16095304/b...               Vick Meyer   \n",
       "5  https://www.benzinga.com/news/20/05/16095163/c...  vishwanath@benzinga.com   \n",
       "6  https://www.benzinga.com/news/20/05/16094027/u...  vishwanath@benzinga.com   \n",
       "7  https://www.benzinga.com/wiim/20/05/16093805/a...        Benzinga Newsdesk   \n",
       "8  https://www.benzinga.com/news/20/05/16093505/w...  vishwanath@benzinga.com   \n",
       "9  https://www.benzinga.com/analyst-ratings/price...               Lisa Levin   \n",
       "\n",
       "         date stock     Open     High      Low    Close  Adj Close  \\\n",
       "0  2020-06-05     A  8.79450  8.99700  8.70800  8.92000   8.893502   \n",
       "1  2020-06-03     A  8.82225  8.86625  8.70000  8.76950   8.739462   \n",
       "2  2020-05-26     A  9.15675  9.18175  8.67200  8.71775   8.687888   \n",
       "3  2020-05-22     A  8.82525  9.09300  8.71325  9.02625   8.995332   \n",
       "4  2020-05-22     A  8.82525  9.09300  8.71325  9.02625   8.995332   \n",
       "5  2020-05-22     A  8.82525  9.09300  8.71325  9.02625   8.995332   \n",
       "6  2020-05-22     A  8.82525  9.09300  8.71325  9.02625   8.995332   \n",
       "7  2020-05-22     A  8.82525  9.09300  8.71325  9.02625   8.995332   \n",
       "8  2020-05-22     A  8.82525  9.09300  8.71325  9.02625   8.995332   \n",
       "9  2020-05-22     A  8.82525  9.09300  8.71325  9.02625   8.995332   \n",
       "\n",
       "       Volume  Dividends  Stock Splits  \n",
       "0   481748000        0.0           0.0  \n",
       "1   365440000        0.0           0.0  \n",
       "2   770780000        0.0           0.0  \n",
       "3  1038764000        0.0           0.0  \n",
       "4  1038764000        0.0           0.0  \n",
       "5  1038764000        0.0           0.0  \n",
       "6  1038764000        0.0           0.0  \n",
       "7  1038764000        0.0           0.0  \n",
       "8  1038764000        0.0           0.0  \n",
       "9  1038764000        0.0           0.0  "
      ]
     },
     "execution_count": 20,
     "metadata": {},
     "output_type": "execute_result"
    }
   ],
   "source": [
    "# Display the first few rows of the aligned data\n",
    "aligned_data.head(10)\n"
   ]
  },
  {
   "cell_type": "markdown",
   "id": "d18c0002",
   "metadata": {},
   "source": [
    "2. Sentiment Analysis: Conduct sentiment analysis on news headlines"
   ]
  },
  {
   "cell_type": "code",
   "execution_count": 21,
   "id": "421ab27f",
   "metadata": {},
   "outputs": [
    {
     "name": "stdout",
     "output_type": "stream",
     "text": [
      "                                            headline  sentiment\n",
      "0            Stocks That Hit 52-Week Highs On Friday        0.0\n",
      "1         Stocks That Hit 52-Week Highs On Wednesday        0.0\n",
      "2                      71 Biggest Movers From Friday        0.0\n",
      "3       46 Stocks Moving In Friday's Mid-Day Session        0.0\n",
      "4  B of A Securities Maintains Neutral on Agilent...        0.0\n"
     ]
    },
    {
     "data": {
      "application/vnd.microsoft.datawrangler.viewer.v0+json": {
       "columns": [
        {
         "name": "index",
         "rawType": "int64",
         "type": "integer"
        },
        {
         "name": "Unnamed: 0",
         "rawType": "int64",
         "type": "integer"
        },
        {
         "name": "headline",
         "rawType": "object",
         "type": "string"
        },
        {
         "name": "url",
         "rawType": "object",
         "type": "string"
        },
        {
         "name": "publisher",
         "rawType": "object",
         "type": "string"
        },
        {
         "name": "date",
         "rawType": "object",
         "type": "unknown"
        },
        {
         "name": "stock",
         "rawType": "object",
         "type": "string"
        },
        {
         "name": "Open",
         "rawType": "float64",
         "type": "float"
        },
        {
         "name": "High",
         "rawType": "float64",
         "type": "float"
        },
        {
         "name": "Low",
         "rawType": "float64",
         "type": "float"
        },
        {
         "name": "Close",
         "rawType": "float64",
         "type": "float"
        },
        {
         "name": "Adj Close",
         "rawType": "float64",
         "type": "float"
        },
        {
         "name": "Volume",
         "rawType": "int64",
         "type": "integer"
        },
        {
         "name": "Dividends",
         "rawType": "float64",
         "type": "float"
        },
        {
         "name": "Stock Splits",
         "rawType": "float64",
         "type": "float"
        },
        {
         "name": "sentiment",
         "rawType": "float64",
         "type": "float"
        }
       ],
       "ref": "11df2589-ece5-4f2a-b7a8-1d09c12f86ba",
       "rows": [
        [
         "0",
         "0",
         "Stocks That Hit 52-Week Highs On Friday",
         "https://www.benzinga.com/news/20/06/16190091/stocks-that-hit-52-week-highs-on-friday",
         "Benzinga Insights",
         "2020-06-05",
         "A",
         "8.794500350952148",
         "8.996999740600586",
         "8.708000183105469",
         "8.920000076293945",
         "8.893502235412598",
         "481748000",
         "0.0",
         "0.0",
         "0.0"
        ],
        [
         "1",
         "1",
         "Stocks That Hit 52-Week Highs On Wednesday",
         "https://www.benzinga.com/news/20/06/16170189/stocks-that-hit-52-week-highs-on-wednesday",
         "Benzinga Insights",
         "2020-06-03",
         "A",
         "8.822250366210938",
         "8.866250038146973",
         "8.699999809265137",
         "8.769499778747559",
         "8.739461898803711",
         "365440000",
         "0.0",
         "0.0",
         "0.0"
        ],
        [
         "2",
         "2",
         "71 Biggest Movers From Friday",
         "https://www.benzinga.com/news/20/05/16103463/71-biggest-movers-from-friday",
         "Lisa Levin",
         "2020-05-26",
         "A",
         "9.156749725341797",
         "9.181750297546388",
         "8.67199993133545",
         "8.71774959564209",
         "8.687888145446777",
         "770780000",
         "0.0",
         "0.0",
         "0.0"
        ],
        [
         "3",
         "3",
         "46 Stocks Moving In Friday's Mid-Day Session",
         "https://www.benzinga.com/news/20/05/16095921/46-stocks-moving-in-fridays-mid-day-session",
         "Lisa Levin",
         "2020-05-22",
         "A",
         "8.825249671936035",
         "9.093000411987305",
         "8.713250160217285",
         "9.026249885559082",
         "8.995331764221191",
         "1038764000",
         "0.0",
         "0.0",
         "0.0"
        ],
        [
         "4",
         "4",
         "B of A Securities Maintains Neutral on Agilent Technologies, Raises Price Target to $88",
         "https://www.benzinga.com/news/20/05/16095304/b-of-a-securities-maintains-neutral-on-agilent-technologies-raises-price-target-to-88",
         "Vick Meyer",
         "2020-05-22",
         "A",
         "8.825249671936035",
         "9.093000411987305",
         "8.713250160217285",
         "9.026249885559082",
         "8.995331764221191",
         "1038764000",
         "0.0",
         "0.0",
         "0.0"
        ],
        [
         "5",
         "5",
         "CFRA Maintains Hold on Agilent Technologies, Lowers Price Target to $85",
         "https://www.benzinga.com/news/20/05/16095163/cfra-maintains-hold-on-agilent-technologies-lowers-price-target-to-85",
         "vishwanath@benzinga.com",
         "2020-05-22",
         "A",
         "8.825249671936035",
         "9.093000411987305",
         "8.713250160217285",
         "9.026249885559082",
         "8.995331764221191",
         "1038764000",
         "0.0",
         "0.0",
         "0.0"
        ],
        [
         "6",
         "6",
         "UBS Maintains Neutral on Agilent Technologies, Raises Price Target to $87",
         "https://www.benzinga.com/news/20/05/16094027/ubs-maintains-neutral-on-agilent-technologies-raises-price-target-to-87",
         "vishwanath@benzinga.com",
         "2020-05-22",
         "A",
         "8.825249671936035",
         "9.093000411987305",
         "8.713250160217285",
         "9.026249885559082",
         "8.995331764221191",
         "1038764000",
         "0.0",
         "0.0",
         "0.0"
        ],
        [
         "7",
         "7",
         "Agilent Technologies shares are trading higher after the company reported better-than-expected Q2 EPS and sales results.",
         "https://www.benzinga.com/wiim/20/05/16093805/agilent-technologies-shares-are-trading-higher-after-the-company-reported-better-than-expected-q2-ep",
         "Benzinga Newsdesk",
         "2020-05-22",
         "A",
         "8.825249671936035",
         "9.093000411987305",
         "8.713250160217285",
         "9.026249885559082",
         "8.995331764221191",
         "1038764000",
         "0.0",
         "0.0",
         "0.25"
        ],
        [
         "8",
         "8",
         "Wells Fargo Maintains Overweight on Agilent Technologies, Raises Price Target to $95",
         "https://www.benzinga.com/news/20/05/16093505/wells-fargo-maintains-overweight-on-agilent-technologies-raises-price-target-to-95",
         "vishwanath@benzinga.com",
         "2020-05-22",
         "A",
         "8.825249671936035",
         "9.093000411987305",
         "8.713250160217285",
         "9.026249885559082",
         "8.995331764221191",
         "1038764000",
         "0.0",
         "0.0",
         "0.0"
        ],
        [
         "9",
         "9",
         "10 Biggest Price Target Changes For Friday",
         "https://www.benzinga.com/analyst-ratings/price-target/20/05/16093262/10-biggest-price-target-changes-for-friday",
         "Lisa Levin",
         "2020-05-22",
         "A",
         "8.825249671936035",
         "9.093000411987305",
         "8.713250160217285",
         "9.026249885559082",
         "8.995331764221191",
         "1038764000",
         "0.0",
         "0.0",
         "0.0"
        ]
       ],
       "shape": {
        "columns": 15,
        "rows": 10
       }
      },
      "text/html": [
       "<div>\n",
       "<style scoped>\n",
       "    .dataframe tbody tr th:only-of-type {\n",
       "        vertical-align: middle;\n",
       "    }\n",
       "\n",
       "    .dataframe tbody tr th {\n",
       "        vertical-align: top;\n",
       "    }\n",
       "\n",
       "    .dataframe thead th {\n",
       "        text-align: right;\n",
       "    }\n",
       "</style>\n",
       "<table border=\"1\" class=\"dataframe\">\n",
       "  <thead>\n",
       "    <tr style=\"text-align: right;\">\n",
       "      <th></th>\n",
       "      <th>Unnamed: 0</th>\n",
       "      <th>headline</th>\n",
       "      <th>url</th>\n",
       "      <th>publisher</th>\n",
       "      <th>date</th>\n",
       "      <th>stock</th>\n",
       "      <th>Open</th>\n",
       "      <th>High</th>\n",
       "      <th>Low</th>\n",
       "      <th>Close</th>\n",
       "      <th>Adj Close</th>\n",
       "      <th>Volume</th>\n",
       "      <th>Dividends</th>\n",
       "      <th>Stock Splits</th>\n",
       "      <th>sentiment</th>\n",
       "    </tr>\n",
       "  </thead>\n",
       "  <tbody>\n",
       "    <tr>\n",
       "      <th>0</th>\n",
       "      <td>0</td>\n",
       "      <td>Stocks That Hit 52-Week Highs On Friday</td>\n",
       "      <td>https://www.benzinga.com/news/20/06/16190091/s...</td>\n",
       "      <td>Benzinga Insights</td>\n",
       "      <td>2020-06-05</td>\n",
       "      <td>A</td>\n",
       "      <td>8.79450</td>\n",
       "      <td>8.99700</td>\n",
       "      <td>8.70800</td>\n",
       "      <td>8.92000</td>\n",
       "      <td>8.893502</td>\n",
       "      <td>481748000</td>\n",
       "      <td>0.0</td>\n",
       "      <td>0.0</td>\n",
       "      <td>0.00</td>\n",
       "    </tr>\n",
       "    <tr>\n",
       "      <th>1</th>\n",
       "      <td>1</td>\n",
       "      <td>Stocks That Hit 52-Week Highs On Wednesday</td>\n",
       "      <td>https://www.benzinga.com/news/20/06/16170189/s...</td>\n",
       "      <td>Benzinga Insights</td>\n",
       "      <td>2020-06-03</td>\n",
       "      <td>A</td>\n",
       "      <td>8.82225</td>\n",
       "      <td>8.86625</td>\n",
       "      <td>8.70000</td>\n",
       "      <td>8.76950</td>\n",
       "      <td>8.739462</td>\n",
       "      <td>365440000</td>\n",
       "      <td>0.0</td>\n",
       "      <td>0.0</td>\n",
       "      <td>0.00</td>\n",
       "    </tr>\n",
       "    <tr>\n",
       "      <th>2</th>\n",
       "      <td>2</td>\n",
       "      <td>71 Biggest Movers From Friday</td>\n",
       "      <td>https://www.benzinga.com/news/20/05/16103463/7...</td>\n",
       "      <td>Lisa Levin</td>\n",
       "      <td>2020-05-26</td>\n",
       "      <td>A</td>\n",
       "      <td>9.15675</td>\n",
       "      <td>9.18175</td>\n",
       "      <td>8.67200</td>\n",
       "      <td>8.71775</td>\n",
       "      <td>8.687888</td>\n",
       "      <td>770780000</td>\n",
       "      <td>0.0</td>\n",
       "      <td>0.0</td>\n",
       "      <td>0.00</td>\n",
       "    </tr>\n",
       "    <tr>\n",
       "      <th>3</th>\n",
       "      <td>3</td>\n",
       "      <td>46 Stocks Moving In Friday's Mid-Day Session</td>\n",
       "      <td>https://www.benzinga.com/news/20/05/16095921/4...</td>\n",
       "      <td>Lisa Levin</td>\n",
       "      <td>2020-05-22</td>\n",
       "      <td>A</td>\n",
       "      <td>8.82525</td>\n",
       "      <td>9.09300</td>\n",
       "      <td>8.71325</td>\n",
       "      <td>9.02625</td>\n",
       "      <td>8.995332</td>\n",
       "      <td>1038764000</td>\n",
       "      <td>0.0</td>\n",
       "      <td>0.0</td>\n",
       "      <td>0.00</td>\n",
       "    </tr>\n",
       "    <tr>\n",
       "      <th>4</th>\n",
       "      <td>4</td>\n",
       "      <td>B of A Securities Maintains Neutral on Agilent...</td>\n",
       "      <td>https://www.benzinga.com/news/20/05/16095304/b...</td>\n",
       "      <td>Vick Meyer</td>\n",
       "      <td>2020-05-22</td>\n",
       "      <td>A</td>\n",
       "      <td>8.82525</td>\n",
       "      <td>9.09300</td>\n",
       "      <td>8.71325</td>\n",
       "      <td>9.02625</td>\n",
       "      <td>8.995332</td>\n",
       "      <td>1038764000</td>\n",
       "      <td>0.0</td>\n",
       "      <td>0.0</td>\n",
       "      <td>0.00</td>\n",
       "    </tr>\n",
       "    <tr>\n",
       "      <th>5</th>\n",
       "      <td>5</td>\n",
       "      <td>CFRA Maintains Hold on Agilent Technologies, L...</td>\n",
       "      <td>https://www.benzinga.com/news/20/05/16095163/c...</td>\n",
       "      <td>vishwanath@benzinga.com</td>\n",
       "      <td>2020-05-22</td>\n",
       "      <td>A</td>\n",
       "      <td>8.82525</td>\n",
       "      <td>9.09300</td>\n",
       "      <td>8.71325</td>\n",
       "      <td>9.02625</td>\n",
       "      <td>8.995332</td>\n",
       "      <td>1038764000</td>\n",
       "      <td>0.0</td>\n",
       "      <td>0.0</td>\n",
       "      <td>0.00</td>\n",
       "    </tr>\n",
       "    <tr>\n",
       "      <th>6</th>\n",
       "      <td>6</td>\n",
       "      <td>UBS Maintains Neutral on Agilent Technologies,...</td>\n",
       "      <td>https://www.benzinga.com/news/20/05/16094027/u...</td>\n",
       "      <td>vishwanath@benzinga.com</td>\n",
       "      <td>2020-05-22</td>\n",
       "      <td>A</td>\n",
       "      <td>8.82525</td>\n",
       "      <td>9.09300</td>\n",
       "      <td>8.71325</td>\n",
       "      <td>9.02625</td>\n",
       "      <td>8.995332</td>\n",
       "      <td>1038764000</td>\n",
       "      <td>0.0</td>\n",
       "      <td>0.0</td>\n",
       "      <td>0.00</td>\n",
       "    </tr>\n",
       "    <tr>\n",
       "      <th>7</th>\n",
       "      <td>7</td>\n",
       "      <td>Agilent Technologies shares are trading higher...</td>\n",
       "      <td>https://www.benzinga.com/wiim/20/05/16093805/a...</td>\n",
       "      <td>Benzinga Newsdesk</td>\n",
       "      <td>2020-05-22</td>\n",
       "      <td>A</td>\n",
       "      <td>8.82525</td>\n",
       "      <td>9.09300</td>\n",
       "      <td>8.71325</td>\n",
       "      <td>9.02625</td>\n",
       "      <td>8.995332</td>\n",
       "      <td>1038764000</td>\n",
       "      <td>0.0</td>\n",
       "      <td>0.0</td>\n",
       "      <td>0.25</td>\n",
       "    </tr>\n",
       "    <tr>\n",
       "      <th>8</th>\n",
       "      <td>8</td>\n",
       "      <td>Wells Fargo Maintains Overweight on Agilent Te...</td>\n",
       "      <td>https://www.benzinga.com/news/20/05/16093505/w...</td>\n",
       "      <td>vishwanath@benzinga.com</td>\n",
       "      <td>2020-05-22</td>\n",
       "      <td>A</td>\n",
       "      <td>8.82525</td>\n",
       "      <td>9.09300</td>\n",
       "      <td>8.71325</td>\n",
       "      <td>9.02625</td>\n",
       "      <td>8.995332</td>\n",
       "      <td>1038764000</td>\n",
       "      <td>0.0</td>\n",
       "      <td>0.0</td>\n",
       "      <td>0.00</td>\n",
       "    </tr>\n",
       "    <tr>\n",
       "      <th>9</th>\n",
       "      <td>9</td>\n",
       "      <td>10 Biggest Price Target Changes For Friday</td>\n",
       "      <td>https://www.benzinga.com/analyst-ratings/price...</td>\n",
       "      <td>Lisa Levin</td>\n",
       "      <td>2020-05-22</td>\n",
       "      <td>A</td>\n",
       "      <td>8.82525</td>\n",
       "      <td>9.09300</td>\n",
       "      <td>8.71325</td>\n",
       "      <td>9.02625</td>\n",
       "      <td>8.995332</td>\n",
       "      <td>1038764000</td>\n",
       "      <td>0.0</td>\n",
       "      <td>0.0</td>\n",
       "      <td>0.00</td>\n",
       "    </tr>\n",
       "  </tbody>\n",
       "</table>\n",
       "</div>"
      ],
      "text/plain": [
       "   Unnamed: 0                                           headline  \\\n",
       "0           0            Stocks That Hit 52-Week Highs On Friday   \n",
       "1           1         Stocks That Hit 52-Week Highs On Wednesday   \n",
       "2           2                      71 Biggest Movers From Friday   \n",
       "3           3       46 Stocks Moving In Friday's Mid-Day Session   \n",
       "4           4  B of A Securities Maintains Neutral on Agilent...   \n",
       "5           5  CFRA Maintains Hold on Agilent Technologies, L...   \n",
       "6           6  UBS Maintains Neutral on Agilent Technologies,...   \n",
       "7           7  Agilent Technologies shares are trading higher...   \n",
       "8           8  Wells Fargo Maintains Overweight on Agilent Te...   \n",
       "9           9         10 Biggest Price Target Changes For Friday   \n",
       "\n",
       "                                                 url                publisher  \\\n",
       "0  https://www.benzinga.com/news/20/06/16190091/s...        Benzinga Insights   \n",
       "1  https://www.benzinga.com/news/20/06/16170189/s...        Benzinga Insights   \n",
       "2  https://www.benzinga.com/news/20/05/16103463/7...               Lisa Levin   \n",
       "3  https://www.benzinga.com/news/20/05/16095921/4...               Lisa Levin   \n",
       "4  https://www.benzinga.com/news/20/05/16095304/b...               Vick Meyer   \n",
       "5  https://www.benzinga.com/news/20/05/16095163/c...  vishwanath@benzinga.com   \n",
       "6  https://www.benzinga.com/news/20/05/16094027/u...  vishwanath@benzinga.com   \n",
       "7  https://www.benzinga.com/wiim/20/05/16093805/a...        Benzinga Newsdesk   \n",
       "8  https://www.benzinga.com/news/20/05/16093505/w...  vishwanath@benzinga.com   \n",
       "9  https://www.benzinga.com/analyst-ratings/price...               Lisa Levin   \n",
       "\n",
       "         date stock     Open     High      Low    Close  Adj Close  \\\n",
       "0  2020-06-05     A  8.79450  8.99700  8.70800  8.92000   8.893502   \n",
       "1  2020-06-03     A  8.82225  8.86625  8.70000  8.76950   8.739462   \n",
       "2  2020-05-26     A  9.15675  9.18175  8.67200  8.71775   8.687888   \n",
       "3  2020-05-22     A  8.82525  9.09300  8.71325  9.02625   8.995332   \n",
       "4  2020-05-22     A  8.82525  9.09300  8.71325  9.02625   8.995332   \n",
       "5  2020-05-22     A  8.82525  9.09300  8.71325  9.02625   8.995332   \n",
       "6  2020-05-22     A  8.82525  9.09300  8.71325  9.02625   8.995332   \n",
       "7  2020-05-22     A  8.82525  9.09300  8.71325  9.02625   8.995332   \n",
       "8  2020-05-22     A  8.82525  9.09300  8.71325  9.02625   8.995332   \n",
       "9  2020-05-22     A  8.82525  9.09300  8.71325  9.02625   8.995332   \n",
       "\n",
       "       Volume  Dividends  Stock Splits  sentiment  \n",
       "0   481748000        0.0           0.0       0.00  \n",
       "1   365440000        0.0           0.0       0.00  \n",
       "2   770780000        0.0           0.0       0.00  \n",
       "3  1038764000        0.0           0.0       0.00  \n",
       "4  1038764000        0.0           0.0       0.00  \n",
       "5  1038764000        0.0           0.0       0.00  \n",
       "6  1038764000        0.0           0.0       0.00  \n",
       "7  1038764000        0.0           0.0       0.25  \n",
       "8  1038764000        0.0           0.0       0.00  \n",
       "9  1038764000        0.0           0.0       0.00  "
      ]
     },
     "execution_count": 21,
     "metadata": {},
     "output_type": "execute_result"
    }
   ],
   "source": [
    "# Perform sentiment analysis on the 'headline' column of the aligned data\n",
    "analyze_sentiment(aligned_data, 'headline')  \n",
    "aligned_data.head(10)"
   ]
  },
  {
   "cell_type": "code",
   "execution_count": 22,
   "id": "10223c47",
   "metadata": {},
   "outputs": [
    {
     "data": {
      "image/png": "[encoded data removed]",
      "text/plain": [
       "<Figure size 1400x800 with 1 Axes>"
      ]
     },
     "metadata": {},
     "output_type": "display_data"
    }
   ],
   "source": [
    "# Perform sentiment distribution plot\n",
    "sentiment_distribution_plot(aligned_data)"
   ]
  },
  {
   "cell_type": "code",
   "execution_count": 23,
   "id": "c5294b15",
   "metadata": {},
   "outputs": [
    {
     "name": "stdout",
     "output_type": "stream",
     "text": [
      "          date    Close  daily_return\n",
      "7   2020-05-22  9.02625      0.000000\n",
      "8   2020-05-22  9.02625      0.000000\n",
      "10  2020-06-09  9.04600      0.002188\n",
      "11  2020-06-08  8.80500     -0.026642\n",
      "12  2020-06-08  8.80500      0.000000\n"
     ]
    }
   ],
   "source": [
    "# Calculate daily returns for the stock data\n",
    "daily_returns(aligned_data)\n",
    "# Drop rows with NaN values in the 'headline' or 'date' columns\n",
    "aligned_data = aligned_data.dropna()\n",
    "# Display the first few rows of the aligned data with daily returns\n",
    "print(aligned_data[['date', 'Close', 'daily_return']].head())\n",
    "\n"
   ]
  },
  {
   "cell_type": "markdown",
   "id": "6a14dc97",
   "metadata": {},
   "source": [
    "3. Calculate Daily Stock Returns: Compute the percentage change in daily closing prices to represent stock movements"
   ]
  },
  {
   "cell_type": "code",
   "execution_count": 24,
   "id": "c8e34b86",
   "metadata": {},
   "outputs": [
    {
     "data": {
      "image/png": "[encoded data removed]",
      "text/plain": [
       "<Figure size 1400x800 with 1 Axes>"
      ]
     },
     "metadata": {},
     "output_type": "display_data"
    }
   ],
   "source": [
    "# Plot daily returns\n",
    "plot_daily_returns(aligned_data)"
   ]
  },
  {
   "cell_type": "code",
   "execution_count": 25,
   "id": "c5648704",
   "metadata": {},
   "outputs": [
    {
     "data": {
      "application/vnd.microsoft.datawrangler.viewer.v0+json": {
       "columns": [
        {
         "name": "index",
         "rawType": "int64",
         "type": "integer"
        },
        {
         "name": "date",
         "rawType": "object",
         "type": "unknown"
        },
        {
         "name": "sentiment",
         "rawType": "float64",
         "type": "float"
        },
        {
         "name": "daily_return",
         "rawType": "float64",
         "type": "float"
        }
       ],
       "ref": "dac8cfd5-b986-4b10-a984-86ecb6948d7a",
       "rows": [
        [
         "0",
         "2011-04-28",
         "0.06818181818181818",
         "0.00983433426148328"
        ],
        [
         "1",
         "2011-04-28",
         "0.06818181818181818",
         "0.09730032527776666"
        ],
        [
         "2",
         "2011-04-29",
         "0.16666666666666669",
         "0.49142435370295123"
        ],
        [
         "3",
         "2011-04-29",
         "0.16666666666666669",
         "-0.9223119934623817"
        ],
        [
         "4",
         "2011-05-02",
         "-0.020833333333333332",
         "0.4969651828365751"
        ],
        [
         "5",
         "2011-05-02",
         "-0.020833333333333332",
         "0.33310812443516546"
        ],
        [
         "6",
         "2011-05-02",
         "-0.020833333333333332",
         "0.560917688912999"
        ],
        [
         "7",
         "2011-05-02",
         "-0.020833333333333332",
         "0.4913077232484613"
        ],
        [
         "8",
         "2011-05-05",
         "0.0",
         "0.38839291772634166"
        ],
        [
         "9",
         "2011-05-06",
         "0.25",
         "0.37606836228007645"
        ],
        [
         "10",
         "2011-05-06",
         "0.25",
         "0.32601236667500677"
        ],
        [
         "11",
         "2011-05-09",
         "0.06818181818181818",
         "0.3335584706695234"
        ],
        [
         "12",
         "2011-05-09",
         "0.06818181818181818",
         "0.4321973151542764"
        ],
        [
         "13",
         "2011-05-11",
         "-0.0875",
         "0.08817087378843613"
        ],
        [
         "14",
         "2011-05-12",
         "0.5",
         "0.11655772911233764"
        ],
        [
         "15",
         "2011-05-13",
         "-0.10370370370370373",
         "0.46314097558473444"
        ],
        [
         "16",
         "2011-05-13",
         "-0.10370370370370373",
         "0.4797406995015814"
        ],
        [
         "17",
         "2011-05-13",
         "-0.10370370370370373",
         "-0.06358977920361597"
        ],
        [
         "18",
         "2011-05-16",
         "0.0",
         "-0.11676645388640738"
        ],
        [
         "19",
         "2011-05-16",
         "0.0",
         "0.14489002364754522"
        ],
        [
         "20",
         "2011-05-17",
         "0.0",
         "-0.09589745213686007"
        ],
        [
         "21",
         "2011-05-17",
         "0.0",
         "-0.023809514379901198"
        ],
        [
         "22",
         "2011-05-18",
         "0.175",
         "0.537936959728093"
        ],
        [
         "23",
         "2011-05-18",
         "0.175",
         "-0.0011074054579901516"
        ],
        [
         "24",
         "2011-05-19",
         "0.0",
         "0.26638172477496713"
        ],
        [
         "25",
         "2011-05-23",
         "-0.13333333333333333",
         "0.3804431015615781"
        ],
        [
         "26",
         "2011-05-24",
         "0.10000000000000005",
         "0.1576260204585045"
        ],
        [
         "27",
         "2011-05-24",
         "0.10000000000000005",
         "0.3943120767257009"
        ],
        [
         "28",
         "2011-05-24",
         "0.10000000000000005",
         "0.058343071540736036"
        ],
        [
         "29",
         "2011-05-25",
         "0.29375",
         "0.040816272743276594"
        ],
        [
         "30",
         "2011-05-25",
         "0.29375",
         "0.2558139193559763"
        ],
        [
         "31",
         "2011-05-25",
         "0.29375",
         "0.5123558367873586"
        ],
        [
         "32",
         "2011-05-25",
         "0.29375",
         "0.044963003732193974"
        ],
        [
         "33",
         "2011-05-25",
         "0.29375",
         "0.18988981600358845"
        ],
        [
         "34",
         "2011-05-25",
         "0.29375",
         "-0.11645817853718854"
        ],
        [
         "35",
         "2011-05-25",
         "0.29375",
         "-0.11645817853718854"
        ],
        [
         "36",
         "2011-05-25",
         "0.29375",
         "-0.11645817853718854"
        ],
        [
         "37",
         "2011-05-27",
         "-0.25277777777777777",
         "0.07973424909302573"
        ],
        [
         "38",
         "2011-05-27",
         "-0.25277777777777777",
         "0.10984637538619202"
        ],
        [
         "39",
         "2011-05-31",
         "0.14583333333333334",
         "0.19499099212834858"
        ],
        [
         "40",
         "2011-05-31",
         "0.14583333333333334",
         "0.4102744145825594"
        ],
        [
         "41",
         "2011-05-31",
         "0.14583333333333334",
         "0.31151829335986325"
        ],
        [
         "42",
         "2011-05-31",
         "0.14583333333333334",
         "0.4273503460720287"
        ],
        [
         "43",
         "2011-05-31",
         "0.14583333333333334",
         "0.0"
        ],
        [
         "44",
         "2011-05-31",
         "0.14583333333333334",
         "0.4273503460720287"
        ],
        [
         "45",
         "2011-06-01",
         "0.0",
         "-0.9082322480641423"
        ],
        [
         "46",
         "2011-06-01",
         "0.0",
         "-0.9261232065600776"
        ],
        [
         "47",
         "2011-06-02",
         "0.0",
         "0.26999998092651367"
        ],
        [
         "48",
         "2011-06-03",
         "0.0",
         "0.1728081035657587"
        ],
        [
         "49",
         "2011-06-06",
         "0.1558080808080808",
         "0.1911668350160678"
        ]
       ],
       "shape": {
        "columns": 3,
        "rows": 27989
       }
      },
      "text/html": [
       "<div>\n",
       "<style scoped>\n",
       "    .dataframe tbody tr th:only-of-type {\n",
       "        vertical-align: middle;\n",
       "    }\n",
       "\n",
       "    .dataframe tbody tr th {\n",
       "        vertical-align: top;\n",
       "    }\n",
       "\n",
       "    .dataframe thead th {\n",
       "        text-align: right;\n",
       "    }\n",
       "</style>\n",
       "<table border=\"1\" class=\"dataframe\">\n",
       "  <thead>\n",
       "    <tr style=\"text-align: right;\">\n",
       "      <th></th>\n",
       "      <th>date</th>\n",
       "      <th>sentiment</th>\n",
       "      <th>daily_return</th>\n",
       "    </tr>\n",
       "  </thead>\n",
       "  <tbody>\n",
       "    <tr>\n",
       "      <th>0</th>\n",
       "      <td>2011-04-28</td>\n",
       "      <td>0.068182</td>\n",
       "      <td>0.009834</td>\n",
       "    </tr>\n",
       "    <tr>\n",
       "      <th>1</th>\n",
       "      <td>2011-04-28</td>\n",
       "      <td>0.068182</td>\n",
       "      <td>0.097300</td>\n",
       "    </tr>\n",
       "    <tr>\n",
       "      <th>2</th>\n",
       "      <td>2011-04-29</td>\n",
       "      <td>0.166667</td>\n",
       "      <td>0.491424</td>\n",
       "    </tr>\n",
       "    <tr>\n",
       "      <th>3</th>\n",
       "      <td>2011-04-29</td>\n",
       "      <td>0.166667</td>\n",
       "      <td>-0.922312</td>\n",
       "    </tr>\n",
       "    <tr>\n",
       "      <th>4</th>\n",
       "      <td>2011-05-02</td>\n",
       "      <td>-0.020833</td>\n",
       "      <td>0.496965</td>\n",
       "    </tr>\n",
       "    <tr>\n",
       "      <th>...</th>\n",
       "      <td>...</td>\n",
       "      <td>...</td>\n",
       "      <td>...</td>\n",
       "    </tr>\n",
       "    <tr>\n",
       "      <th>27984</th>\n",
       "      <td>2020-06-11</td>\n",
       "      <td>0.012137</td>\n",
       "      <td>0.405152</td>\n",
       "    </tr>\n",
       "    <tr>\n",
       "      <th>27985</th>\n",
       "      <td>2020-06-11</td>\n",
       "      <td>0.012137</td>\n",
       "      <td>0.000000</td>\n",
       "    </tr>\n",
       "    <tr>\n",
       "      <th>27986</th>\n",
       "      <td>2020-06-11</td>\n",
       "      <td>0.012137</td>\n",
       "      <td>1.022127</td>\n",
       "    </tr>\n",
       "    <tr>\n",
       "      <th>27987</th>\n",
       "      <td>2020-06-11</td>\n",
       "      <td>0.012137</td>\n",
       "      <td>0.000000</td>\n",
       "    </tr>\n",
       "    <tr>\n",
       "      <th>27988</th>\n",
       "      <td>2020-06-11</td>\n",
       "      <td>0.012137</td>\n",
       "      <td>0.449553</td>\n",
       "    </tr>\n",
       "  </tbody>\n",
       "</table>\n",
       "<p>27989 rows × 3 columns</p>\n",
       "</div>"
      ],
      "text/plain": [
       "             date  sentiment  daily_return\n",
       "0      2011-04-28   0.068182      0.009834\n",
       "1      2011-04-28   0.068182      0.097300\n",
       "2      2011-04-29   0.166667      0.491424\n",
       "3      2011-04-29   0.166667     -0.922312\n",
       "4      2011-05-02  -0.020833      0.496965\n",
       "...           ...        ...           ...\n",
       "27984  2020-06-11   0.012137      0.405152\n",
       "27985  2020-06-11   0.012137      0.000000\n",
       "27986  2020-06-11   0.012137      1.022127\n",
       "27987  2020-06-11   0.012137      0.000000\n",
       "27988  2020-06-11   0.012137      0.449553\n",
       "\n",
       "[27989 rows x 3 columns]"
      ]
     },
     "execution_count": 25,
     "metadata": {},
     "output_type": "execute_result"
    }
   ],
   "source": [
    "daily_sentiment_and_merge(aligned_data )"
   ]
  },
  {
   "cell_type": "code",
   "execution_count": 26,
   "id": "dd10b8d0",
   "metadata": {},
   "outputs": [
    {
     "data": {
      "application/vnd.microsoft.datawrangler.viewer.v0+json": {
       "columns": [
        {
         "name": "index",
         "rawType": "int64",
         "type": "integer"
        },
        {
         "name": "date",
         "rawType": "object",
         "type": "unknown"
        },
        {
         "name": "sentiment",
         "rawType": "float64",
         "type": "float"
        },
        {
         "name": "daily_return",
         "rawType": "float64",
         "type": "float"
        }
       ],
       "ref": "58567d7a-e98a-4af8-95e8-397a3b774ebb",
       "rows": [
        [
         "0",
         "2011-04-28",
         "0.06818181818181818",
         "0.00983433426148328"
        ],
        [
         "1",
         "2011-04-28",
         "0.06818181818181818",
         "0.09730032527776666"
        ],
        [
         "2",
         "2011-04-29",
         "0.16666666666666669",
         "0.49142435370295123"
        ],
        [
         "3",
         "2011-04-29",
         "0.16666666666666669",
         "-0.9223119934623817"
        ],
        [
         "4",
         "2011-05-02",
         "-0.020833333333333332",
         "0.4969651828365751"
        ],
        [
         "5",
         "2011-05-02",
         "-0.020833333333333332",
         "0.33310812443516546"
        ],
        [
         "6",
         "2011-05-02",
         "-0.020833333333333332",
         "0.560917688912999"
        ],
        [
         "7",
         "2011-05-02",
         "-0.020833333333333332",
         "0.4913077232484613"
        ],
        [
         "8",
         "2011-05-05",
         "0.0",
         "0.38839291772634166"
        ],
        [
         "9",
         "2011-05-06",
         "0.25",
         "0.37606836228007645"
        ]
       ],
       "shape": {
        "columns": 3,
        "rows": 10
       }
      },
      "text/html": [
       "<div>\n",
       "<style scoped>\n",
       "    .dataframe tbody tr th:only-of-type {\n",
       "        vertical-align: middle;\n",
       "    }\n",
       "\n",
       "    .dataframe tbody tr th {\n",
       "        vertical-align: top;\n",
       "    }\n",
       "\n",
       "    .dataframe thead th {\n",
       "        text-align: right;\n",
       "    }\n",
       "</style>\n",
       "<table border=\"1\" class=\"dataframe\">\n",
       "  <thead>\n",
       "    <tr style=\"text-align: right;\">\n",
       "      <th></th>\n",
       "      <th>date</th>\n",
       "      <th>sentiment</th>\n",
       "      <th>daily_return</th>\n",
       "    </tr>\n",
       "  </thead>\n",
       "  <tbody>\n",
       "    <tr>\n",
       "      <th>0</th>\n",
       "      <td>2011-04-28</td>\n",
       "      <td>0.068182</td>\n",
       "      <td>0.009834</td>\n",
       "    </tr>\n",
       "    <tr>\n",
       "      <th>1</th>\n",
       "      <td>2011-04-28</td>\n",
       "      <td>0.068182</td>\n",
       "      <td>0.097300</td>\n",
       "    </tr>\n",
       "    <tr>\n",
       "      <th>2</th>\n",
       "      <td>2011-04-29</td>\n",
       "      <td>0.166667</td>\n",
       "      <td>0.491424</td>\n",
       "    </tr>\n",
       "    <tr>\n",
       "      <th>3</th>\n",
       "      <td>2011-04-29</td>\n",
       "      <td>0.166667</td>\n",
       "      <td>-0.922312</td>\n",
       "    </tr>\n",
       "    <tr>\n",
       "      <th>4</th>\n",
       "      <td>2011-05-02</td>\n",
       "      <td>-0.020833</td>\n",
       "      <td>0.496965</td>\n",
       "    </tr>\n",
       "    <tr>\n",
       "      <th>5</th>\n",
       "      <td>2011-05-02</td>\n",
       "      <td>-0.020833</td>\n",
       "      <td>0.333108</td>\n",
       "    </tr>\n",
       "    <tr>\n",
       "      <th>6</th>\n",
       "      <td>2011-05-02</td>\n",
       "      <td>-0.020833</td>\n",
       "      <td>0.560918</td>\n",
       "    </tr>\n",
       "    <tr>\n",
       "      <th>7</th>\n",
       "      <td>2011-05-02</td>\n",
       "      <td>-0.020833</td>\n",
       "      <td>0.491308</td>\n",
       "    </tr>\n",
       "    <tr>\n",
       "      <th>8</th>\n",
       "      <td>2011-05-05</td>\n",
       "      <td>0.000000</td>\n",
       "      <td>0.388393</td>\n",
       "    </tr>\n",
       "    <tr>\n",
       "      <th>9</th>\n",
       "      <td>2011-05-06</td>\n",
       "      <td>0.250000</td>\n",
       "      <td>0.376068</td>\n",
       "    </tr>\n",
       "  </tbody>\n",
       "</table>\n",
       "</div>"
      ],
      "text/plain": [
       "         date  sentiment  daily_return\n",
       "0  2011-04-28   0.068182      0.009834\n",
       "1  2011-04-28   0.068182      0.097300\n",
       "2  2011-04-29   0.166667      0.491424\n",
       "3  2011-04-29   0.166667     -0.922312\n",
       "4  2011-05-02  -0.020833      0.496965\n",
       "5  2011-05-02  -0.020833      0.333108\n",
       "6  2011-05-02  -0.020833      0.560918\n",
       "7  2011-05-02  -0.020833      0.491308\n",
       "8  2011-05-05   0.000000      0.388393\n",
       "9  2011-05-06   0.250000      0.376068"
      ]
     },
     "execution_count": 26,
     "metadata": {},
     "output_type": "execute_result"
    }
   ],
   "source": [
    "# Calculate daily sentiment and merge with stock data\n",
    "merged_data = daily_sentiment_and_merge(aligned_data )\n",
    "merged_data.head(10)    "
   ]
  },
  {
   "cell_type": "markdown",
   "id": "3879d3f5",
   "metadata": {},
   "source": [
    "4. Correlation Analysis: Use statistical methods to test the correlation between daily news sentiment scores and stock returns."
   ]
  },
  {
   "cell_type": "code",
   "execution_count": 27,
   "id": "d995cdb7",
   "metadata": {},
   "outputs": [
    {
     "name": "stdout",
     "output_type": "stream",
     "text": [
      "Correlation between daily sentiment scores and stock returns: -0.03306960045021108\n"
     ]
    }
   ],
   "source": [
    "# Calculate the correlation between daily sentiment scores and stock returns\n",
    "correlation = merged_data['sentiment'].corr( merged_data['daily_return'])\n",
    "print(\"Correlation between daily sentiment scores and stock returns:\", correlation)"
   ]
  },
  {
   "cell_type": "code",
   "execution_count": 28,
   "id": "e7037d47",
   "metadata": {},
   "outputs": [
    {
     "data": {
      "image/png": "[encoded data removed]",
      "text/plain": [
       "<Figure size 1400x800 with 1 Axes>"
      ]
     },
     "metadata": {},
     "output_type": "display_data"
    }
   ],
   "source": [
    "# Function to plot sentiment and daily return correlation\n",
    "plot_sentiment_and_daily_return_correlation(merged_data)"
   ]
  },
  {
   "cell_type": "code",
   "execution_count": 29,
   "id": "6dfcb4e7",
   "metadata": {},
   "outputs": [],
   "source": [
    "# Calculate the correlation matrix between sentiment and daily returns\n",
    "correlation_matrix = merged_data[['sentiment', 'daily_return']].corr()"
   ]
  },
  {
   "cell_type": "code",
   "execution_count": 30,
   "id": "a899a2f9",
   "metadata": {},
   "outputs": [
    {
     "data": {
      "image/png": "[encoded data removed]",
      "text/plain": [
       "<Figure size 1000x800 with 2 Axes>"
      ]
     },
     "metadata": {},
     "output_type": "display_data"
    }
   ],
   "source": [
    "# Function to plot the correlation heatmap\n",
    "\n",
    "correlation_heatmap(correlation_matrix)"
   ]
  }
 ],
 "metadata": {
  "kernelspec": {
   "display_name": ".venv311",
   "language": "python",
   "name": "python3"
  },
  "language_info": {
   "codemirror_mode": {
    "name": "ipython",
    "version": 3
   },
   "file_extension": ".py",
   "mimetype": "text/x-python",
   "name": "python",
   "nbconvert_exporter": "python",
   "pygments_lexer": "ipython3",
   "version": "3.11.0"
  }
 },
 "nbformat": 4,
 "nbformat_minor": 5
}
