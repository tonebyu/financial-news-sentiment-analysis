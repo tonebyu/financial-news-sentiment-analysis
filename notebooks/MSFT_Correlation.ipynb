{
 "cells": [
  {
   "cell_type": "markdown",
   "id": "8e46a3d1",
   "metadata": {},
   "source": [
    "### MSFT Correlation\n",
    "Perform CA For MSFT"
   ]
  },
  {
   "cell_type": "code",
   "execution_count": 16,
   "id": "8f4d2d01",
   "metadata": {},
   "outputs": [
    {
     "name": "stdout",
     "output_type": "stream",
     "text": [
      "The autoreload extension is already loaded. To reload it, use:\n",
      "  %reload_ext autoreload\n"
     ]
    }
   ],
   "source": [
    "# Enables automatic reloading of modules when they change and allows importing from the parent directory.\n",
    "'''\n",
    "Allow importing custom modules from the parent directory.\n",
    "Ensure that any changes to those modules (e.g., editing a .py file in the parent directory) \n",
    "are automatically reloaded when you run cells, making development and testing more efficient.\n",
    "'''\n",
    "\n",
    "%load_ext autoreload\n",
    "%autoreload 2\n",
    "import sys\n",
    "import os\n",
    "sys.path.append(os.path.abspath(\"..\"))"
   ]
  },
  {
   "cell_type": "code",
   "execution_count": 17,
   "id": "561d3766",
   "metadata": {},
   "outputs": [],
   "source": [
    "from scripts.correlation_analysis import ( load_data, analyze_sentiment, sentiment_distribution_plot\n",
    "                                          , daily_returns,plot_daily_returns, daily_sentiment_and_merge\n",
    "                                          ,plot_sentiment_and_daily_return_correlation, correlation_heatmap)"
   ]
  },
  {
   "cell_type": "code",
   "execution_count": 18,
   "id": "9cedbba9",
   "metadata": {},
   "outputs": [],
   "source": [
    "# Load the news and stock data\n",
    "# Ensure the paths are correct relative to the current working directory\n",
    "news_data = '../Data/raw_analyst_ratings.csv'\n",
    "stock_data = '../Data/MSFT_historical_data.csv'\n"
   ]
  },
  {
   "cell_type": "markdown",
   "id": "1d339af8",
   "metadata": {},
   "source": [
    "1. Date Alignment: Ensure that both datasets (news and stock prices) are aligned by dates. This might involve normalizing timestamps."
   ]
  },
  {
   "cell_type": "code",
   "execution_count": 19,
   "id": "a818b0f7",
   "metadata": {},
   "outputs": [],
   "source": [
    "#Align the news and stock data\n",
    "aligned_data = load_data(news_data, stock_data)"
   ]
  },
  {
   "cell_type": "code",
   "execution_count": 20,
   "id": "385cb3b9",
   "metadata": {},
   "outputs": [
    {
     "data": {
      "application/vnd.microsoft.datawrangler.viewer.v0+json": {
       "columns": [
        {
         "name": "index",
         "rawType": "int64",
         "type": "integer"
        },
        {
         "name": "Unnamed: 0",
         "rawType": "int64",
         "type": "integer"
        },
        {
         "name": "headline",
         "rawType": "object",
         "type": "string"
        },
        {
         "name": "url",
         "rawType": "object",
         "type": "string"
        },
        {
         "name": "publisher",
         "rawType": "object",
         "type": "string"
        },
        {
         "name": "date",
         "rawType": "object",
         "type": "unknown"
        },
        {
         "name": "stock",
         "rawType": "object",
         "type": "string"
        },
        {
         "name": "Open",
         "rawType": "float64",
         "type": "float"
        },
        {
         "name": "High",
         "rawType": "float64",
         "type": "float"
        },
        {
         "name": "Low",
         "rawType": "float64",
         "type": "float"
        },
        {
         "name": "Close",
         "rawType": "float64",
         "type": "float"
        },
        {
         "name": "Adj Close",
         "rawType": "float64",
         "type": "float"
        },
        {
         "name": "Volume",
         "rawType": "int64",
         "type": "integer"
        },
        {
         "name": "Dividends",
         "rawType": "float64",
         "type": "float"
        },
        {
         "name": "Stock Splits",
         "rawType": "float64",
         "type": "float"
        }
       ],
       "ref": "3ea3218e-4961-4f53-bbc2-200c6c98c07b",
       "rows": [
        [
         "0",
         "0",
         "Stocks That Hit 52-Week Highs On Friday",
         "https://www.benzinga.com/news/20/06/16190091/stocks-that-hit-52-week-highs-on-friday",
         "Benzinga Insights",
         "2020-06-05",
         "A",
         "182.6199951171875",
         "187.72999572753903",
         "182.00999450683597",
         "187.1999969482422",
         "180.403564453125",
         "39893600",
         "0.0",
         "0.0"
        ],
        [
         "1",
         "1",
         "Stocks That Hit 52-Week Highs On Wednesday",
         "https://www.benzinga.com/news/20/06/16170189/stocks-that-hit-52-week-highs-on-wednesday",
         "Benzinga Insights",
         "2020-06-03",
         "A",
         "184.82000732421875",
         "185.94000244140625",
         "183.5800018310547",
         "185.3600006103516",
         "178.6304168701172",
         "27311000",
         "0.0",
         "0.0"
        ],
        [
         "2",
         "2",
         "71 Biggest Movers From Friday",
         "https://www.benzinga.com/news/20/05/16103463/71-biggest-movers-from-friday",
         "Lisa Levin",
         "2020-05-26",
         "A",
         "186.33999633789065",
         "186.5",
         "181.1000061035156",
         "181.57000732421875",
         "174.97796630859375",
         "36073600",
         "0.0",
         "0.0"
        ],
        [
         "3",
         "3",
         "46 Stocks Moving In Friday's Mid-Day Session",
         "https://www.benzinga.com/news/20/05/16095921/46-stocks-moving-in-fridays-mid-day-session",
         "Lisa Levin",
         "2020-05-22",
         "A",
         "183.19000244140625",
         "184.4600067138672",
         "182.5399932861328",
         "183.50999450683597",
         "176.84751892089844",
         "20826900",
         "0.0",
         "0.0"
        ],
        [
         "4",
         "4",
         "B of A Securities Maintains Neutral on Agilent Technologies, Raises Price Target to $88",
         "https://www.benzinga.com/news/20/05/16095304/b-of-a-securities-maintains-neutral-on-agilent-technologies-raises-price-target-to-88",
         "Vick Meyer",
         "2020-05-22",
         "A",
         "183.19000244140625",
         "184.4600067138672",
         "182.5399932861328",
         "183.50999450683597",
         "176.84751892089844",
         "20826900",
         "0.0",
         "0.0"
        ],
        [
         "5",
         "5",
         "CFRA Maintains Hold on Agilent Technologies, Lowers Price Target to $85",
         "https://www.benzinga.com/news/20/05/16095163/cfra-maintains-hold-on-agilent-technologies-lowers-price-target-to-85",
         "vishwanath@benzinga.com",
         "2020-05-22",
         "A",
         "183.19000244140625",
         "184.4600067138672",
         "182.5399932861328",
         "183.50999450683597",
         "176.84751892089844",
         "20826900",
         "0.0",
         "0.0"
        ],
        [
         "6",
         "6",
         "UBS Maintains Neutral on Agilent Technologies, Raises Price Target to $87",
         "https://www.benzinga.com/news/20/05/16094027/ubs-maintains-neutral-on-agilent-technologies-raises-price-target-to-87",
         "vishwanath@benzinga.com",
         "2020-05-22",
         "A",
         "183.19000244140625",
         "184.4600067138672",
         "182.5399932861328",
         "183.50999450683597",
         "176.84751892089844",
         "20826900",
         "0.0",
         "0.0"
        ],
        [
         "7",
         "7",
         "Agilent Technologies shares are trading higher after the company reported better-than-expected Q2 EPS and sales results.",
         "https://www.benzinga.com/wiim/20/05/16093805/agilent-technologies-shares-are-trading-higher-after-the-company-reported-better-than-expected-q2-ep",
         "Benzinga Newsdesk",
         "2020-05-22",
         "A",
         "183.19000244140625",
         "184.4600067138672",
         "182.5399932861328",
         "183.50999450683597",
         "176.84751892089844",
         "20826900",
         "0.0",
         "0.0"
        ],
        [
         "8",
         "8",
         "Wells Fargo Maintains Overweight on Agilent Technologies, Raises Price Target to $95",
         "https://www.benzinga.com/news/20/05/16093505/wells-fargo-maintains-overweight-on-agilent-technologies-raises-price-target-to-95",
         "vishwanath@benzinga.com",
         "2020-05-22",
         "A",
         "183.19000244140625",
         "184.4600067138672",
         "182.5399932861328",
         "183.50999450683597",
         "176.84751892089844",
         "20826900",
         "0.0",
         "0.0"
        ],
        [
         "9",
         "9",
         "10 Biggest Price Target Changes For Friday",
         "https://www.benzinga.com/analyst-ratings/price-target/20/05/16093262/10-biggest-price-target-changes-for-friday",
         "Lisa Levin",
         "2020-05-22",
         "A",
         "183.19000244140625",
         "184.4600067138672",
         "182.5399932861328",
         "183.50999450683597",
         "176.84751892089844",
         "20826900",
         "0.0",
         "0.0"
        ]
       ],
       "shape": {
        "columns": 14,
        "rows": 10
       }
      },
      "text/html": [
       "<div>\n",
       "<style scoped>\n",
       "    .dataframe tbody tr th:only-of-type {\n",
       "        vertical-align: middle;\n",
       "    }\n",
       "\n",
       "    .dataframe tbody tr th {\n",
       "        vertical-align: top;\n",
       "    }\n",
       "\n",
       "    .dataframe thead th {\n",
       "        text-align: right;\n",
       "    }\n",
       "</style>\n",
       "<table border=\"1\" class=\"dataframe\">\n",
       "  <thead>\n",
       "    <tr style=\"text-align: right;\">\n",
       "      <th></th>\n",
       "      <th>Unnamed: 0</th>\n",
       "      <th>headline</th>\n",
       "      <th>url</th>\n",
       "      <th>publisher</th>\n",
       "      <th>date</th>\n",
       "      <th>stock</th>\n",
       "      <th>Open</th>\n",
       "      <th>High</th>\n",
       "      <th>Low</th>\n",
       "      <th>Close</th>\n",
       "      <th>Adj Close</th>\n",
       "      <th>Volume</th>\n",
       "      <th>Dividends</th>\n",
       "      <th>Stock Splits</th>\n",
       "    </tr>\n",
       "  </thead>\n",
       "  <tbody>\n",
       "    <tr>\n",
       "      <th>0</th>\n",
       "      <td>0</td>\n",
       "      <td>Stocks That Hit 52-Week Highs On Friday</td>\n",
       "      <td>https://www.benzinga.com/news/20/06/16190091/s...</td>\n",
       "      <td>Benzinga Insights</td>\n",
       "      <td>2020-06-05</td>\n",
       "      <td>A</td>\n",
       "      <td>182.619995</td>\n",
       "      <td>187.729996</td>\n",
       "      <td>182.009995</td>\n",
       "      <td>187.199997</td>\n",
       "      <td>180.403564</td>\n",
       "      <td>39893600</td>\n",
       "      <td>0.0</td>\n",
       "      <td>0.0</td>\n",
       "    </tr>\n",
       "    <tr>\n",
       "      <th>1</th>\n",
       "      <td>1</td>\n",
       "      <td>Stocks That Hit 52-Week Highs On Wednesday</td>\n",
       "      <td>https://www.benzinga.com/news/20/06/16170189/s...</td>\n",
       "      <td>Benzinga Insights</td>\n",
       "      <td>2020-06-03</td>\n",
       "      <td>A</td>\n",
       "      <td>184.820007</td>\n",
       "      <td>185.940002</td>\n",
       "      <td>183.580002</td>\n",
       "      <td>185.360001</td>\n",
       "      <td>178.630417</td>\n",
       "      <td>27311000</td>\n",
       "      <td>0.0</td>\n",
       "      <td>0.0</td>\n",
       "    </tr>\n",
       "    <tr>\n",
       "      <th>2</th>\n",
       "      <td>2</td>\n",
       "      <td>71 Biggest Movers From Friday</td>\n",
       "      <td>https://www.benzinga.com/news/20/05/16103463/7...</td>\n",
       "      <td>Lisa Levin</td>\n",
       "      <td>2020-05-26</td>\n",
       "      <td>A</td>\n",
       "      <td>186.339996</td>\n",
       "      <td>186.500000</td>\n",
       "      <td>181.100006</td>\n",
       "      <td>181.570007</td>\n",
       "      <td>174.977966</td>\n",
       "      <td>36073600</td>\n",
       "      <td>0.0</td>\n",
       "      <td>0.0</td>\n",
       "    </tr>\n",
       "    <tr>\n",
       "      <th>3</th>\n",
       "      <td>3</td>\n",
       "      <td>46 Stocks Moving In Friday's Mid-Day Session</td>\n",
       "      <td>https://www.benzinga.com/news/20/05/16095921/4...</td>\n",
       "      <td>Lisa Levin</td>\n",
       "      <td>2020-05-22</td>\n",
       "      <td>A</td>\n",
       "      <td>183.190002</td>\n",
       "      <td>184.460007</td>\n",
       "      <td>182.539993</td>\n",
       "      <td>183.509995</td>\n",
       "      <td>176.847519</td>\n",
       "      <td>20826900</td>\n",
       "      <td>0.0</td>\n",
       "      <td>0.0</td>\n",
       "    </tr>\n",
       "    <tr>\n",
       "      <th>4</th>\n",
       "      <td>4</td>\n",
       "      <td>B of A Securities Maintains Neutral on Agilent...</td>\n",
       "      <td>https://www.benzinga.com/news/20/05/16095304/b...</td>\n",
       "      <td>Vick Meyer</td>\n",
       "      <td>2020-05-22</td>\n",
       "      <td>A</td>\n",
       "      <td>183.190002</td>\n",
       "      <td>184.460007</td>\n",
       "      <td>182.539993</td>\n",
       "      <td>183.509995</td>\n",
       "      <td>176.847519</td>\n",
       "      <td>20826900</td>\n",
       "      <td>0.0</td>\n",
       "      <td>0.0</td>\n",
       "    </tr>\n",
       "    <tr>\n",
       "      <th>5</th>\n",
       "      <td>5</td>\n",
       "      <td>CFRA Maintains Hold on Agilent Technologies, L...</td>\n",
       "      <td>https://www.benzinga.com/news/20/05/16095163/c...</td>\n",
       "      <td>vishwanath@benzinga.com</td>\n",
       "      <td>2020-05-22</td>\n",
       "      <td>A</td>\n",
       "      <td>183.190002</td>\n",
       "      <td>184.460007</td>\n",
       "      <td>182.539993</td>\n",
       "      <td>183.509995</td>\n",
       "      <td>176.847519</td>\n",
       "      <td>20826900</td>\n",
       "      <td>0.0</td>\n",
       "      <td>0.0</td>\n",
       "    </tr>\n",
       "    <tr>\n",
       "      <th>6</th>\n",
       "      <td>6</td>\n",
       "      <td>UBS Maintains Neutral on Agilent Technologies,...</td>\n",
       "      <td>https://www.benzinga.com/news/20/05/16094027/u...</td>\n",
       "      <td>vishwanath@benzinga.com</td>\n",
       "      <td>2020-05-22</td>\n",
       "      <td>A</td>\n",
       "      <td>183.190002</td>\n",
       "      <td>184.460007</td>\n",
       "      <td>182.539993</td>\n",
       "      <td>183.509995</td>\n",
       "      <td>176.847519</td>\n",
       "      <td>20826900</td>\n",
       "      <td>0.0</td>\n",
       "      <td>0.0</td>\n",
       "    </tr>\n",
       "    <tr>\n",
       "      <th>7</th>\n",
       "      <td>7</td>\n",
       "      <td>Agilent Technologies shares are trading higher...</td>\n",
       "      <td>https://www.benzinga.com/wiim/20/05/16093805/a...</td>\n",
       "      <td>Benzinga Newsdesk</td>\n",
       "      <td>2020-05-22</td>\n",
       "      <td>A</td>\n",
       "      <td>183.190002</td>\n",
       "      <td>184.460007</td>\n",
       "      <td>182.539993</td>\n",
       "      <td>183.509995</td>\n",
       "      <td>176.847519</td>\n",
       "      <td>20826900</td>\n",
       "      <td>0.0</td>\n",
       "      <td>0.0</td>\n",
       "    </tr>\n",
       "    <tr>\n",
       "      <th>8</th>\n",
       "      <td>8</td>\n",
       "      <td>Wells Fargo Maintains Overweight on Agilent Te...</td>\n",
       "      <td>https://www.benzinga.com/news/20/05/16093505/w...</td>\n",
       "      <td>vishwanath@benzinga.com</td>\n",
       "      <td>2020-05-22</td>\n",
       "      <td>A</td>\n",
       "      <td>183.190002</td>\n",
       "      <td>184.460007</td>\n",
       "      <td>182.539993</td>\n",
       "      <td>183.509995</td>\n",
       "      <td>176.847519</td>\n",
       "      <td>20826900</td>\n",
       "      <td>0.0</td>\n",
       "      <td>0.0</td>\n",
       "    </tr>\n",
       "    <tr>\n",
       "      <th>9</th>\n",
       "      <td>9</td>\n",
       "      <td>10 Biggest Price Target Changes For Friday</td>\n",
       "      <td>https://www.benzinga.com/analyst-ratings/price...</td>\n",
       "      <td>Lisa Levin</td>\n",
       "      <td>2020-05-22</td>\n",
       "      <td>A</td>\n",
       "      <td>183.190002</td>\n",
       "      <td>184.460007</td>\n",
       "      <td>182.539993</td>\n",
       "      <td>183.509995</td>\n",
       "      <td>176.847519</td>\n",
       "      <td>20826900</td>\n",
       "      <td>0.0</td>\n",
       "      <td>0.0</td>\n",
       "    </tr>\n",
       "  </tbody>\n",
       "</table>\n",
       "</div>"
      ],
      "text/plain": [
       "   Unnamed: 0                                           headline  \\\n",
       "0           0            Stocks That Hit 52-Week Highs On Friday   \n",
       "1           1         Stocks That Hit 52-Week Highs On Wednesday   \n",
       "2           2                      71 Biggest Movers From Friday   \n",
       "3           3       46 Stocks Moving In Friday's Mid-Day Session   \n",
       "4           4  B of A Securities Maintains Neutral on Agilent...   \n",
       "5           5  CFRA Maintains Hold on Agilent Technologies, L...   \n",
       "6           6  UBS Maintains Neutral on Agilent Technologies,...   \n",
       "7           7  Agilent Technologies shares are trading higher...   \n",
       "8           8  Wells Fargo Maintains Overweight on Agilent Te...   \n",
       "9           9         10 Biggest Price Target Changes For Friday   \n",
       "\n",
       "                                                 url                publisher  \\\n",
       "0  https://www.benzinga.com/news/20/06/16190091/s...        Benzinga Insights   \n",
       "1  https://www.benzinga.com/news/20/06/16170189/s...        Benzinga Insights   \n",
       "2  https://www.benzinga.com/news/20/05/16103463/7...               Lisa Levin   \n",
       "3  https://www.benzinga.com/news/20/05/16095921/4...               Lisa Levin   \n",
       "4  https://www.benzinga.com/news/20/05/16095304/b...               Vick Meyer   \n",
       "5  https://www.benzinga.com/news/20/05/16095163/c...  vishwanath@benzinga.com   \n",
       "6  https://www.benzinga.com/news/20/05/16094027/u...  vishwanath@benzinga.com   \n",
       "7  https://www.benzinga.com/wiim/20/05/16093805/a...        Benzinga Newsdesk   \n",
       "8  https://www.benzinga.com/news/20/05/16093505/w...  vishwanath@benzinga.com   \n",
       "9  https://www.benzinga.com/analyst-ratings/price...               Lisa Levin   \n",
       "\n",
       "         date stock        Open        High         Low       Close  \\\n",
       "0  2020-06-05     A  182.619995  187.729996  182.009995  187.199997   \n",
       "1  2020-06-03     A  184.820007  185.940002  183.580002  185.360001   \n",
       "2  2020-05-26     A  186.339996  186.500000  181.100006  181.570007   \n",
       "3  2020-05-22     A  183.190002  184.460007  182.539993  183.509995   \n",
       "4  2020-05-22     A  183.190002  184.460007  182.539993  183.509995   \n",
       "5  2020-05-22     A  183.190002  184.460007  182.539993  183.509995   \n",
       "6  2020-05-22     A  183.190002  184.460007  182.539993  183.509995   \n",
       "7  2020-05-22     A  183.190002  184.460007  182.539993  183.509995   \n",
       "8  2020-05-22     A  183.190002  184.460007  182.539993  183.509995   \n",
       "9  2020-05-22     A  183.190002  184.460007  182.539993  183.509995   \n",
       "\n",
       "    Adj Close    Volume  Dividends  Stock Splits  \n",
       "0  180.403564  39893600        0.0           0.0  \n",
       "1  178.630417  27311000        0.0           0.0  \n",
       "2  174.977966  36073600        0.0           0.0  \n",
       "3  176.847519  20826900        0.0           0.0  \n",
       "4  176.847519  20826900        0.0           0.0  \n",
       "5  176.847519  20826900        0.0           0.0  \n",
       "6  176.847519  20826900        0.0           0.0  \n",
       "7  176.847519  20826900        0.0           0.0  \n",
       "8  176.847519  20826900        0.0           0.0  \n",
       "9  176.847519  20826900        0.0           0.0  "
      ]
     },
     "execution_count": 20,
     "metadata": {},
     "output_type": "execute_result"
    }
   ],
   "source": [
    "# Display the first few rows of the aligned data\n",
    "aligned_data.head(10)\n"
   ]
  },
  {
   "cell_type": "markdown",
   "id": "271e877a",
   "metadata": {},
   "source": [
    "2. Sentiment Analysis: Conduct sentiment analysis on news headlines"
   ]
  },
  {
   "cell_type": "code",
   "execution_count": 21,
   "id": "d90b9bde",
   "metadata": {},
   "outputs": [
    {
     "name": "stdout",
     "output_type": "stream",
     "text": [
      "                                            headline  sentiment\n",
      "0            Stocks That Hit 52-Week Highs On Friday        0.0\n",
      "1         Stocks That Hit 52-Week Highs On Wednesday        0.0\n",
      "2                      71 Biggest Movers From Friday        0.0\n",
      "3       46 Stocks Moving In Friday's Mid-Day Session        0.0\n",
      "4  B of A Securities Maintains Neutral on Agilent...        0.0\n"
     ]
    },
    {
     "data": {
      "application/vnd.microsoft.datawrangler.viewer.v0+json": {
       "columns": [
        {
         "name": "index",
         "rawType": "int64",
         "type": "integer"
        },
        {
         "name": "Unnamed: 0",
         "rawType": "int64",
         "type": "integer"
        },
        {
         "name": "headline",
         "rawType": "object",
         "type": "string"
        },
        {
         "name": "url",
         "rawType": "object",
         "type": "string"
        },
        {
         "name": "publisher",
         "rawType": "object",
         "type": "string"
        },
        {
         "name": "date",
         "rawType": "object",
         "type": "unknown"
        },
        {
         "name": "stock",
         "rawType": "object",
         "type": "string"
        },
        {
         "name": "Open",
         "rawType": "float64",
         "type": "float"
        },
        {
         "name": "High",
         "rawType": "float64",
         "type": "float"
        },
        {
         "name": "Low",
         "rawType": "float64",
         "type": "float"
        },
        {
         "name": "Close",
         "rawType": "float64",
         "type": "float"
        },
        {
         "name": "Adj Close",
         "rawType": "float64",
         "type": "float"
        },
        {
         "name": "Volume",
         "rawType": "int64",
         "type": "integer"
        },
        {
         "name": "Dividends",
         "rawType": "float64",
         "type": "float"
        },
        {
         "name": "Stock Splits",
         "rawType": "float64",
         "type": "float"
        },
        {
         "name": "sentiment",
         "rawType": "float64",
         "type": "float"
        }
       ],
       "ref": "d47fd3c6-1291-433d-bd19-3f2a0fac90ef",
       "rows": [
        [
         "0",
         "0",
         "Stocks That Hit 52-Week Highs On Friday",
         "https://www.benzinga.com/news/20/06/16190091/stocks-that-hit-52-week-highs-on-friday",
         "Benzinga Insights",
         "2020-06-05",
         "A",
         "182.6199951171875",
         "187.72999572753903",
         "182.00999450683597",
         "187.1999969482422",
         "180.403564453125",
         "39893600",
         "0.0",
         "0.0",
         "0.0"
        ],
        [
         "1",
         "1",
         "Stocks That Hit 52-Week Highs On Wednesday",
         "https://www.benzinga.com/news/20/06/16170189/stocks-that-hit-52-week-highs-on-wednesday",
         "Benzinga Insights",
         "2020-06-03",
         "A",
         "184.82000732421875",
         "185.94000244140625",
         "183.5800018310547",
         "185.3600006103516",
         "178.6304168701172",
         "27311000",
         "0.0",
         "0.0",
         "0.0"
        ],
        [
         "2",
         "2",
         "71 Biggest Movers From Friday",
         "https://www.benzinga.com/news/20/05/16103463/71-biggest-movers-from-friday",
         "Lisa Levin",
         "2020-05-26",
         "A",
         "186.33999633789065",
         "186.5",
         "181.1000061035156",
         "181.57000732421875",
         "174.97796630859375",
         "36073600",
         "0.0",
         "0.0",
         "0.0"
        ],
        [
         "3",
         "3",
         "46 Stocks Moving In Friday's Mid-Day Session",
         "https://www.benzinga.com/news/20/05/16095921/46-stocks-moving-in-fridays-mid-day-session",
         "Lisa Levin",
         "2020-05-22",
         "A",
         "183.19000244140625",
         "184.4600067138672",
         "182.5399932861328",
         "183.50999450683597",
         "176.84751892089844",
         "20826900",
         "0.0",
         "0.0",
         "0.0"
        ],
        [
         "4",
         "4",
         "B of A Securities Maintains Neutral on Agilent Technologies, Raises Price Target to $88",
         "https://www.benzinga.com/news/20/05/16095304/b-of-a-securities-maintains-neutral-on-agilent-technologies-raises-price-target-to-88",
         "Vick Meyer",
         "2020-05-22",
         "A",
         "183.19000244140625",
         "184.4600067138672",
         "182.5399932861328",
         "183.50999450683597",
         "176.84751892089844",
         "20826900",
         "0.0",
         "0.0",
         "0.0"
        ],
        [
         "5",
         "5",
         "CFRA Maintains Hold on Agilent Technologies, Lowers Price Target to $85",
         "https://www.benzinga.com/news/20/05/16095163/cfra-maintains-hold-on-agilent-technologies-lowers-price-target-to-85",
         "vishwanath@benzinga.com",
         "2020-05-22",
         "A",
         "183.19000244140625",
         "184.4600067138672",
         "182.5399932861328",
         "183.50999450683597",
         "176.84751892089844",
         "20826900",
         "0.0",
         "0.0",
         "0.0"
        ],
        [
         "6",
         "6",
         "UBS Maintains Neutral on Agilent Technologies, Raises Price Target to $87",
         "https://www.benzinga.com/news/20/05/16094027/ubs-maintains-neutral-on-agilent-technologies-raises-price-target-to-87",
         "vishwanath@benzinga.com",
         "2020-05-22",
         "A",
         "183.19000244140625",
         "184.4600067138672",
         "182.5399932861328",
         "183.50999450683597",
         "176.84751892089844",
         "20826900",
         "0.0",
         "0.0",
         "0.0"
        ],
        [
         "7",
         "7",
         "Agilent Technologies shares are trading higher after the company reported better-than-expected Q2 EPS and sales results.",
         "https://www.benzinga.com/wiim/20/05/16093805/agilent-technologies-shares-are-trading-higher-after-the-company-reported-better-than-expected-q2-ep",
         "Benzinga Newsdesk",
         "2020-05-22",
         "A",
         "183.19000244140625",
         "184.4600067138672",
         "182.5399932861328",
         "183.50999450683597",
         "176.84751892089844",
         "20826900",
         "0.0",
         "0.0",
         "0.25"
        ],
        [
         "8",
         "8",
         "Wells Fargo Maintains Overweight on Agilent Technologies, Raises Price Target to $95",
         "https://www.benzinga.com/news/20/05/16093505/wells-fargo-maintains-overweight-on-agilent-technologies-raises-price-target-to-95",
         "vishwanath@benzinga.com",
         "2020-05-22",
         "A",
         "183.19000244140625",
         "184.4600067138672",
         "182.5399932861328",
         "183.50999450683597",
         "176.84751892089844",
         "20826900",
         "0.0",
         "0.0",
         "0.0"
        ],
        [
         "9",
         "9",
         "10 Biggest Price Target Changes For Friday",
         "https://www.benzinga.com/analyst-ratings/price-target/20/05/16093262/10-biggest-price-target-changes-for-friday",
         "Lisa Levin",
         "2020-05-22",
         "A",
         "183.19000244140625",
         "184.4600067138672",
         "182.5399932861328",
         "183.50999450683597",
         "176.84751892089844",
         "20826900",
         "0.0",
         "0.0",
         "0.0"
        ]
       ],
       "shape": {
        "columns": 15,
        "rows": 10
       }
      },
      "text/html": [
       "<div>\n",
       "<style scoped>\n",
       "    .dataframe tbody tr th:only-of-type {\n",
       "        vertical-align: middle;\n",
       "    }\n",
       "\n",
       "    .dataframe tbody tr th {\n",
       "        vertical-align: top;\n",
       "    }\n",
       "\n",
       "    .dataframe thead th {\n",
       "        text-align: right;\n",
       "    }\n",
       "</style>\n",
       "<table border=\"1\" class=\"dataframe\">\n",
       "  <thead>\n",
       "    <tr style=\"text-align: right;\">\n",
       "      <th></th>\n",
       "      <th>Unnamed: 0</th>\n",
       "      <th>headline</th>\n",
       "      <th>url</th>\n",
       "      <th>publisher</th>\n",
       "      <th>date</th>\n",
       "      <th>stock</th>\n",
       "      <th>Open</th>\n",
       "      <th>High</th>\n",
       "      <th>Low</th>\n",
       "      <th>Close</th>\n",
       "      <th>Adj Close</th>\n",
       "      <th>Volume</th>\n",
       "      <th>Dividends</th>\n",
       "      <th>Stock Splits</th>\n",
       "      <th>sentiment</th>\n",
       "    </tr>\n",
       "  </thead>\n",
       "  <tbody>\n",
       "    <tr>\n",
       "      <th>0</th>\n",
       "      <td>0</td>\n",
       "      <td>Stocks That Hit 52-Week Highs On Friday</td>\n",
       "      <td>https://www.benzinga.com/news/20/06/16190091/s...</td>\n",
       "      <td>Benzinga Insights</td>\n",
       "      <td>2020-06-05</td>\n",
       "      <td>A</td>\n",
       "      <td>182.619995</td>\n",
       "      <td>187.729996</td>\n",
       "      <td>182.009995</td>\n",
       "      <td>187.199997</td>\n",
       "      <td>180.403564</td>\n",
       "      <td>39893600</td>\n",
       "      <td>0.0</td>\n",
       "      <td>0.0</td>\n",
       "      <td>0.00</td>\n",
       "    </tr>\n",
       "    <tr>\n",
       "      <th>1</th>\n",
       "      <td>1</td>\n",
       "      <td>Stocks That Hit 52-Week Highs On Wednesday</td>\n",
       "      <td>https://www.benzinga.com/news/20/06/16170189/s...</td>\n",
       "      <td>Benzinga Insights</td>\n",
       "      <td>2020-06-03</td>\n",
       "      <td>A</td>\n",
       "      <td>184.820007</td>\n",
       "      <td>185.940002</td>\n",
       "      <td>183.580002</td>\n",
       "      <td>185.360001</td>\n",
       "      <td>178.630417</td>\n",
       "      <td>27311000</td>\n",
       "      <td>0.0</td>\n",
       "      <td>0.0</td>\n",
       "      <td>0.00</td>\n",
       "    </tr>\n",
       "    <tr>\n",
       "      <th>2</th>\n",
       "      <td>2</td>\n",
       "      <td>71 Biggest Movers From Friday</td>\n",
       "      <td>https://www.benzinga.com/news/20/05/16103463/7...</td>\n",
       "      <td>Lisa Levin</td>\n",
       "      <td>2020-05-26</td>\n",
       "      <td>A</td>\n",
       "      <td>186.339996</td>\n",
       "      <td>186.500000</td>\n",
       "      <td>181.100006</td>\n",
       "      <td>181.570007</td>\n",
       "      <td>174.977966</td>\n",
       "      <td>36073600</td>\n",
       "      <td>0.0</td>\n",
       "      <td>0.0</td>\n",
       "      <td>0.00</td>\n",
       "    </tr>\n",
       "    <tr>\n",
       "      <th>3</th>\n",
       "      <td>3</td>\n",
       "      <td>46 Stocks Moving In Friday's Mid-Day Session</td>\n",
       "      <td>https://www.benzinga.com/news/20/05/16095921/4...</td>\n",
       "      <td>Lisa Levin</td>\n",
       "      <td>2020-05-22</td>\n",
       "      <td>A</td>\n",
       "      <td>183.190002</td>\n",
       "      <td>184.460007</td>\n",
       "      <td>182.539993</td>\n",
       "      <td>183.509995</td>\n",
       "      <td>176.847519</td>\n",
       "      <td>20826900</td>\n",
       "      <td>0.0</td>\n",
       "      <td>0.0</td>\n",
       "      <td>0.00</td>\n",
       "    </tr>\n",
       "    <tr>\n",
       "      <th>4</th>\n",
       "      <td>4</td>\n",
       "      <td>B of A Securities Maintains Neutral on Agilent...</td>\n",
       "      <td>https://www.benzinga.com/news/20/05/16095304/b...</td>\n",
       "      <td>Vick Meyer</td>\n",
       "      <td>2020-05-22</td>\n",
       "      <td>A</td>\n",
       "      <td>183.190002</td>\n",
       "      <td>184.460007</td>\n",
       "      <td>182.539993</td>\n",
       "      <td>183.509995</td>\n",
       "      <td>176.847519</td>\n",
       "      <td>20826900</td>\n",
       "      <td>0.0</td>\n",
       "      <td>0.0</td>\n",
       "      <td>0.00</td>\n",
       "    </tr>\n",
       "    <tr>\n",
       "      <th>5</th>\n",
       "      <td>5</td>\n",
       "      <td>CFRA Maintains Hold on Agilent Technologies, L...</td>\n",
       "      <td>https://www.benzinga.com/news/20/05/16095163/c...</td>\n",
       "      <td>vishwanath@benzinga.com</td>\n",
       "      <td>2020-05-22</td>\n",
       "      <td>A</td>\n",
       "      <td>183.190002</td>\n",
       "      <td>184.460007</td>\n",
       "      <td>182.539993</td>\n",
       "      <td>183.509995</td>\n",
       "      <td>176.847519</td>\n",
       "      <td>20826900</td>\n",
       "      <td>0.0</td>\n",
       "      <td>0.0</td>\n",
       "      <td>0.00</td>\n",
       "    </tr>\n",
       "    <tr>\n",
       "      <th>6</th>\n",
       "      <td>6</td>\n",
       "      <td>UBS Maintains Neutral on Agilent Technologies,...</td>\n",
       "      <td>https://www.benzinga.com/news/20/05/16094027/u...</td>\n",
       "      <td>vishwanath@benzinga.com</td>\n",
       "      <td>2020-05-22</td>\n",
       "      <td>A</td>\n",
       "      <td>183.190002</td>\n",
       "      <td>184.460007</td>\n",
       "      <td>182.539993</td>\n",
       "      <td>183.509995</td>\n",
       "      <td>176.847519</td>\n",
       "      <td>20826900</td>\n",
       "      <td>0.0</td>\n",
       "      <td>0.0</td>\n",
       "      <td>0.00</td>\n",
       "    </tr>\n",
       "    <tr>\n",
       "      <th>7</th>\n",
       "      <td>7</td>\n",
       "      <td>Agilent Technologies shares are trading higher...</td>\n",
       "      <td>https://www.benzinga.com/wiim/20/05/16093805/a...</td>\n",
       "      <td>Benzinga Newsdesk</td>\n",
       "      <td>2020-05-22</td>\n",
       "      <td>A</td>\n",
       "      <td>183.190002</td>\n",
       "      <td>184.460007</td>\n",
       "      <td>182.539993</td>\n",
       "      <td>183.509995</td>\n",
       "      <td>176.847519</td>\n",
       "      <td>20826900</td>\n",
       "      <td>0.0</td>\n",
       "      <td>0.0</td>\n",
       "      <td>0.25</td>\n",
       "    </tr>\n",
       "    <tr>\n",
       "      <th>8</th>\n",
       "      <td>8</td>\n",
       "      <td>Wells Fargo Maintains Overweight on Agilent Te...</td>\n",
       "      <td>https://www.benzinga.com/news/20/05/16093505/w...</td>\n",
       "      <td>vishwanath@benzinga.com</td>\n",
       "      <td>2020-05-22</td>\n",
       "      <td>A</td>\n",
       "      <td>183.190002</td>\n",
       "      <td>184.460007</td>\n",
       "      <td>182.539993</td>\n",
       "      <td>183.509995</td>\n",
       "      <td>176.847519</td>\n",
       "      <td>20826900</td>\n",
       "      <td>0.0</td>\n",
       "      <td>0.0</td>\n",
       "      <td>0.00</td>\n",
       "    </tr>\n",
       "    <tr>\n",
       "      <th>9</th>\n",
       "      <td>9</td>\n",
       "      <td>10 Biggest Price Target Changes For Friday</td>\n",
       "      <td>https://www.benzinga.com/analyst-ratings/price...</td>\n",
       "      <td>Lisa Levin</td>\n",
       "      <td>2020-05-22</td>\n",
       "      <td>A</td>\n",
       "      <td>183.190002</td>\n",
       "      <td>184.460007</td>\n",
       "      <td>182.539993</td>\n",
       "      <td>183.509995</td>\n",
       "      <td>176.847519</td>\n",
       "      <td>20826900</td>\n",
       "      <td>0.0</td>\n",
       "      <td>0.0</td>\n",
       "      <td>0.00</td>\n",
       "    </tr>\n",
       "  </tbody>\n",
       "</table>\n",
       "</div>"
      ],
      "text/plain": [
       "   Unnamed: 0                                           headline  \\\n",
       "0           0            Stocks That Hit 52-Week Highs On Friday   \n",
       "1           1         Stocks That Hit 52-Week Highs On Wednesday   \n",
       "2           2                      71 Biggest Movers From Friday   \n",
       "3           3       46 Stocks Moving In Friday's Mid-Day Session   \n",
       "4           4  B of A Securities Maintains Neutral on Agilent...   \n",
       "5           5  CFRA Maintains Hold on Agilent Technologies, L...   \n",
       "6           6  UBS Maintains Neutral on Agilent Technologies,...   \n",
       "7           7  Agilent Technologies shares are trading higher...   \n",
       "8           8  Wells Fargo Maintains Overweight on Agilent Te...   \n",
       "9           9         10 Biggest Price Target Changes For Friday   \n",
       "\n",
       "                                                 url                publisher  \\\n",
       "0  https://www.benzinga.com/news/20/06/16190091/s...        Benzinga Insights   \n",
       "1  https://www.benzinga.com/news/20/06/16170189/s...        Benzinga Insights   \n",
       "2  https://www.benzinga.com/news/20/05/16103463/7...               Lisa Levin   \n",
       "3  https://www.benzinga.com/news/20/05/16095921/4...               Lisa Levin   \n",
       "4  https://www.benzinga.com/news/20/05/16095304/b...               Vick Meyer   \n",
       "5  https://www.benzinga.com/news/20/05/16095163/c...  vishwanath@benzinga.com   \n",
       "6  https://www.benzinga.com/news/20/05/16094027/u...  vishwanath@benzinga.com   \n",
       "7  https://www.benzinga.com/wiim/20/05/16093805/a...        Benzinga Newsdesk   \n",
       "8  https://www.benzinga.com/news/20/05/16093505/w...  vishwanath@benzinga.com   \n",
       "9  https://www.benzinga.com/analyst-ratings/price...               Lisa Levin   \n",
       "\n",
       "         date stock        Open        High         Low       Close  \\\n",
       "0  2020-06-05     A  182.619995  187.729996  182.009995  187.199997   \n",
       "1  2020-06-03     A  184.820007  185.940002  183.580002  185.360001   \n",
       "2  2020-05-26     A  186.339996  186.500000  181.100006  181.570007   \n",
       "3  2020-05-22     A  183.190002  184.460007  182.539993  183.509995   \n",
       "4  2020-05-22     A  183.190002  184.460007  182.539993  183.509995   \n",
       "5  2020-05-22     A  183.190002  184.460007  182.539993  183.509995   \n",
       "6  2020-05-22     A  183.190002  184.460007  182.539993  183.509995   \n",
       "7  2020-05-22     A  183.190002  184.460007  182.539993  183.509995   \n",
       "8  2020-05-22     A  183.190002  184.460007  182.539993  183.509995   \n",
       "9  2020-05-22     A  183.190002  184.460007  182.539993  183.509995   \n",
       "\n",
       "    Adj Close    Volume  Dividends  Stock Splits  sentiment  \n",
       "0  180.403564  39893600        0.0           0.0       0.00  \n",
       "1  178.630417  27311000        0.0           0.0       0.00  \n",
       "2  174.977966  36073600        0.0           0.0       0.00  \n",
       "3  176.847519  20826900        0.0           0.0       0.00  \n",
       "4  176.847519  20826900        0.0           0.0       0.00  \n",
       "5  176.847519  20826900        0.0           0.0       0.00  \n",
       "6  176.847519  20826900        0.0           0.0       0.00  \n",
       "7  176.847519  20826900        0.0           0.0       0.25  \n",
       "8  176.847519  20826900        0.0           0.0       0.00  \n",
       "9  176.847519  20826900        0.0           0.0       0.00  "
      ]
     },
     "execution_count": 21,
     "metadata": {},
     "output_type": "execute_result"
    }
   ],
   "source": [
    "# Perform sentiment analysis on the 'headline' column of the aligned data\n",
    "analyze_sentiment(aligned_data, 'headline')  \n",
    "aligned_data.head(10)"
   ]
  },
  {
   "cell_type": "code",
   "execution_count": 22,
   "id": "87e2152e",
   "metadata": {},
   "outputs": [
    {
     "data": {
      "image/png": "[encoded data removed]",
      "text/plain": [
       "<Figure size 1400x800 with 1 Axes>"
      ]
     },
     "metadata": {},
     "output_type": "display_data"
    }
   ],
   "source": [
    "# Perform sentiment distribution plot\n",
    "sentiment_distribution_plot(aligned_data)"
   ]
  },
  {
   "cell_type": "code",
   "execution_count": 23,
   "id": "75efea83",
   "metadata": {},
   "outputs": [
    {
     "name": "stdout",
     "output_type": "stream",
     "text": [
      "          date       Close  daily_return\n",
      "7   2020-05-22  183.509995      0.000000\n",
      "8   2020-05-22  183.509995      0.000000\n",
      "10  2020-06-09  189.800003      0.034276\n",
      "11  2020-06-08  188.360001     -0.007587\n",
      "12  2020-06-08  188.360001      0.000000\n"
     ]
    }
   ],
   "source": [
    "# Calculate daily returns for the stock data\n",
    "daily_returns(aligned_data)\n",
    "# Drop rows with NaN values in the 'headline' or 'date' columns\n",
    "aligned_data = aligned_data.dropna()\n",
    "# Display the first few rows of the aligned data with daily returns\n",
    "print(aligned_data[['date', 'Close', 'daily_return']].head())\n",
    "\n"
   ]
  },
  {
   "cell_type": "markdown",
   "id": "0994b907",
   "metadata": {},
   "source": [
    "3. Calculate Daily Stock Returns: Compute the percentage change in daily closing prices to represent stock movements"
   ]
  },
  {
   "cell_type": "code",
   "execution_count": 24,
   "id": "01be5dd2",
   "metadata": {},
   "outputs": [
    {
     "data": {
      "image/png": "[encoded data removed]",
      "text/plain": [
       "<Figure size 1400x800 with 1 Axes>"
      ]
     },
     "metadata": {},
     "output_type": "display_data"
    }
   ],
   "source": [
    "# Plot daily returns\n",
    "plot_daily_returns(aligned_data)"
   ]
  },
  {
   "cell_type": "code",
   "execution_count": 25,
   "id": "4e747642",
   "metadata": {},
   "outputs": [
    {
     "data": {
      "application/vnd.microsoft.datawrangler.viewer.v0+json": {
       "columns": [
        {
         "name": "index",
         "rawType": "int64",
         "type": "integer"
        },
        {
         "name": "date",
         "rawType": "object",
         "type": "unknown"
        },
        {
         "name": "sentiment",
         "rawType": "float64",
         "type": "float"
        },
        {
         "name": "daily_return",
         "rawType": "float64",
         "type": "float"
        }
       ],
       "ref": "52d19e20-97e2-401a-85f6-357397bc5203",
       "rows": [
        [
         "0",
         "2011-04-28",
         "0.06818181818181818",
         "0.0324699736370071"
        ],
        [
         "1",
         "2011-04-28",
         "0.06818181818181818",
         "0.08050161110009046"
        ],
        [
         "2",
         "2011-04-29",
         "0.16666666666666669",
         "0.028979735083742852"
        ],
        [
         "3",
         "2011-04-29",
         "0.16666666666666669",
         "-0.7591973223405032"
        ],
        [
         "4",
         "2011-05-02",
         "-0.020833333333333332",
         "0.005880032033886318"
        ],
        [
         "5",
         "2011-05-02",
         "-0.020833333333333332",
         "-0.13340090109821012"
        ],
        [
         "6",
         "2011-05-02",
         "-0.020833333333333332",
         "-0.08487877997169724"
        ],
        [
         "7",
         "2011-05-02",
         "-0.020833333333333332",
         "0.038025912628153025"
        ],
        [
         "8",
         "2011-05-05",
         "0.0",
         "-0.162390381660512"
        ],
        [
         "9",
         "2011-05-06",
         "0.25",
         "-0.04397629897246347"
        ],
        [
         "10",
         "2011-05-06",
         "0.25",
         "-0.05133845232964407"
        ],
        [
         "11",
         "2011-05-09",
         "0.06818181818181818",
         "-0.1887562876909521"
        ],
        [
         "12",
         "2011-05-09",
         "0.06818181818181818",
         "0.030726275904759293"
        ],
        [
         "13",
         "2011-05-11",
         "-0.0875",
         "0.013184175575437385"
        ],
        [
         "14",
         "2011-05-12",
         "0.5",
         "0.04671348225791272"
        ],
        [
         "15",
         "2011-05-13",
         "-0.10370370370370373",
         "0.018722059321726103"
        ],
        [
         "16",
         "2011-05-13",
         "-0.10370370370370373",
         "-0.0844915674122163"
        ],
        [
         "17",
         "2011-05-13",
         "-0.10370370370370373",
         "0.010904703362995871"
        ],
        [
         "18",
         "2011-05-16",
         "0.0",
         "-0.017592984007633206"
        ],
        [
         "19",
         "2011-05-16",
         "0.0",
         "-0.09402658796087493"
        ],
        [
         "20",
         "2011-05-17",
         "0.0",
         "-0.00969304397817472"
        ],
        [
         "21",
         "2011-05-17",
         "0.0",
         "0.01911891114014508"
        ],
        [
         "22",
         "2011-05-18",
         "0.175",
         "0.026611281384609775"
        ],
        [
         "23",
         "2011-05-18",
         "0.175",
         "0.02618458362840026"
        ],
        [
         "24",
         "2011-05-19",
         "0.0",
         "0.01728395429961127"
        ],
        [
         "25",
         "2011-05-23",
         "-0.13333333333333333",
         "-0.16047241029234172"
        ],
        [
         "26",
         "2011-05-24",
         "0.10000000000000005",
         "-0.08279530237343546"
        ],
        [
         "27",
         "2011-05-24",
         "0.10000000000000005",
         "-0.04356437154335535"
        ],
        [
         "28",
         "2011-05-24",
         "0.10000000000000005",
         "-0.0028901608921853006"
        ],
        [
         "29",
         "2011-05-25",
         "0.29375",
         "-0.4340196634516047"
        ],
        [
         "30",
         "2011-05-25",
         "0.29375",
         "-0.10407405429416228"
        ],
        [
         "31",
         "2011-05-25",
         "0.29375",
         "-0.18716396680059777"
        ],
        [
         "32",
         "2011-05-25",
         "0.29375",
         "0.010442773367709268"
        ],
        [
         "33",
         "2011-05-25",
         "0.29375",
         "-0.10141157260398359"
        ],
        [
         "34",
         "2011-05-25",
         "0.29375",
         "-0.4958315805575739"
        ],
        [
         "35",
         "2011-05-25",
         "0.29375",
         "-0.4958315805575739"
        ],
        [
         "36",
         "2011-05-25",
         "0.29375",
         "-0.4958315805575739"
        ],
        [
         "37",
         "2011-05-27",
         "-0.25277777777777777",
         "0.029093964192739463"
        ],
        [
         "38",
         "2011-05-27",
         "-0.25277777777777777",
         "-0.43829402902977566"
        ],
        [
         "39",
         "2011-05-31",
         "0.14583333333333334",
         "0.053496228728221906"
        ],
        [
         "40",
         "2011-05-31",
         "0.14583333333333334",
         "-0.033989925898509354"
        ],
        [
         "41",
         "2011-05-31",
         "0.14583333333333334",
         "-0.056226406457289047"
        ],
        [
         "42",
         "2011-05-31",
         "0.14583333333333334",
         "-0.07575754905836807"
        ],
        [
         "43",
         "2011-05-31",
         "0.14583333333333334",
         "0.0"
        ],
        [
         "44",
         "2011-05-31",
         "0.14583333333333334",
         "-0.07575754905836807"
        ],
        [
         "45",
         "2011-06-01",
         "0.0",
         "-0.8341592511705898"
        ],
        [
         "46",
         "2011-06-01",
         "0.0",
         "-0.7730819294614807"
        ],
        [
         "47",
         "2011-06-02",
         "0.0",
         "-0.12023252054972389"
        ],
        [
         "48",
         "2011-06-03",
         "0.0",
         "-0.016049358102597777"
        ],
        [
         "49",
         "2011-06-06",
         "0.1558080808080808",
         "-0.11500180716543018"
        ]
       ],
       "shape": {
        "columns": 3,
        "rows": 27989
       }
      },
      "text/html": [
       "<div>\n",
       "<style scoped>\n",
       "    .dataframe tbody tr th:only-of-type {\n",
       "        vertical-align: middle;\n",
       "    }\n",
       "\n",
       "    .dataframe tbody tr th {\n",
       "        vertical-align: top;\n",
       "    }\n",
       "\n",
       "    .dataframe thead th {\n",
       "        text-align: right;\n",
       "    }\n",
       "</style>\n",
       "<table border=\"1\" class=\"dataframe\">\n",
       "  <thead>\n",
       "    <tr style=\"text-align: right;\">\n",
       "      <th></th>\n",
       "      <th>date</th>\n",
       "      <th>sentiment</th>\n",
       "      <th>daily_return</th>\n",
       "    </tr>\n",
       "  </thead>\n",
       "  <tbody>\n",
       "    <tr>\n",
       "      <th>0</th>\n",
       "      <td>2011-04-28</td>\n",
       "      <td>0.068182</td>\n",
       "      <td>0.032470</td>\n",
       "    </tr>\n",
       "    <tr>\n",
       "      <th>1</th>\n",
       "      <td>2011-04-28</td>\n",
       "      <td>0.068182</td>\n",
       "      <td>0.080502</td>\n",
       "    </tr>\n",
       "    <tr>\n",
       "      <th>2</th>\n",
       "      <td>2011-04-29</td>\n",
       "      <td>0.166667</td>\n",
       "      <td>0.028980</td>\n",
       "    </tr>\n",
       "    <tr>\n",
       "      <th>3</th>\n",
       "      <td>2011-04-29</td>\n",
       "      <td>0.166667</td>\n",
       "      <td>-0.759197</td>\n",
       "    </tr>\n",
       "    <tr>\n",
       "      <th>4</th>\n",
       "      <td>2011-05-02</td>\n",
       "      <td>-0.020833</td>\n",
       "      <td>0.005880</td>\n",
       "    </tr>\n",
       "    <tr>\n",
       "      <th>...</th>\n",
       "      <td>...</td>\n",
       "      <td>...</td>\n",
       "      <td>...</td>\n",
       "    </tr>\n",
       "    <tr>\n",
       "      <th>27984</th>\n",
       "      <td>2020-06-11</td>\n",
       "      <td>0.012137</td>\n",
       "      <td>0.944160</td>\n",
       "    </tr>\n",
       "    <tr>\n",
       "      <th>27985</th>\n",
       "      <td>2020-06-11</td>\n",
       "      <td>0.012137</td>\n",
       "      <td>0.000000</td>\n",
       "    </tr>\n",
       "    <tr>\n",
       "      <th>27986</th>\n",
       "      <td>2020-06-11</td>\n",
       "      <td>0.012137</td>\n",
       "      <td>0.358941</td>\n",
       "    </tr>\n",
       "    <tr>\n",
       "      <th>27987</th>\n",
       "      <td>2020-06-11</td>\n",
       "      <td>0.012137</td>\n",
       "      <td>0.000000</td>\n",
       "    </tr>\n",
       "    <tr>\n",
       "      <th>27988</th>\n",
       "      <td>2020-06-11</td>\n",
       "      <td>0.012137</td>\n",
       "      <td>0.867181</td>\n",
       "    </tr>\n",
       "  </tbody>\n",
       "</table>\n",
       "<p>27989 rows × 3 columns</p>\n",
       "</div>"
      ],
      "text/plain": [
       "             date  sentiment  daily_return\n",
       "0      2011-04-28   0.068182      0.032470\n",
       "1      2011-04-28   0.068182      0.080502\n",
       "2      2011-04-29   0.166667      0.028980\n",
       "3      2011-04-29   0.166667     -0.759197\n",
       "4      2011-05-02  -0.020833      0.005880\n",
       "...           ...        ...           ...\n",
       "27984  2020-06-11   0.012137      0.944160\n",
       "27985  2020-06-11   0.012137      0.000000\n",
       "27986  2020-06-11   0.012137      0.358941\n",
       "27987  2020-06-11   0.012137      0.000000\n",
       "27988  2020-06-11   0.012137      0.867181\n",
       "\n",
       "[27989 rows x 3 columns]"
      ]
     },
     "execution_count": 25,
     "metadata": {},
     "output_type": "execute_result"
    }
   ],
   "source": [
    "daily_sentiment_and_merge(aligned_data )"
   ]
  },
  {
   "cell_type": "code",
   "execution_count": 26,
   "id": "048af211",
   "metadata": {},
   "outputs": [
    {
     "data": {
      "application/vnd.microsoft.datawrangler.viewer.v0+json": {
       "columns": [
        {
         "name": "index",
         "rawType": "int64",
         "type": "integer"
        },
        {
         "name": "date",
         "rawType": "object",
         "type": "unknown"
        },
        {
         "name": "sentiment",
         "rawType": "float64",
         "type": "float"
        },
        {
         "name": "daily_return",
         "rawType": "float64",
         "type": "float"
        }
       ],
       "ref": "05c20216-568b-4e92-b3e7-ab670c3c61ba",
       "rows": [
        [
         "0",
         "2011-04-28",
         "0.06818181818181818",
         "0.0324699736370071"
        ],
        [
         "1",
         "2011-04-28",
         "0.06818181818181818",
         "0.08050161110009046"
        ],
        [
         "2",
         "2011-04-29",
         "0.16666666666666669",
         "0.028979735083742852"
        ],
        [
         "3",
         "2011-04-29",
         "0.16666666666666669",
         "-0.7591973223405032"
        ],
        [
         "4",
         "2011-05-02",
         "-0.020833333333333332",
         "0.005880032033886318"
        ],
        [
         "5",
         "2011-05-02",
         "-0.020833333333333332",
         "-0.13340090109821012"
        ],
        [
         "6",
         "2011-05-02",
         "-0.020833333333333332",
         "-0.08487877997169724"
        ],
        [
         "7",
         "2011-05-02",
         "-0.020833333333333332",
         "0.038025912628153025"
        ],
        [
         "8",
         "2011-05-05",
         "0.0",
         "-0.162390381660512"
        ],
        [
         "9",
         "2011-05-06",
         "0.25",
         "-0.04397629897246347"
        ]
       ],
       "shape": {
        "columns": 3,
        "rows": 10
       }
      },
      "text/html": [
       "<div>\n",
       "<style scoped>\n",
       "    .dataframe tbody tr th:only-of-type {\n",
       "        vertical-align: middle;\n",
       "    }\n",
       "\n",
       "    .dataframe tbody tr th {\n",
       "        vertical-align: top;\n",
       "    }\n",
       "\n",
       "    .dataframe thead th {\n",
       "        text-align: right;\n",
       "    }\n",
       "</style>\n",
       "<table border=\"1\" class=\"dataframe\">\n",
       "  <thead>\n",
       "    <tr style=\"text-align: right;\">\n",
       "      <th></th>\n",
       "      <th>date</th>\n",
       "      <th>sentiment</th>\n",
       "      <th>daily_return</th>\n",
       "    </tr>\n",
       "  </thead>\n",
       "  <tbody>\n",
       "    <tr>\n",
       "      <th>0</th>\n",
       "      <td>2011-04-28</td>\n",
       "      <td>0.068182</td>\n",
       "      <td>0.032470</td>\n",
       "    </tr>\n",
       "    <tr>\n",
       "      <th>1</th>\n",
       "      <td>2011-04-28</td>\n",
       "      <td>0.068182</td>\n",
       "      <td>0.080502</td>\n",
       "    </tr>\n",
       "    <tr>\n",
       "      <th>2</th>\n",
       "      <td>2011-04-29</td>\n",
       "      <td>0.166667</td>\n",
       "      <td>0.028980</td>\n",
       "    </tr>\n",
       "    <tr>\n",
       "      <th>3</th>\n",
       "      <td>2011-04-29</td>\n",
       "      <td>0.166667</td>\n",
       "      <td>-0.759197</td>\n",
       "    </tr>\n",
       "    <tr>\n",
       "      <th>4</th>\n",
       "      <td>2011-05-02</td>\n",
       "      <td>-0.020833</td>\n",
       "      <td>0.005880</td>\n",
       "    </tr>\n",
       "    <tr>\n",
       "      <th>5</th>\n",
       "      <td>2011-05-02</td>\n",
       "      <td>-0.020833</td>\n",
       "      <td>-0.133401</td>\n",
       "    </tr>\n",
       "    <tr>\n",
       "      <th>6</th>\n",
       "      <td>2011-05-02</td>\n",
       "      <td>-0.020833</td>\n",
       "      <td>-0.084879</td>\n",
       "    </tr>\n",
       "    <tr>\n",
       "      <th>7</th>\n",
       "      <td>2011-05-02</td>\n",
       "      <td>-0.020833</td>\n",
       "      <td>0.038026</td>\n",
       "    </tr>\n",
       "    <tr>\n",
       "      <th>8</th>\n",
       "      <td>2011-05-05</td>\n",
       "      <td>0.000000</td>\n",
       "      <td>-0.162390</td>\n",
       "    </tr>\n",
       "    <tr>\n",
       "      <th>9</th>\n",
       "      <td>2011-05-06</td>\n",
       "      <td>0.250000</td>\n",
       "      <td>-0.043976</td>\n",
       "    </tr>\n",
       "  </tbody>\n",
       "</table>\n",
       "</div>"
      ],
      "text/plain": [
       "         date  sentiment  daily_return\n",
       "0  2011-04-28   0.068182      0.032470\n",
       "1  2011-04-28   0.068182      0.080502\n",
       "2  2011-04-29   0.166667      0.028980\n",
       "3  2011-04-29   0.166667     -0.759197\n",
       "4  2011-05-02  -0.020833      0.005880\n",
       "5  2011-05-02  -0.020833     -0.133401\n",
       "6  2011-05-02  -0.020833     -0.084879\n",
       "7  2011-05-02  -0.020833      0.038026\n",
       "8  2011-05-05   0.000000     -0.162390\n",
       "9  2011-05-06   0.250000     -0.043976"
      ]
     },
     "execution_count": 26,
     "metadata": {},
     "output_type": "execute_result"
    }
   ],
   "source": [
    "# Calculate daily sentiment and merge with stock data\n",
    "merged_data = daily_sentiment_and_merge(aligned_data )\n",
    "merged_data.head(10)    "
   ]
  },
  {
   "cell_type": "markdown",
   "id": "a2dc6a75",
   "metadata": {},
   "source": [
    "4. Correlation Analysis: Use statistical methods to test the correlation between daily news sentiment scores and stock returns."
   ]
  },
  {
   "cell_type": "code",
   "execution_count": 27,
   "id": "1a215f06",
   "metadata": {},
   "outputs": [
    {
     "name": "stdout",
     "output_type": "stream",
     "text": [
      "Correlation between daily sentiment scores and stock returns: -0.03580675564529501\n"
     ]
    }
   ],
   "source": [
    "# Calculate the correlation between daily sentiment scores and stock returns\n",
    "correlation = merged_data['sentiment'].corr( merged_data['daily_return'])\n",
    "print(\"Correlation between daily sentiment scores and stock returns:\", correlation)"
   ]
  },
  {
   "cell_type": "code",
   "execution_count": 28,
   "id": "d0569420",
   "metadata": {},
   "outputs": [
    {
     "data": {
      "image/png": "[encoded data removed]",
      "text/plain": [
       "<Figure size 1400x800 with 1 Axes>"
      ]
     },
     "metadata": {},
     "output_type": "display_data"
    }
   ],
   "source": [
    "# Function to plot sentiment and daily return correlation\n",
    "plot_sentiment_and_daily_return_correlation(merged_data)"
   ]
  },
  {
   "cell_type": "code",
   "execution_count": 29,
   "id": "84134ccb",
   "metadata": {},
   "outputs": [],
   "source": [
    "# Calculate the correlation matrix between sentiment and daily returns\n",
    "correlation_matrix = merged_data[['sentiment', 'daily_return']].corr()"
   ]
  },
  {
   "cell_type": "code",
   "execution_count": 30,
   "id": "c9ceaa25",
   "metadata": {},
   "outputs": [
    {
     "data": {
      "image/png": "[encoded data removed]",
      "text/plain": [
       "<Figure size 1000x800 with 2 Axes>"
      ]
     },
     "metadata": {},
     "output_type": "display_data"
    }
   ],
   "source": [
    "# Function to plot the correlation heatmap\n",
    "\n",
    "correlation_heatmap(correlation_matrix)"
   ]
  }
 ],
 "metadata": {
  "kernelspec": {
   "display_name": ".venv311",
   "language": "python",
   "name": "python3"
  },
  "language_info": {
   "codemirror_mode": {
    "name": "ipython",
    "version": 3
   },
   "file_extension": ".py",
   "mimetype": "text/x-python",
   "name": "python",
   "nbconvert_exporter": "python",
   "pygments_lexer": "ipython3",
   "version": "3.11.0"
  }
 },
 "nbformat": 4,
 "nbformat_minor": 5
}
